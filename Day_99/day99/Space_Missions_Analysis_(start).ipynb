{
 "nbformat": 4,
 "nbformat_minor": 0,
 "metadata": {
  "kernelspec": {
   "display_name": "Python 3",
   "language": "python",
   "name": "python3"
  },
  "language_info": {
   "codemirror_mode": {
    "name": "ipython",
    "version": 3
   },
   "file_extension": ".py",
   "mimetype": "text/x-python",
   "name": "python",
   "nbconvert_exporter": "python",
   "pygments_lexer": "ipython3",
   "version": "3.7.9"
  },
  "papermill": {
   "duration": 28.468597,
   "end_time": "2020-10-20T21:34:26.910951",
   "environment_variables": {},
   "exception": null,
   "input_path": "__notebook__.ipynb",
   "output_path": "__notebook__.ipynb",
   "parameters": {},
   "start_time": "2020-10-20T21:33:58.442354",
   "version": "2.1.0"
  },
  "colab": {
   "name": "Space Missions Analysis (start).ipynb",
   "provenance": []
  }
 },
 "cells": [
  {
   "cell_type": "markdown",
   "metadata": {
    "id": "ka_FkvXBiABo"
   },
   "source": [
    "# Introduction"
   ]
  },
  {
   "cell_type": "markdown",
   "metadata": {
    "papermill": {
     "duration": 0.035434,
     "end_time": "2020-10-20T21:34:01.886225",
     "exception": false,
     "start_time": "2020-10-20T21:34:01.850791",
     "status": "completed"
    },
    "tags": [],
    "id": "AWaMmfxXa-p0"
   },
   "source": [
    "<center><img src=\"https://i.imgur.com/9hLRsjZ.jpg\" height=400></center>\n",
    "\n",
    "This dataset was scraped from [nextspaceflight.com](https://nextspaceflight.com/launches/past/?page=1) and includes all the space missions since the beginning of Space Race between the USA and the Soviet Union in 1957!"
   ]
  },
  {
   "cell_type": "markdown",
   "metadata": {
    "id": "ufzKRKS3bV0r"
   },
   "source": [
    "### Install Package with Country Codes"
   ]
  },
  {
   "cell_type": "code",
   "metadata": {
    "id": "0HxV9o6dbRUE",
    "outputId": "35464d43-d601-4b8f-81fd-6dbd400167f5",
    "colab": {
     "base_uri": "https://localhost:8080/"
    },
    "ExecuteTime": {
     "end_time": "2024-12-16T23:20:47.840763Z",
     "start_time": "2024-12-16T23:20:46.605066Z"
    }
   },
   "source": [
    "%pip install iso3166"
   ],
   "execution_count": 156,
   "outputs": [
    {
     "name": "stdout",
     "output_type": "stream",
     "text": [
      "Requirement already satisfied: iso3166 in /Library/Frameworks/Python.framework/Versions/3.11/lib/python3.11/site-packages (2.1.1)\r\n",
      "\r\n",
      "\u001B[1m[\u001B[0m\u001B[34;49mnotice\u001B[0m\u001B[1;39;49m]\u001B[0m\u001B[39;49m A new release of pip is available: \u001B[0m\u001B[31;49m23.2.1\u001B[0m\u001B[39;49m -> \u001B[0m\u001B[32;49m24.3.1\u001B[0m\r\n",
      "\u001B[1m[\u001B[0m\u001B[34;49mnotice\u001B[0m\u001B[1;39;49m]\u001B[0m\u001B[39;49m To update, run: \u001B[0m\u001B[32;49mpip3.11 install --upgrade pip\u001B[0m\r\n",
      "Note: you may need to restart the kernel to use updated packages.\n"
     ]
    }
   ]
  },
  {
   "cell_type": "markdown",
   "metadata": {
    "id": "sghkhFoLbof8"
   },
   "source": [
    "### Upgrade Plotly\n",
    "\n",
    "Run the cell below if you are working with Google Colab."
   ]
  },
  {
   "cell_type": "markdown",
   "metadata": {
    "id": "ErFDBihUi1jN"
   },
   "source": [
    "### Import Statements"
   ]
  },
  {
   "cell_type": "code",
   "metadata": {
    "_cell_guid": "b1076dfc-b9ad-4769-8c92-a6c4dae69d19",
    "_kg_hide-input": true,
    "_kg_hide-output": true,
    "_uuid": "8f2839f25d086af736a60e9eeb907d3b93b6e0e5",
    "execution": {
     "iopub.execute_input": "2020-10-20T21:34:02.101551Z",
     "iopub.status.busy": "2020-10-20T21:34:02.101085Z",
     "iopub.status.idle": "2020-10-20T21:34:03.726868Z",
     "shell.execute_reply": "2020-10-20T21:34:03.725783Z"
    },
    "papermill": {
     "duration": 1.665326,
     "end_time": "2020-10-20T21:34:03.726995",
     "exception": false,
     "start_time": "2020-10-20T21:34:02.061669",
     "status": "completed"
    },
    "tags": [],
    "id": "xdolY0-Sa-p1",
    "outputId": "7142dedb-82e9-457d-db44-cea4e121bdfe",
    "colab": {
     "base_uri": "https://localhost:8080/"
    },
    "ExecuteTime": {
     "end_time": "2024-12-17T00:36:34.636653Z",
     "start_time": "2024-12-17T00:36:34.630977Z"
    }
   },
   "source": [
    "import numpy as np\n",
    "import pandas as pd\n",
    "import matplotlib.pyplot as plt\n",
    "import seaborn as sns\n",
    "\n",
    "# These might be helpful:\n",
    "import plotly.express as px\n",
    "from pprint import pprint\n",
    "from iso3166 import countries\n",
    "from datetime import datetime, timedelta\n",
    "import iso3166\n",
    "import random"
   ],
   "execution_count": 285,
   "outputs": []
  },
  {
   "cell_type": "markdown",
   "metadata": {
    "id": "lovGPRgKxIgo"
   },
   "source": [
    "### Notebook Presentation"
   ]
  },
  {
   "cell_type": "code",
   "metadata": {
    "id": "DHEULCOjxIIm",
    "ExecuteTime": {
     "end_time": "2024-12-16T23:20:47.846821Z",
     "start_time": "2024-12-16T23:20:47.845009Z"
    }
   },
   "source": [
    "pd.options.display.float_format = '{:,.2f}'.format"
   ],
   "execution_count": 158,
   "outputs": []
  },
  {
   "cell_type": "markdown",
   "metadata": {
    "papermill": {
     "duration": 0.034606,
     "end_time": "2020-10-20T21:34:03.798396",
     "exception": false,
     "start_time": "2020-10-20T21:34:03.763790",
     "status": "completed"
    },
    "tags": [],
    "id": "yaT3QbjEa-p4"
   },
   "source": [
    "### Load the Data"
   ]
  },
  {
   "cell_type": "code",
   "metadata": {
    "_cell_guid": "79c7e3d0-c299-4dcb-8224-4455121ee9b0",
    "_kg_hide-input": true,
    "_uuid": "d629ff2d2480ee46fbb7e2d37f6b5fab8052498a",
    "execution": {
     "iopub.execute_input": "2020-10-20T21:34:03.874195Z",
     "iopub.status.busy": "2020-10-20T21:34:03.873775Z",
     "iopub.status.idle": "2020-10-20T21:34:03.921919Z",
     "shell.execute_reply": "2020-10-20T21:34:03.921418Z"
    },
    "papermill": {
     "duration": 0.08876,
     "end_time": "2020-10-20T21:34:03.922028",
     "exception": false,
     "start_time": "2020-10-20T21:34:03.833268",
     "status": "completed"
    },
    "tags": [],
    "id": "0lDOu8aka-p4",
    "ExecuteTime": {
     "end_time": "2024-12-16T23:20:47.856920Z",
     "start_time": "2024-12-16T23:20:47.848192Z"
    }
   },
   "source": [
    "df_data = pd.read_csv('mission_launches.csv')"
   ],
   "execution_count": 159,
   "outputs": []
  },
  {
   "cell_type": "markdown",
   "metadata": {
    "id": "jAnMiVcVjuKB"
   },
   "source": [
    "# Preliminary Data Exploration\n",
    "\n",
    "* What is the shape of `df_data`? \n",
    "* How many rows and columns does it have?\n",
    "* What are the column names?\n",
    "* Are there any NaN values or duplicates?"
   ]
  },
  {
   "cell_type": "code",
   "metadata": {
    "id": "0tIuYcYNlPFQ",
    "ExecuteTime": {
     "end_time": "2024-12-16T23:20:47.880094Z",
     "start_time": "2024-12-16T23:20:47.858936Z"
    }
   },
   "source": [
    "print(f\"Shape of data = {df_data.shape}\")\n",
    "print(f\"Rows = {len(df_data)}, Columns = {len(df_data.columns)}\")\n",
    "print(f\"Column names = {[colname for colname in list(df_data.columns) if 'Unnamed' not in colname]}\")\n",
    "nans = df_data.isnull()\n",
    "dups_false = df_data.duplicated().value_counts(False)\n",
    "if dups_false.item()==len(df_data) or nans:\n",
    "    print(\"We have NaNs and/or duplicates\")"
   ],
   "execution_count": 160,
   "outputs": [
    {
     "name": "stdout",
     "output_type": "stream",
     "text": [
      "Shape of data = (4324, 9)\n",
      "Rows = 4324, Columns = 9\n",
      "Column names = ['Organisation', 'Location', 'Date', 'Detail', 'Rocket_Status', 'Price', 'Mission_Status']\n",
      "We have NaNs and/or duplicates\n"
     ]
    }
   ]
  },
  {
   "cell_type": "markdown",
   "metadata": {
    "papermill": {
     "duration": 0.05406,
     "end_time": "2020-10-20T21:34:04.149973",
     "exception": false,
     "start_time": "2020-10-20T21:34:04.095913",
     "status": "completed"
    },
    "tags": [],
    "id": "KUN30y6ja-p9"
   },
   "source": [
    "## Data Cleaning - Check for Missing Values and Duplicates\n",
    "\n",
    "Consider removing columns containing junk data. "
   ]
  },
  {
   "cell_type": "code",
   "metadata": {
    "id": "wWQvnJb0k2Ig",
    "ExecuteTime": {
     "end_time": "2024-12-16T23:20:47.880693Z",
     "start_time": "2024-12-16T23:20:47.864295Z"
    }
   },
   "source": [
    "df_data = df_data.dropna()\n",
    "df_data = df_data.drop_duplicates()"
   ],
   "execution_count": 161,
   "outputs": []
  },
  {
   "cell_type": "markdown",
   "metadata": {
    "papermill": {
     "duration": 0.036712,
     "end_time": "2020-10-20T21:34:05.227032",
     "exception": false,
     "start_time": "2020-10-20T21:34:05.190320",
     "status": "completed"
    },
    "tags": [],
    "id": "QHon_T5sa-p_"
   },
   "source": [
    "## Descriptive Statistics"
   ]
  },
  {
   "cell_type": "markdown",
   "metadata": {
    "id": "cgCjcpeUkKPW"
   },
   "source": [
    "# Number of Launches per Company\n",
    "\n",
    "Create a chart that shows the number of space mission launches by organisation."
   ]
  },
  {
   "cell_type": "code",
   "execution_count": 162,
   "outputs": [],
   "source": [
    "organization_names = list(set(df_data['Organisation'].values))\n",
    "x = df_data.groupby('Organisation')\n",
    "launches = [0] * len(organization_names)\n",
    "\n",
    "for o in range(len(organization_names)):\n",
    "    launches[o] = len(x.get_group(organization_names[o]))"
   ],
   "metadata": {
    "collapsed": false,
    "ExecuteTime": {
     "end_time": "2024-12-16T23:20:47.880749Z",
     "start_time": "2024-12-16T23:20:47.868015Z"
    }
   }
  },
  {
   "cell_type": "code",
   "metadata": {
    "id": "qgneHUbWkw5v",
    "ExecuteTime": {
     "end_time": "2024-12-16T23:20:48.171037Z",
     "start_time": "2024-12-16T23:20:47.871815Z"
    }
   },
   "source": [
    "plt.figure(figsize=(32,8))\n",
    "plt.bar(organization_names, launches, color='hotpink')\n",
    "plt.xlabel(\"Company ID\")\n",
    "plt.ylabel(\"Number of Launches\")\n",
    "plt.title(\"Number of Launches Per Company\")"
   ],
   "execution_count": 163,
   "outputs": [
    {
     "data": {
      "text/plain": "Text(0.5, 1.0, 'Number of Launches Per Company')"
     },
     "execution_count": 163,
     "metadata": {},
     "output_type": "execute_result"
    },
    {
     "data": {
      "text/plain": "<Figure size 3200x800 with 1 Axes>",
      "image/png": "[encoded data removed]"
     },
     "metadata": {},
     "output_type": "display_data"
    }
   ]
  },
  {
   "cell_type": "markdown",
   "metadata": {
    "id": "7Gwteht2kR_h"
   },
   "source": [
    "# Number of Active versus Retired Rockets\n",
    "\n",
    "How many rockets are active compared to those that are decomissioned? "
   ]
  },
  {
   "cell_type": "code",
   "metadata": {
    "id": "SxmOWS9cmTq6",
    "ExecuteTime": {
     "end_time": "2024-12-16T23:20:48.175683Z",
     "start_time": "2024-12-16T23:20:48.171692Z"
    }
   },
   "source": [
    "rocket_statuses = df_data.groupby(\"Rocket_Status\")\n",
    "active_count = len(rocket_statuses.get_group('StatusActive'))\n",
    "retired_count = len(df_data) - active_count\n",
    "print(f\"{active_count} rockets are active\")\n",
    "print(f\"{retired_count} rockets are retired\")"
   ],
   "execution_count": 164,
   "outputs": [
    {
     "name": "stdout",
     "output_type": "stream",
     "text": [
      "586 rockets are active\n",
      "378 rockets are retired\n"
     ]
    }
   ]
  },
  {
   "cell_type": "markdown",
   "metadata": {
    "id": "y9WtP5xWkYkp"
   },
   "source": [
    "# Distribution of Mission Status\n",
    "\n",
    "How many missions were successful?\n",
    "How many missions failed?"
   ]
  },
  {
   "cell_type": "code",
   "metadata": {
    "id": "83kY1alqmUhb",
    "ExecuteTime": {
     "end_time": "2024-12-16T23:20:48.177574Z",
     "start_time": "2024-12-16T23:20:48.175826Z"
    }
   },
   "source": [
    "mission_statuses = df_data.groupby('Mission_Status')\n",
    "success_count = len(mission_statuses.get_group(\"Success\"))\n",
    "failed_count = len(df_data) - success_count\n",
    "print(f\"{success_count} missions succeeded\")\n",
    "print(f\"{failed_count} missions failed\")"
   ],
   "execution_count": 165,
   "outputs": [
    {
     "name": "stdout",
     "output_type": "stream",
     "text": [
      "910 missions succeeded\n",
      "54 missions failed\n"
     ]
    }
   ]
  },
  {
   "cell_type": "markdown",
   "metadata": {
    "papermill": {
     "duration": 0.03854,
     "end_time": "2020-10-20T21:34:05.968626",
     "exception": false,
     "start_time": "2020-10-20T21:34:05.930086",
     "status": "completed"
    },
    "tags": [],
    "id": "jgTCihuoa-qH"
   },
   "source": [
    "# How Expensive are the Launches? \n",
    "\n",
    "Create a histogram and visualise the distribution. The price column is given in USD millions (careful of missing values). "
   ]
  },
  {
   "cell_type": "code",
   "metadata": {
    "id": "PLOMhzZFnSCO",
    "ExecuteTime": {
     "end_time": "2024-12-16T23:20:48.182680Z",
     "start_time": "2024-12-16T23:20:48.179522Z"
    }
   },
   "source": [
    "prices = df_data['Price'].values\n",
    "groups = ['[0,20)', '[20,40)', '[40,60)', '[60,80)', '[80,100)', '100+']\n",
    "counts = [0, 0, 0, 0, 0, 0]\n",
    "for price in prices:\n",
    "    _price = float(price.replace(',',''))\n",
    "    if 0 <= _price < 20:\n",
    "        counts[0] += 1\n",
    "    elif 20 <= _price < 40:\n",
    "        counts[1] += 1\n",
    "    elif 40 <= _price < 60:\n",
    "        counts[2] += 1\n",
    "    elif 60 <= _price < 80:\n",
    "        counts[3] += 1\n",
    "    elif 80 <= _price < 100:\n",
    "        counts[4] += 1\n",
    "    else:\n",
    "        counts[5] += 1    "
   ],
   "execution_count": 166,
   "outputs": []
  },
  {
   "cell_type": "code",
   "metadata": {
    "id": "ru0IcY4nnSFU",
    "ExecuteTime": {
     "end_time": "2024-12-16T23:20:48.390779Z",
     "start_time": "2024-12-16T23:20:48.182932Z"
    }
   },
   "source": [
    "plt.figure()\n",
    "plt.hist(x=[0, 20, 40, 60, 80, 100], bins=[0, 20, 40, 60, 80, 100], weights=counts, color='cyan')\n",
    "plt.xlabel(\"Price of Launches\")\n",
    "plt.ylabel(\"Number of Launches\")\n",
    "plt.title(\"Number of Launches and their Prices\")"
   ],
   "execution_count": 167,
   "outputs": [
    {
     "data": {
      "text/plain": "Text(0.5, 1.0, 'Number of Launches and their Prices')"
     },
     "execution_count": 167,
     "metadata": {},
     "output_type": "execute_result"
    },
    {
     "data": {
      "text/plain": "<Figure size 640x480 with 1 Axes>",
      "image/png": "[encoded data removed]"
     },
     "metadata": {},
     "output_type": "display_data"
    }
   ]
  },
  {
   "cell_type": "markdown",
   "metadata": {
    "id": "QiNtigQDne3E"
   },
   "source": [
    "# Use a Choropleth Map to Show the Number of Launches by Country\n",
    "\n",
    "* Create a choropleth map using [the plotly documentation](https://plotly.com/python/choropleth-maps/)\n",
    "* Experiment with [plotly's available colours](https://plotly.com/python/builtin-colorscales/). I quite like the sequential colour `matter` on this map. \n",
    "* You'll need to extract a `country` feature as well as change the country names that no longer exist.\n",
    "\n",
    "Wrangle the Country Names\n",
    "\n",
    "You'll need to use a 3 letter country code for each country. You might have to change some country names.\n",
    "\n",
    "* Russia is the Russian Federation\n",
    "* New Mexico should be USA\n",
    "* Yellow Sea refers to China\n",
    "* Shahrud Missile Test Site should be Iran\n",
    "* Pacific Missile Range Facility should be USA\n",
    "* Barents Sea should be Russian Federation\n",
    "* Gran Canaria should be USA\n",
    "\n",
    "\n",
    "You can use the iso3166 package to convert the country names to Alpha3 format."
   ]
  },
  {
   "cell_type": "code",
   "metadata": {
    "id": "Y46-4GHrozhF",
    "ExecuteTime": {
     "end_time": "2024-12-16T23:20:48.390944Z",
     "start_time": "2024-12-16T23:20:48.268359Z"
    }
   },
   "source": [
    "df_data_copy = df_data.copy()\n",
    "df_data_copy = df_data_copy.dropna()\n",
    "df_data_copy = df_data_copy.drop_duplicates()\n",
    "\n",
    "def edit_country_name(country):\n",
    "    if country in ['Russia', 'Barents Sea']:\n",
    "        return 'RUSSIAN FEDERATION'\n",
    "    elif country in ['New Mexico', 'Pacific Missile Range Facility', 'Gran Canaria', 'USA']:\n",
    "        return 'UNITED STATES OF AMERICA'\n",
    "    elif country == 'Yellow Sea':\n",
    "        return 'CHINA'\n",
    "    elif country == 'Shahrud Missile Test Site':\n",
    "        return 'IRAN'\n",
    "    \n",
    "    return country.upper()\n",
    "\n",
    "COUNTRIES_ALPHA3 = []\n",
    "\n",
    "for ddc in range(len(df_data_copy)):\n",
    "    country_name = edit_country_name(df_data_copy.iloc[ddc]['Location'].split(', ')[-1])\n",
    "    for alpha3code in list(iso3166.countries_by_alpha3.keys()):\n",
    "        if iso3166.countries_by_alpha3[alpha3code].name.upper() == country_name:\n",
    "            COUNTRIES_ALPHA3.append(alpha3code)\n",
    "            break\n",
    "\n",
    "df_data_copy['Location'] = COUNTRIES_ALPHA3"
   ],
   "execution_count": 168,
   "outputs": []
  },
  {
   "cell_type": "code",
   "metadata": {
    "id": "ESGRWiX6ozZG",
    "ExecuteTime": {
     "end_time": "2024-12-16T23:20:48.391179Z",
     "start_time": "2024-12-16T23:20:48.315313Z"
    }
   },
   "source": [
    "country_groups = df_data_copy.groupby('Location').count()\n",
    "unique_countries = list(country_groups.index)\n",
    "launches_per_country = [0] * len(unique_countries)\n",
    "\n",
    "for c in range(len(unique_countries)):\n",
    "    launches_per_country[c] = len(df_data_copy[df_data_copy['Location']==unique_countries[c]])\n",
    "\n",
    "px.choropleth(locations=unique_countries, color=launches_per_country)"
   ],
   "execution_count": 169,
   "outputs": [
    {
     "data": {
      "application/vnd.plotly.v1+json": {
       "data": [
        {
         "coloraxis": "coloraxis",
         "geo": "geo",
         "hovertemplate": "locations=%{location}<br>color=%{z}<extra></extra>",
         "locations": [
          "CHN",
          "FRA",
          "IND",
          "JPN",
          "KAZ",
          "NZL",
          "RUS",
          "USA"
         ],
         "name": "",
         "z": [
          159,
          95,
          67,
          40,
          46,
          13,
          54,
          490
         ],
         "type": "choropleth"
        }
       ],
       "layout": {
        "template": {
         "data": {
          "histogram2dcontour": [
           {
            "type": "histogram2dcontour",
            "colorbar": {
             "outlinewidth": 0,
             "ticks": ""
            },
            "colorscale": [
             [
              0.0,
              "#0d0887"
             ],
             [
              0.1111111111111111,
              "#46039f"
             ],
             [
              0.2222222222222222,
              "#7201a8"
             ],
             [
              0.3333333333333333,
              "#9c179e"
             ],
             [
              0.4444444444444444,
              "#bd3786"
             ],
             [
              0.5555555555555556,
              "#d8576b"
             ],
             [
              0.6666666666666666,
              "#ed7953"
             ],
             [
              0.7777777777777778,
              "#fb9f3a"
             ],
             [
              0.8888888888888888,
              "#fdca26"
             ],
             [
              1.0,
              "#f0f921"
             ]
            ]
           }
          ],
          "choropleth": [
           {
            "type": "choropleth",
            "colorbar": {
             "outlinewidth": 0,
             "ticks": ""
            }
           }
          ],
          "histogram2d": [
           {
            "type": "histogram2d",
            "colorbar": {
             "outlinewidth": 0,
             "ticks": ""
            },
            "colorscale": [
             [
              0.0,
              "#0d0887"
             ],
             [
              0.1111111111111111,
              "#46039f"
             ],
             [
              0.2222222222222222,
              "#7201a8"
             ],
             [
              0.3333333333333333,
              "#9c179e"
             ],
             [
              0.4444444444444444,
              "#bd3786"
             ],
             [
              0.5555555555555556,
              "#d8576b"
             ],
             [
              0.6666666666666666,
              "#ed7953"
             ],
             [
              0.7777777777777778,
              "#fb9f3a"
             ],
             [
              0.8888888888888888,
              "#fdca26"
             ],
             [
              1.0,
              "#f0f921"
             ]
            ]
           }
          ],
          "heatmap": [
           {
            "type": "heatmap",
            "colorbar": {
             "outlinewidth": 0,
             "ticks": ""
            },
            "colorscale": [
             [
              0.0,
              "#0d0887"
             ],
             [
              0.1111111111111111,
              "#46039f"
             ],
             [
              0.2222222222222222,
              "#7201a8"
             ],
             [
              0.3333333333333333,
              "#9c179e"
             ],
             [
              0.4444444444444444,
              "#bd3786"
             ],
             [
              0.5555555555555556,
              "#d8576b"
             ],
             [
              0.6666666666666666,
              "#ed7953"
             ],
             [
              0.7777777777777778,
              "#fb9f3a"
             ],
             [
              0.8888888888888888,
              "#fdca26"
             ],
             [
              1.0,
              "#f0f921"
             ]
            ]
           }
          ],
          "heatmapgl": [
           {
            "type": "heatmapgl",
            "colorbar": {
             "outlinewidth": 0,
             "ticks": ""
            },
            "colorscale": [
             [
              0.0,
              "#0d0887"
             ],
             [
              0.1111111111111111,
              "#46039f"
             ],
             [
              0.2222222222222222,
              "#7201a8"
             ],
             [
              0.3333333333333333,
              "#9c179e"
             ],
             [
              0.4444444444444444,
              "#bd3786"
             ],
             [
              0.5555555555555556,
              "#d8576b"
             ],
             [
              0.6666666666666666,
              "#ed7953"
             ],
             [
              0.7777777777777778,
              "#fb9f3a"
             ],
             [
              0.8888888888888888,
              "#fdca26"
             ],
             [
              1.0,
              "#f0f921"
             ]
            ]
           }
          ],
          "contourcarpet": [
           {
            "type": "contourcarpet",
            "colorbar": {
             "outlinewidth": 0,
             "ticks": ""
            }
           }
          ],
          "contour": [
           {
            "type": "contour",
            "colorbar": {
             "outlinewidth": 0,
             "ticks": ""
            },
            "colorscale": [
             [
              0.0,
              "#0d0887"
             ],
             [
              0.1111111111111111,
              "#46039f"
             ],
             [
              0.2222222222222222,
              "#7201a8"
             ],
             [
              0.3333333333333333,
              "#9c179e"
             ],
             [
              0.4444444444444444,
              "#bd3786"
             ],
             [
              0.5555555555555556,
              "#d8576b"
             ],
             [
              0.6666666666666666,
              "#ed7953"
             ],
             [
              0.7777777777777778,
              "#fb9f3a"
             ],
             [
              0.8888888888888888,
              "#fdca26"
             ],
             [
              1.0,
              "#f0f921"
             ]
            ]
           }
          ],
          "surface": [
           {
            "type": "surface",
            "colorbar": {
             "outlinewidth": 0,
             "ticks": ""
            },
            "colorscale": [
             [
              0.0,
              "#0d0887"
             ],
             [
              0.1111111111111111,
              "#46039f"
             ],
             [
              0.2222222222222222,
              "#7201a8"
             ],
             [
              0.3333333333333333,
              "#9c179e"
             ],
             [
              0.4444444444444444,
              "#bd3786"
             ],
             [
              0.5555555555555556,
              "#d8576b"
             ],
             [
              0.6666666666666666,
              "#ed7953"
             ],
             [
              0.7777777777777778,
              "#fb9f3a"
             ],
             [
              0.8888888888888888,
              "#fdca26"
             ],
             [
              1.0,
              "#f0f921"
             ]
            ]
           }
          ],
          "mesh3d": [
           {
            "type": "mesh3d",
            "colorbar": {
             "outlinewidth": 0,
             "ticks": ""
            }
           }
          ],
          "scatter": [
           {
            "marker": {
             "line": {
              "color": "#283442"
             }
            },
            "type": "scatter"
           }
          ],
          "parcoords": [
           {
            "type": "parcoords",
            "line": {
             "colorbar": {
              "outlinewidth": 0,
              "ticks": ""
             }
            }
           }
          ],
          "scatterpolargl": [
           {
            "type": "scatterpolargl",
            "marker": {
             "colorbar": {
              "outlinewidth": 0,
              "ticks": ""
             }
            }
           }
          ],
          "bar": [
           {
            "error_x": {
             "color": "#f2f5fa"
            },
            "error_y": {
             "color": "#f2f5fa"
            },
            "marker": {
             "line": {
              "color": "rgb(17,17,17)",
              "width": 0.5
             },
             "pattern": {
              "fillmode": "overlay",
              "size": 10,
              "solidity": 0.2
             }
            },
            "type": "bar"
           }
          ],
          "scattergeo": [
           {
            "type": "scattergeo",
            "marker": {
             "colorbar": {
              "outlinewidth": 0,
              "ticks": ""
             }
            }
           }
          ],
          "scatterpolar": [
           {
            "type": "scatterpolar",
            "marker": {
             "colorbar": {
              "outlinewidth": 0,
              "ticks": ""
             }
            }
           }
          ],
          "histogram": [
           {
            "marker": {
             "pattern": {
              "fillmode": "overlay",
              "size": 10,
              "solidity": 0.2
             }
            },
            "type": "histogram"
           }
          ],
          "scattergl": [
           {
            "marker": {
             "line": {
              "color": "#283442"
             }
            },
            "type": "scattergl"
           }
          ],
          "scatter3d": [
           {
            "type": "scatter3d",
            "line": {
             "colorbar": {
              "outlinewidth": 0,
              "ticks": ""
             }
            },
            "marker": {
             "colorbar": {
              "outlinewidth": 0,
              "ticks": ""
             }
            }
           }
          ],
          "scattermapbox": [
           {
            "type": "scattermapbox",
            "marker": {
             "colorbar": {
              "outlinewidth": 0,
              "ticks": ""
             }
            }
           }
          ],
          "scatterternary": [
           {
            "type": "scatterternary",
            "marker": {
             "colorbar": {
              "outlinewidth": 0,
              "ticks": ""
             }
            }
           }
          ],
          "scattercarpet": [
           {
            "type": "scattercarpet",
            "marker": {
             "colorbar": {
              "outlinewidth": 0,
              "ticks": ""
             }
            }
           }
          ],
          "carpet": [
           {
            "aaxis": {
             "endlinecolor": "#A2B1C6",
             "gridcolor": "#506784",
             "linecolor": "#506784",
             "minorgridcolor": "#506784",
             "startlinecolor": "#A2B1C6"
            },
            "baxis": {
             "endlinecolor": "#A2B1C6",
             "gridcolor": "#506784",
             "linecolor": "#506784",
             "minorgridcolor": "#506784",
             "startlinecolor": "#A2B1C6"
            },
            "type": "carpet"
           }
          ],
          "table": [
           {
            "cells": {
             "fill": {
              "color": "#506784"
             },
             "line": {
              "color": "rgb(17,17,17)"
             }
            },
            "header": {
             "fill": {
              "color": "#2a3f5f"
             },
             "line": {
              "color": "rgb(17,17,17)"
             }
            },
            "type": "table"
           }
          ],
          "barpolar": [
           {
            "marker": {
             "line": {
              "color": "rgb(17,17,17)",
              "width": 0.5
             },
             "pattern": {
              "fillmode": "overlay",
              "size": 10,
              "solidity": 0.2
             }
            },
            "type": "barpolar"
           }
          ],
          "pie": [
           {
            "automargin": true,
            "type": "pie"
           }
          ]
         },
         "layout": {
          "autotypenumbers": "strict",
          "colorway": [
           "#636efa",
           "#EF553B",
           "#00cc96",
           "#ab63fa",
           "#FFA15A",
           "#19d3f3",
           "#FF6692",
           "#B6E880",
           "#FF97FF",
           "#FECB52"
          ],
          "font": {
           "color": "#f2f5fa"
          },
          "hovermode": "closest",
          "hoverlabel": {
           "align": "left"
          },
          "paper_bgcolor": "rgb(17,17,17)",
          "plot_bgcolor": "rgb(17,17,17)",
          "polar": {
           "bgcolor": "rgb(17,17,17)",
           "angularaxis": {
            "gridcolor": "#506784",
            "linecolor": "#506784",
            "ticks": ""
           },
           "radialaxis": {
            "gridcolor": "#506784",
            "linecolor": "#506784",
            "ticks": ""
           }
          },
          "ternary": {
           "bgcolor": "rgb(17,17,17)",
           "aaxis": {
            "gridcolor": "#506784",
            "linecolor": "#506784",
            "ticks": ""
           },
           "baxis": {
            "gridcolor": "#506784",
            "linecolor": "#506784",
            "ticks": ""
           },
           "caxis": {
            "gridcolor": "#506784",
            "linecolor": "#506784",
            "ticks": ""
           }
          },
          "coloraxis": {
           "colorbar": {
            "outlinewidth": 0,
            "ticks": ""
           }
          },
          "colorscale": {
           "sequential": [
            [
             0.0,
             "#0d0887"
            ],
            [
             0.1111111111111111,
             "#46039f"
            ],
            [
             0.2222222222222222,
             "#7201a8"
            ],
            [
             0.3333333333333333,
             "#9c179e"
            ],
            [
             0.4444444444444444,
             "#bd3786"
            ],
            [
             0.5555555555555556,
             "#d8576b"
            ],
            [
             0.6666666666666666,
             "#ed7953"
            ],
            [
             0.7777777777777778,
             "#fb9f3a"
            ],
            [
             0.8888888888888888,
             "#fdca26"
            ],
            [
             1.0,
             "#f0f921"
            ]
           ],
           "sequentialminus": [
            [
             0.0,
             "#0d0887"
            ],
            [
             0.1111111111111111,
             "#46039f"
            ],
            [
             0.2222222222222222,
             "#7201a8"
            ],
            [
             0.3333333333333333,
             "#9c179e"
            ],
            [
             0.4444444444444444,
             "#bd3786"
            ],
            [
             0.5555555555555556,
             "#d8576b"
            ],
            [
             0.6666666666666666,
             "#ed7953"
            ],
            [
             0.7777777777777778,
             "#fb9f3a"
            ],
            [
             0.8888888888888888,
             "#fdca26"
            ],
            [
             1.0,
             "#f0f921"
            ]
           ],
           "diverging": [
            [
             0,
             "#8e0152"
            ],
            [
             0.1,
             "#c51b7d"
            ],
            [
             0.2,
             "#de77ae"
            ],
            [
             0.3,
             "#f1b6da"
            ],
            [
             0.4,
             "#fde0ef"
            ],
            [
             0.5,
             "#f7f7f7"
            ],
            [
             0.6,
             "#e6f5d0"
            ],
            [
             0.7,
             "#b8e186"
            ],
            [
             0.8,
             "#7fbc41"
            ],
            [
             0.9,
             "#4d9221"
            ],
            [
             1,
             "#276419"
            ]
           ]
          },
          "xaxis": {
           "gridcolor": "#283442",
           "linecolor": "#506784",
           "ticks": "",
           "title": {
            "standoff": 15
           },
           "zerolinecolor": "#283442",
           "automargin": true,
           "zerolinewidth": 2
          },
          "yaxis": {
           "gridcolor": "#283442",
           "linecolor": "#506784",
           "ticks": "",
           "title": {
            "standoff": 15
           },
           "zerolinecolor": "#283442",
           "automargin": true,
           "zerolinewidth": 2
          },
          "scene": {
           "xaxis": {
            "backgroundcolor": "rgb(17,17,17)",
            "gridcolor": "#506784",
            "linecolor": "#506784",
            "showbackground": true,
            "ticks": "",
            "zerolinecolor": "#C8D4E3",
            "gridwidth": 2
           },
           "yaxis": {
            "backgroundcolor": "rgb(17,17,17)",
            "gridcolor": "#506784",
            "linecolor": "#506784",
            "showbackground": true,
            "ticks": "",
            "zerolinecolor": "#C8D4E3",
            "gridwidth": 2
           },
           "zaxis": {
            "backgroundcolor": "rgb(17,17,17)",
            "gridcolor": "#506784",
            "linecolor": "#506784",
            "showbackground": true,
            "ticks": "",
            "zerolinecolor": "#C8D4E3",
            "gridwidth": 2
           }
          },
          "shapedefaults": {
           "line": {
            "color": "#f2f5fa"
           }
          },
          "annotationdefaults": {
           "arrowcolor": "#f2f5fa",
           "arrowhead": 0,
           "arrowwidth": 1
          },
          "geo": {
           "bgcolor": "rgb(17,17,17)",
           "landcolor": "rgb(17,17,17)",
           "subunitcolor": "#506784",
           "showland": true,
           "showlakes": true,
           "lakecolor": "rgb(17,17,17)"
          },
          "title": {
           "x": 0.05
          },
          "updatemenudefaults": {
           "bgcolor": "#506784",
           "borderwidth": 0
          },
          "sliderdefaults": {
           "bgcolor": "#C8D4E3",
           "borderwidth": 1,
           "bordercolor": "rgb(17,17,17)",
           "tickwidth": 0
          },
          "mapbox": {
           "style": "dark"
          }
         }
        },
        "geo": {
         "domain": {
          "x": [
           0.0,
           1.0
          ],
          "y": [
           0.0,
           1.0
          ]
         },
         "center": {}
        },
        "coloraxis": {
         "colorbar": {
          "title": {
           "text": "color"
          }
         },
         "colorscale": [
          [
           0.0,
           "#0d0887"
          ],
          [
           0.1111111111111111,
           "#46039f"
          ],
          [
           0.2222222222222222,
           "#7201a8"
          ],
          [
           0.3333333333333333,
           "#9c179e"
          ],
          [
           0.4444444444444444,
           "#bd3786"
          ],
          [
           0.5555555555555556,
           "#d8576b"
          ],
          [
           0.6666666666666666,
           "#ed7953"
          ],
          [
           0.7777777777777778,
           "#fb9f3a"
          ],
          [
           0.8888888888888888,
           "#fdca26"
          ],
          [
           1.0,
           "#f0f921"
          ]
         ]
        },
        "legend": {
         "tracegroupgap": 0
        },
        "margin": {
         "t": 60
        }
       },
       "config": {
        "plotlyServerURL": "https://plot.ly"
       }
      },
      "text/html": "<div>                            <div id=\"a5f6100e-04aa-4971-bc44-4f57e7354152\" class=\"plotly-graph-div\" style=\"height:525px; width:100%;\"></div>            <script type=\"text/javascript\">                require([\"plotly\"], function(Plotly) {                    window.PLOTLYENV=window.PLOTLYENV || {};                                    if (document.getElementById(\"a5f6100e-04aa-4971-bc44-4f57e7354152\")) {                    Plotly.newPlot(                        \"a5f6100e-04aa-4971-bc44-4f57e7354152\",                        [{\"coloraxis\":\"coloraxis\",\"geo\":\"geo\",\"hovertemplate\":\"locations=%{location}\\u003cbr\\u003ecolor=%{z}\\u003cextra\\u003e\\u003c\\u002fextra\\u003e\",\"locations\":[\"CHN\",\"FRA\",\"IND\",\"JPN\",\"KAZ\",\"NZL\",\"RUS\",\"USA\"],\"name\":\"\",\"z\":[159,95,67,40,46,13,54,490],\"type\":\"choropleth\"}],                        {\"template\":{\"data\":{\"histogram2dcontour\":[{\"type\":\"histogram2dcontour\",\"colorbar\":{\"outlinewidth\":0,\"ticks\":\"\"},\"colorscale\":[[0.0,\"#0d0887\"],[0.1111111111111111,\"#46039f\"],[0.2222222222222222,\"#7201a8\"],[0.3333333333333333,\"#9c179e\"],[0.4444444444444444,\"#bd3786\"],[0.5555555555555556,\"#d8576b\"],[0.6666666666666666,\"#ed7953\"],[0.7777777777777778,\"#fb9f3a\"],[0.8888888888888888,\"#fdca26\"],[1.0,\"#f0f921\"]]}],\"choropleth\":[{\"type\":\"choropleth\",\"colorbar\":{\"outlinewidth\":0,\"ticks\":\"\"}}],\"histogram2d\":[{\"type\":\"histogram2d\",\"colorbar\":{\"outlinewidth\":0,\"ticks\":\"\"},\"colorscale\":[[0.0,\"#0d0887\"],[0.1111111111111111,\"#46039f\"],[0.2222222222222222,\"#7201a8\"],[0.3333333333333333,\"#9c179e\"],[0.4444444444444444,\"#bd3786\"],[0.5555555555555556,\"#d8576b\"],[0.6666666666666666,\"#ed7953\"],[0.7777777777777778,\"#fb9f3a\"],[0.8888888888888888,\"#fdca26\"],[1.0,\"#f0f921\"]]}],\"heatmap\":[{\"type\":\"heatmap\",\"colorbar\":{\"outlinewidth\":0,\"ticks\":\"\"},\"colorscale\":[[0.0,\"#0d0887\"],[0.1111111111111111,\"#46039f\"],[0.2222222222222222,\"#7201a8\"],[0.3333333333333333,\"#9c179e\"],[0.4444444444444444,\"#bd3786\"],[0.5555555555555556,\"#d8576b\"],[0.6666666666666666,\"#ed7953\"],[0.7777777777777778,\"#fb9f3a\"],[0.8888888888888888,\"#fdca26\"],[1.0,\"#f0f921\"]]}],\"heatmapgl\":[{\"type\":\"heatmapgl\",\"colorbar\":{\"outlinewidth\":0,\"ticks\":\"\"},\"colorscale\":[[0.0,\"#0d0887\"],[0.1111111111111111,\"#46039f\"],[0.2222222222222222,\"#7201a8\"],[0.3333333333333333,\"#9c179e\"],[0.4444444444444444,\"#bd3786\"],[0.5555555555555556,\"#d8576b\"],[0.6666666666666666,\"#ed7953\"],[0.7777777777777778,\"#fb9f3a\"],[0.8888888888888888,\"#fdca26\"],[1.0,\"#f0f921\"]]}],\"contourcarpet\":[{\"type\":\"contourcarpet\",\"colorbar\":{\"outlinewidth\":0,\"ticks\":\"\"}}],\"contour\":[{\"type\":\"contour\",\"colorbar\":{\"outlinewidth\":0,\"ticks\":\"\"},\"colorscale\":[[0.0,\"#0d0887\"],[0.1111111111111111,\"#46039f\"],[0.2222222222222222,\"#7201a8\"],[0.3333333333333333,\"#9c179e\"],[0.4444444444444444,\"#bd3786\"],[0.5555555555555556,\"#d8576b\"],[0.6666666666666666,\"#ed7953\"],[0.7777777777777778,\"#fb9f3a\"],[0.8888888888888888,\"#fdca26\"],[1.0,\"#f0f921\"]]}],\"surface\":[{\"type\":\"surface\",\"colorbar\":{\"outlinewidth\":0,\"ticks\":\"\"},\"colorscale\":[[0.0,\"#0d0887\"],[0.1111111111111111,\"#46039f\"],[0.2222222222222222,\"#7201a8\"],[0.3333333333333333,\"#9c179e\"],[0.4444444444444444,\"#bd3786\"],[0.5555555555555556,\"#d8576b\"],[0.6666666666666666,\"#ed7953\"],[0.7777777777777778,\"#fb9f3a\"],[0.8888888888888888,\"#fdca26\"],[1.0,\"#f0f921\"]]}],\"mesh3d\":[{\"type\":\"mesh3d\",\"colorbar\":{\"outlinewidth\":0,\"ticks\":\"\"}}],\"scatter\":[{\"marker\":{\"line\":{\"color\":\"#283442\"}},\"type\":\"scatter\"}],\"parcoords\":[{\"type\":\"parcoords\",\"line\":{\"colorbar\":{\"outlinewidth\":0,\"ticks\":\"\"}}}],\"scatterpolargl\":[{\"type\":\"scatterpolargl\",\"marker\":{\"colorbar\":{\"outlinewidth\":0,\"ticks\":\"\"}}}],\"bar\":[{\"error_x\":{\"color\":\"#f2f5fa\"},\"error_y\":{\"color\":\"#f2f5fa\"},\"marker\":{\"line\":{\"color\":\"rgb(17,17,17)\",\"width\":0.5},\"pattern\":{\"fillmode\":\"overlay\",\"size\":10,\"solidity\":0.2}},\"type\":\"bar\"}],\"scattergeo\":[{\"type\":\"scattergeo\",\"marker\":{\"colorbar\":{\"outlinewidth\":0,\"ticks\":\"\"}}}],\"scatterpolar\":[{\"type\":\"scatterpolar\",\"marker\":{\"colorbar\":{\"outlinewidth\":0,\"ticks\":\"\"}}}],\"histogram\":[{\"marker\":{\"pattern\":{\"fillmode\":\"overlay\",\"size\":10,\"solidity\":0.2}},\"type\":\"histogram\"}],\"scattergl\":[{\"marker\":{\"line\":{\"color\":\"#283442\"}},\"type\":\"scattergl\"}],\"scatter3d\":[{\"type\":\"scatter3d\",\"line\":{\"colorbar\":{\"outlinewidth\":0,\"ticks\":\"\"}},\"marker\":{\"colorbar\":{\"outlinewidth\":0,\"ticks\":\"\"}}}],\"scattermapbox\":[{\"type\":\"scattermapbox\",\"marker\":{\"colorbar\":{\"outlinewidth\":0,\"ticks\":\"\"}}}],\"scatterternary\":[{\"type\":\"scatterternary\",\"marker\":{\"colorbar\":{\"outlinewidth\":0,\"ticks\":\"\"}}}],\"scattercarpet\":[{\"type\":\"scattercarpet\",\"marker\":{\"colorbar\":{\"outlinewidth\":0,\"ticks\":\"\"}}}],\"carpet\":[{\"aaxis\":{\"endlinecolor\":\"#A2B1C6\",\"gridcolor\":\"#506784\",\"linecolor\":\"#506784\",\"minorgridcolor\":\"#506784\",\"startlinecolor\":\"#A2B1C6\"},\"baxis\":{\"endlinecolor\":\"#A2B1C6\",\"gridcolor\":\"#506784\",\"linecolor\":\"#506784\",\"minorgridcolor\":\"#506784\",\"startlinecolor\":\"#A2B1C6\"},\"type\":\"carpet\"}],\"table\":[{\"cells\":{\"fill\":{\"color\":\"#506784\"},\"line\":{\"color\":\"rgb(17,17,17)\"}},\"header\":{\"fill\":{\"color\":\"#2a3f5f\"},\"line\":{\"color\":\"rgb(17,17,17)\"}},\"type\":\"table\"}],\"barpolar\":[{\"marker\":{\"line\":{\"color\":\"rgb(17,17,17)\",\"width\":0.5},\"pattern\":{\"fillmode\":\"overlay\",\"size\":10,\"solidity\":0.2}},\"type\":\"barpolar\"}],\"pie\":[{\"automargin\":true,\"type\":\"pie\"}]},\"layout\":{\"autotypenumbers\":\"strict\",\"colorway\":[\"#636efa\",\"#EF553B\",\"#00cc96\",\"#ab63fa\",\"#FFA15A\",\"#19d3f3\",\"#FF6692\",\"#B6E880\",\"#FF97FF\",\"#FECB52\"],\"font\":{\"color\":\"#f2f5fa\"},\"hovermode\":\"closest\",\"hoverlabel\":{\"align\":\"left\"},\"paper_bgcolor\":\"rgb(17,17,17)\",\"plot_bgcolor\":\"rgb(17,17,17)\",\"polar\":{\"bgcolor\":\"rgb(17,17,17)\",\"angularaxis\":{\"gridcolor\":\"#506784\",\"linecolor\":\"#506784\",\"ticks\":\"\"},\"radialaxis\":{\"gridcolor\":\"#506784\",\"linecolor\":\"#506784\",\"ticks\":\"\"}},\"ternary\":{\"bgcolor\":\"rgb(17,17,17)\",\"aaxis\":{\"gridcolor\":\"#506784\",\"linecolor\":\"#506784\",\"ticks\":\"\"},\"baxis\":{\"gridcolor\":\"#506784\",\"linecolor\":\"#506784\",\"ticks\":\"\"},\"caxis\":{\"gridcolor\":\"#506784\",\"linecolor\":\"#506784\",\"ticks\":\"\"}},\"coloraxis\":{\"colorbar\":{\"outlinewidth\":0,\"ticks\":\"\"}},\"colorscale\":{\"sequential\":[[0.0,\"#0d0887\"],[0.1111111111111111,\"#46039f\"],[0.2222222222222222,\"#7201a8\"],[0.3333333333333333,\"#9c179e\"],[0.4444444444444444,\"#bd3786\"],[0.5555555555555556,\"#d8576b\"],[0.6666666666666666,\"#ed7953\"],[0.7777777777777778,\"#fb9f3a\"],[0.8888888888888888,\"#fdca26\"],[1.0,\"#f0f921\"]],\"sequentialminus\":[[0.0,\"#0d0887\"],[0.1111111111111111,\"#46039f\"],[0.2222222222222222,\"#7201a8\"],[0.3333333333333333,\"#9c179e\"],[0.4444444444444444,\"#bd3786\"],[0.5555555555555556,\"#d8576b\"],[0.6666666666666666,\"#ed7953\"],[0.7777777777777778,\"#fb9f3a\"],[0.8888888888888888,\"#fdca26\"],[1.0,\"#f0f921\"]],\"diverging\":[[0,\"#8e0152\"],[0.1,\"#c51b7d\"],[0.2,\"#de77ae\"],[0.3,\"#f1b6da\"],[0.4,\"#fde0ef\"],[0.5,\"#f7f7f7\"],[0.6,\"#e6f5d0\"],[0.7,\"#b8e186\"],[0.8,\"#7fbc41\"],[0.9,\"#4d9221\"],[1,\"#276419\"]]},\"xaxis\":{\"gridcolor\":\"#283442\",\"linecolor\":\"#506784\",\"ticks\":\"\",\"title\":{\"standoff\":15},\"zerolinecolor\":\"#283442\",\"automargin\":true,\"zerolinewidth\":2},\"yaxis\":{\"gridcolor\":\"#283442\",\"linecolor\":\"#506784\",\"ticks\":\"\",\"title\":{\"standoff\":15},\"zerolinecolor\":\"#283442\",\"automargin\":true,\"zerolinewidth\":2},\"scene\":{\"xaxis\":{\"backgroundcolor\":\"rgb(17,17,17)\",\"gridcolor\":\"#506784\",\"linecolor\":\"#506784\",\"showbackground\":true,\"ticks\":\"\",\"zerolinecolor\":\"#C8D4E3\",\"gridwidth\":2},\"yaxis\":{\"backgroundcolor\":\"rgb(17,17,17)\",\"gridcolor\":\"#506784\",\"linecolor\":\"#506784\",\"showbackground\":true,\"ticks\":\"\",\"zerolinecolor\":\"#C8D4E3\",\"gridwidth\":2},\"zaxis\":{\"backgroundcolor\":\"rgb(17,17,17)\",\"gridcolor\":\"#506784\",\"linecolor\":\"#506784\",\"showbackground\":true,\"ticks\":\"\",\"zerolinecolor\":\"#C8D4E3\",\"gridwidth\":2}},\"shapedefaults\":{\"line\":{\"color\":\"#f2f5fa\"}},\"annotationdefaults\":{\"arrowcolor\":\"#f2f5fa\",\"arrowhead\":0,\"arrowwidth\":1},\"geo\":{\"bgcolor\":\"rgb(17,17,17)\",\"landcolor\":\"rgb(17,17,17)\",\"subunitcolor\":\"#506784\",\"showland\":true,\"showlakes\":true,\"lakecolor\":\"rgb(17,17,17)\"},\"title\":{\"x\":0.05},\"updatemenudefaults\":{\"bgcolor\":\"#506784\",\"borderwidth\":0},\"sliderdefaults\":{\"bgcolor\":\"#C8D4E3\",\"borderwidth\":1,\"bordercolor\":\"rgb(17,17,17)\",\"tickwidth\":0},\"mapbox\":{\"style\":\"dark\"}}},\"geo\":{\"domain\":{\"x\":[0.0,1.0],\"y\":[0.0,1.0]},\"center\":{}},\"coloraxis\":{\"colorbar\":{\"title\":{\"text\":\"color\"}},\"colorscale\":[[0.0,\"#0d0887\"],[0.1111111111111111,\"#46039f\"],[0.2222222222222222,\"#7201a8\"],[0.3333333333333333,\"#9c179e\"],[0.4444444444444444,\"#bd3786\"],[0.5555555555555556,\"#d8576b\"],[0.6666666666666666,\"#ed7953\"],[0.7777777777777778,\"#fb9f3a\"],[0.8888888888888888,\"#fdca26\"],[1.0,\"#f0f921\"]]},\"legend\":{\"tracegroupgap\":0},\"margin\":{\"t\":60}},                        {\"responsive\": true}                    ).then(function(){\n                            \nvar gd = document.getElementById('a5f6100e-04aa-4971-bc44-4f57e7354152');\nvar x = new MutationObserver(function (mutations, observer) {{\n        var display = window.getComputedStyle(gd).display;\n        if (!display || display === 'none') {{\n            console.log([gd, 'removed!']);\n            Plotly.purge(gd);\n            observer.disconnect();\n        }}\n}});\n\n// Listen for the removal of the full notebook cells\nvar notebookContainer = gd.closest('#notebook-container');\nif (notebookContainer) {{\n    x.observe(notebookContainer, {childList: true});\n}}\n\n// Listen for the clearing of the current output cell\nvar outputEl = gd.closest('.output');\nif (outputEl) {{\n    x.observe(outputEl, {childList: true});\n}}\n\n                        })                };                });            </script>        </div>"
     },
     "metadata": {},
     "output_type": "display_data"
    }
   ]
  },
  {
   "cell_type": "markdown",
   "metadata": {
    "id": "F3pwYSUlo_AK"
   },
   "source": [
    "# Use a Choropleth Map to Show the Number of Failures by Country\n"
   ]
  },
  {
   "cell_type": "code",
   "execution_count": 170,
   "outputs": [
    {
     "data": {
      "application/vnd.plotly.v1+json": {
       "data": [
        {
         "coloraxis": "coloraxis",
         "geo": "geo",
         "hovertemplate": "locations=%{location}<br>color=%{z}<extra></extra>",
         "locations": [
          "CHN",
          "FRA",
          "IND",
          "JPN",
          "KAZ",
          "NZL",
          "RUS",
          "USA"
         ],
         "name": "",
         "z": [
          4,
          2,
          5,
          0,
          2,
          2,
          1,
          20
         ],
         "type": "choropleth"
        }
       ],
       "layout": {
        "template": {
         "data": {
          "histogram2dcontour": [
           {
            "type": "histogram2dcontour",
            "colorbar": {
             "outlinewidth": 0,
             "ticks": ""
            },
            "colorscale": [
             [
              0.0,
              "#0d0887"
             ],
             [
              0.1111111111111111,
              "#46039f"
             ],
             [
              0.2222222222222222,
              "#7201a8"
             ],
             [
              0.3333333333333333,
              "#9c179e"
             ],
             [
              0.4444444444444444,
              "#bd3786"
             ],
             [
              0.5555555555555556,
              "#d8576b"
             ],
             [
              0.6666666666666666,
              "#ed7953"
             ],
             [
              0.7777777777777778,
              "#fb9f3a"
             ],
             [
              0.8888888888888888,
              "#fdca26"
             ],
             [
              1.0,
              "#f0f921"
             ]
            ]
           }
          ],
          "choropleth": [
           {
            "type": "choropleth",
            "colorbar": {
             "outlinewidth": 0,
             "ticks": ""
            }
           }
          ],
          "histogram2d": [
           {
            "type": "histogram2d",
            "colorbar": {
             "outlinewidth": 0,
             "ticks": ""
            },
            "colorscale": [
             [
              0.0,
              "#0d0887"
             ],
             [
              0.1111111111111111,
              "#46039f"
             ],
             [
              0.2222222222222222,
              "#7201a8"
             ],
             [
              0.3333333333333333,
              "#9c179e"
             ],
             [
              0.4444444444444444,
              "#bd3786"
             ],
             [
              0.5555555555555556,
              "#d8576b"
             ],
             [
              0.6666666666666666,
              "#ed7953"
             ],
             [
              0.7777777777777778,
              "#fb9f3a"
             ],
             [
              0.8888888888888888,
              "#fdca26"
             ],
             [
              1.0,
              "#f0f921"
             ]
            ]
           }
          ],
          "heatmap": [
           {
            "type": "heatmap",
            "colorbar": {
             "outlinewidth": 0,
             "ticks": ""
            },
            "colorscale": [
             [
              0.0,
              "#0d0887"
             ],
             [
              0.1111111111111111,
              "#46039f"
             ],
             [
              0.2222222222222222,
              "#7201a8"
             ],
             [
              0.3333333333333333,
              "#9c179e"
             ],
             [
              0.4444444444444444,
              "#bd3786"
             ],
             [
              0.5555555555555556,
              "#d8576b"
             ],
             [
              0.6666666666666666,
              "#ed7953"
             ],
             [
              0.7777777777777778,
              "#fb9f3a"
             ],
             [
              0.8888888888888888,
              "#fdca26"
             ],
             [
              1.0,
              "#f0f921"
             ]
            ]
           }
          ],
          "heatmapgl": [
           {
            "type": "heatmapgl",
            "colorbar": {
             "outlinewidth": 0,
             "ticks": ""
            },
            "colorscale": [
             [
              0.0,
              "#0d0887"
             ],
             [
              0.1111111111111111,
              "#46039f"
             ],
             [
              0.2222222222222222,
              "#7201a8"
             ],
             [
              0.3333333333333333,
              "#9c179e"
             ],
             [
              0.4444444444444444,
              "#bd3786"
             ],
             [
              0.5555555555555556,
              "#d8576b"
             ],
             [
              0.6666666666666666,
              "#ed7953"
             ],
             [
              0.7777777777777778,
              "#fb9f3a"
             ],
             [
              0.8888888888888888,
              "#fdca26"
             ],
             [
              1.0,
              "#f0f921"
             ]
            ]
           }
          ],
          "contourcarpet": [
           {
            "type": "contourcarpet",
            "colorbar": {
             "outlinewidth": 0,
             "ticks": ""
            }
           }
          ],
          "contour": [
           {
            "type": "contour",
            "colorbar": {
             "outlinewidth": 0,
             "ticks": ""
            },
            "colorscale": [
             [
              0.0,
              "#0d0887"
             ],
             [
              0.1111111111111111,
              "#46039f"
             ],
             [
              0.2222222222222222,
              "#7201a8"
             ],
             [
              0.3333333333333333,
              "#9c179e"
             ],
             [
              0.4444444444444444,
              "#bd3786"
             ],
             [
              0.5555555555555556,
              "#d8576b"
             ],
             [
              0.6666666666666666,
              "#ed7953"
             ],
             [
              0.7777777777777778,
              "#fb9f3a"
             ],
             [
              0.8888888888888888,
              "#fdca26"
             ],
             [
              1.0,
              "#f0f921"
             ]
            ]
           }
          ],
          "surface": [
           {
            "type": "surface",
            "colorbar": {
             "outlinewidth": 0,
             "ticks": ""
            },
            "colorscale": [
             [
              0.0,
              "#0d0887"
             ],
             [
              0.1111111111111111,
              "#46039f"
             ],
             [
              0.2222222222222222,
              "#7201a8"
             ],
             [
              0.3333333333333333,
              "#9c179e"
             ],
             [
              0.4444444444444444,
              "#bd3786"
             ],
             [
              0.5555555555555556,
              "#d8576b"
             ],
             [
              0.6666666666666666,
              "#ed7953"
             ],
             [
              0.7777777777777778,
              "#fb9f3a"
             ],
             [
              0.8888888888888888,
              "#fdca26"
             ],
             [
              1.0,
              "#f0f921"
             ]
            ]
           }
          ],
          "mesh3d": [
           {
            "type": "mesh3d",
            "colorbar": {
             "outlinewidth": 0,
             "ticks": ""
            }
           }
          ],
          "scatter": [
           {
            "marker": {
             "line": {
              "color": "#283442"
             }
            },
            "type": "scatter"
           }
          ],
          "parcoords": [
           {
            "type": "parcoords",
            "line": {
             "colorbar": {
              "outlinewidth": 0,
              "ticks": ""
             }
            }
           }
          ],
          "scatterpolargl": [
           {
            "type": "scatterpolargl",
            "marker": {
             "colorbar": {
              "outlinewidth": 0,
              "ticks": ""
             }
            }
           }
          ],
          "bar": [
           {
            "error_x": {
             "color": "#f2f5fa"
            },
            "error_y": {
             "color": "#f2f5fa"
            },
            "marker": {
             "line": {
              "color": "rgb(17,17,17)",
              "width": 0.5
             },
             "pattern": {
              "fillmode": "overlay",
              "size": 10,
              "solidity": 0.2
             }
            },
            "type": "bar"
           }
          ],
          "scattergeo": [
           {
            "type": "scattergeo",
            "marker": {
             "colorbar": {
              "outlinewidth": 0,
              "ticks": ""
             }
            }
           }
          ],
          "scatterpolar": [
           {
            "type": "scatterpolar",
            "marker": {
             "colorbar": {
              "outlinewidth": 0,
              "ticks": ""
             }
            }
           }
          ],
          "histogram": [
           {
            "marker": {
             "pattern": {
              "fillmode": "overlay",
              "size": 10,
              "solidity": 0.2
             }
            },
            "type": "histogram"
           }
          ],
          "scattergl": [
           {
            "marker": {
             "line": {
              "color": "#283442"
             }
            },
            "type": "scattergl"
           }
          ],
          "scatter3d": [
           {
            "type": "scatter3d",
            "line": {
             "colorbar": {
              "outlinewidth": 0,
              "ticks": ""
             }
            },
            "marker": {
             "colorbar": {
              "outlinewidth": 0,
              "ticks": ""
             }
            }
           }
          ],
          "scattermapbox": [
           {
            "type": "scattermapbox",
            "marker": {
             "colorbar": {
              "outlinewidth": 0,
              "ticks": ""
             }
            }
           }
          ],
          "scatterternary": [
           {
            "type": "scatterternary",
            "marker": {
             "colorbar": {
              "outlinewidth": 0,
              "ticks": ""
             }
            }
           }
          ],
          "scattercarpet": [
           {
            "type": "scattercarpet",
            "marker": {
             "colorbar": {
              "outlinewidth": 0,
              "ticks": ""
             }
            }
           }
          ],
          "carpet": [
           {
            "aaxis": {
             "endlinecolor": "#A2B1C6",
             "gridcolor": "#506784",
             "linecolor": "#506784",
             "minorgridcolor": "#506784",
             "startlinecolor": "#A2B1C6"
            },
            "baxis": {
             "endlinecolor": "#A2B1C6",
             "gridcolor": "#506784",
             "linecolor": "#506784",
             "minorgridcolor": "#506784",
             "startlinecolor": "#A2B1C6"
            },
            "type": "carpet"
           }
          ],
          "table": [
           {
            "cells": {
             "fill": {
              "color": "#506784"
             },
             "line": {
              "color": "rgb(17,17,17)"
             }
            },
            "header": {
             "fill": {
              "color": "#2a3f5f"
             },
             "line": {
              "color": "rgb(17,17,17)"
             }
            },
            "type": "table"
           }
          ],
          "barpolar": [
           {
            "marker": {
             "line": {
              "color": "rgb(17,17,17)",
              "width": 0.5
             },
             "pattern": {
              "fillmode": "overlay",
              "size": 10,
              "solidity": 0.2
             }
            },
            "type": "barpolar"
           }
          ],
          "pie": [
           {
            "automargin": true,
            "type": "pie"
           }
          ]
         },
         "layout": {
          "autotypenumbers": "strict",
          "colorway": [
           "#636efa",
           "#EF553B",
           "#00cc96",
           "#ab63fa",
           "#FFA15A",
           "#19d3f3",
           "#FF6692",
           "#B6E880",
           "#FF97FF",
           "#FECB52"
          ],
          "font": {
           "color": "#f2f5fa"
          },
          "hovermode": "closest",
          "hoverlabel": {
           "align": "left"
          },
          "paper_bgcolor": "rgb(17,17,17)",
          "plot_bgcolor": "rgb(17,17,17)",
          "polar": {
           "bgcolor": "rgb(17,17,17)",
           "angularaxis": {
            "gridcolor": "#506784",
            "linecolor": "#506784",
            "ticks": ""
           },
           "radialaxis": {
            "gridcolor": "#506784",
            "linecolor": "#506784",
            "ticks": ""
           }
          },
          "ternary": {
           "bgcolor": "rgb(17,17,17)",
           "aaxis": {
            "gridcolor": "#506784",
            "linecolor": "#506784",
            "ticks": ""
           },
           "baxis": {
            "gridcolor": "#506784",
            "linecolor": "#506784",
            "ticks": ""
           },
           "caxis": {
            "gridcolor": "#506784",
            "linecolor": "#506784",
            "ticks": ""
           }
          },
          "coloraxis": {
           "colorbar": {
            "outlinewidth": 0,
            "ticks": ""
           }
          },
          "colorscale": {
           "sequential": [
            [
             0.0,
             "#0d0887"
            ],
            [
             0.1111111111111111,
             "#46039f"
            ],
            [
             0.2222222222222222,
             "#7201a8"
            ],
            [
             0.3333333333333333,
             "#9c179e"
            ],
            [
             0.4444444444444444,
             "#bd3786"
            ],
            [
             0.5555555555555556,
             "#d8576b"
            ],
            [
             0.6666666666666666,
             "#ed7953"
            ],
            [
             0.7777777777777778,
             "#fb9f3a"
            ],
            [
             0.8888888888888888,
             "#fdca26"
            ],
            [
             1.0,
             "#f0f921"
            ]
           ],
           "sequentialminus": [
            [
             0.0,
             "#0d0887"
            ],
            [
             0.1111111111111111,
             "#46039f"
            ],
            [
             0.2222222222222222,
             "#7201a8"
            ],
            [
             0.3333333333333333,
             "#9c179e"
            ],
            [
             0.4444444444444444,
             "#bd3786"
            ],
            [
             0.5555555555555556,
             "#d8576b"
            ],
            [
             0.6666666666666666,
             "#ed7953"
            ],
            [
             0.7777777777777778,
             "#fb9f3a"
            ],
            [
             0.8888888888888888,
             "#fdca26"
            ],
            [
             1.0,
             "#f0f921"
            ]
           ],
           "diverging": [
            [
             0,
             "#8e0152"
            ],
            [
             0.1,
             "#c51b7d"
            ],
            [
             0.2,
             "#de77ae"
            ],
            [
             0.3,
             "#f1b6da"
            ],
            [
             0.4,
             "#fde0ef"
            ],
            [
             0.5,
             "#f7f7f7"
            ],
            [
             0.6,
             "#e6f5d0"
            ],
            [
             0.7,
             "#b8e186"
            ],
            [
             0.8,
             "#7fbc41"
            ],
            [
             0.9,
             "#4d9221"
            ],
            [
             1,
             "#276419"
            ]
           ]
          },
          "xaxis": {
           "gridcolor": "#283442",
           "linecolor": "#506784",
           "ticks": "",
           "title": {
            "standoff": 15
           },
           "zerolinecolor": "#283442",
           "automargin": true,
           "zerolinewidth": 2
          },
          "yaxis": {
           "gridcolor": "#283442",
           "linecolor": "#506784",
           "ticks": "",
           "title": {
            "standoff": 15
           },
           "zerolinecolor": "#283442",
           "automargin": true,
           "zerolinewidth": 2
          },
          "scene": {
           "xaxis": {
            "backgroundcolor": "rgb(17,17,17)",
            "gridcolor": "#506784",
            "linecolor": "#506784",
            "showbackground": true,
            "ticks": "",
            "zerolinecolor": "#C8D4E3",
            "gridwidth": 2
           },
           "yaxis": {
            "backgroundcolor": "rgb(17,17,17)",
            "gridcolor": "#506784",
            "linecolor": "#506784",
            "showbackground": true,
            "ticks": "",
            "zerolinecolor": "#C8D4E3",
            "gridwidth": 2
           },
           "zaxis": {
            "backgroundcolor": "rgb(17,17,17)",
            "gridcolor": "#506784",
            "linecolor": "#506784",
            "showbackground": true,
            "ticks": "",
            "zerolinecolor": "#C8D4E3",
            "gridwidth": 2
           }
          },
          "shapedefaults": {
           "line": {
            "color": "#f2f5fa"
           }
          },
          "annotationdefaults": {
           "arrowcolor": "#f2f5fa",
           "arrowhead": 0,
           "arrowwidth": 1
          },
          "geo": {
           "bgcolor": "rgb(17,17,17)",
           "landcolor": "rgb(17,17,17)",
           "subunitcolor": "#506784",
           "showland": true,
           "showlakes": true,
           "lakecolor": "rgb(17,17,17)"
          },
          "title": {
           "x": 0.05
          },
          "updatemenudefaults": {
           "bgcolor": "#506784",
           "borderwidth": 0
          },
          "sliderdefaults": {
           "bgcolor": "#C8D4E3",
           "borderwidth": 1,
           "bordercolor": "rgb(17,17,17)",
           "tickwidth": 0
          },
          "mapbox": {
           "style": "dark"
          }
         }
        },
        "geo": {
         "domain": {
          "x": [
           0.0,
           1.0
          ],
          "y": [
           0.0,
           1.0
          ]
         },
         "center": {}
        },
        "coloraxis": {
         "colorbar": {
          "title": {
           "text": "color"
          }
         },
         "colorscale": [
          [
           0.0,
           "#0d0887"
          ],
          [
           0.1111111111111111,
           "#46039f"
          ],
          [
           0.2222222222222222,
           "#7201a8"
          ],
          [
           0.3333333333333333,
           "#9c179e"
          ],
          [
           0.4444444444444444,
           "#bd3786"
          ],
          [
           0.5555555555555556,
           "#d8576b"
          ],
          [
           0.6666666666666666,
           "#ed7953"
          ],
          [
           0.7777777777777778,
           "#fb9f3a"
          ],
          [
           0.8888888888888888,
           "#fdca26"
          ],
          [
           1.0,
           "#f0f921"
          ]
         ]
        },
        "legend": {
         "tracegroupgap": 0
        },
        "margin": {
         "t": 60
        }
       },
       "config": {
        "plotlyServerURL": "https://plot.ly"
       }
      },
      "text/html": "<div>                            <div id=\"521b0b62-ffb8-4765-8cd7-d85716c07791\" class=\"plotly-graph-div\" style=\"height:525px; width:100%;\"></div>            <script type=\"text/javascript\">                require([\"plotly\"], function(Plotly) {                    window.PLOTLYENV=window.PLOTLYENV || {};                                    if (document.getElementById(\"521b0b62-ffb8-4765-8cd7-d85716c07791\")) {                    Plotly.newPlot(                        \"521b0b62-ffb8-4765-8cd7-d85716c07791\",                        [{\"coloraxis\":\"coloraxis\",\"geo\":\"geo\",\"hovertemplate\":\"locations=%{location}\\u003cbr\\u003ecolor=%{z}\\u003cextra\\u003e\\u003c\\u002fextra\\u003e\",\"locations\":[\"CHN\",\"FRA\",\"IND\",\"JPN\",\"KAZ\",\"NZL\",\"RUS\",\"USA\"],\"name\":\"\",\"z\":[4,2,5,0,2,2,1,20],\"type\":\"choropleth\"}],                        {\"template\":{\"data\":{\"histogram2dcontour\":[{\"type\":\"histogram2dcontour\",\"colorbar\":{\"outlinewidth\":0,\"ticks\":\"\"},\"colorscale\":[[0.0,\"#0d0887\"],[0.1111111111111111,\"#46039f\"],[0.2222222222222222,\"#7201a8\"],[0.3333333333333333,\"#9c179e\"],[0.4444444444444444,\"#bd3786\"],[0.5555555555555556,\"#d8576b\"],[0.6666666666666666,\"#ed7953\"],[0.7777777777777778,\"#fb9f3a\"],[0.8888888888888888,\"#fdca26\"],[1.0,\"#f0f921\"]]}],\"choropleth\":[{\"type\":\"choropleth\",\"colorbar\":{\"outlinewidth\":0,\"ticks\":\"\"}}],\"histogram2d\":[{\"type\":\"histogram2d\",\"colorbar\":{\"outlinewidth\":0,\"ticks\":\"\"},\"colorscale\":[[0.0,\"#0d0887\"],[0.1111111111111111,\"#46039f\"],[0.2222222222222222,\"#7201a8\"],[0.3333333333333333,\"#9c179e\"],[0.4444444444444444,\"#bd3786\"],[0.5555555555555556,\"#d8576b\"],[0.6666666666666666,\"#ed7953\"],[0.7777777777777778,\"#fb9f3a\"],[0.8888888888888888,\"#fdca26\"],[1.0,\"#f0f921\"]]}],\"heatmap\":[{\"type\":\"heatmap\",\"colorbar\":{\"outlinewidth\":0,\"ticks\":\"\"},\"colorscale\":[[0.0,\"#0d0887\"],[0.1111111111111111,\"#46039f\"],[0.2222222222222222,\"#7201a8\"],[0.3333333333333333,\"#9c179e\"],[0.4444444444444444,\"#bd3786\"],[0.5555555555555556,\"#d8576b\"],[0.6666666666666666,\"#ed7953\"],[0.7777777777777778,\"#fb9f3a\"],[0.8888888888888888,\"#fdca26\"],[1.0,\"#f0f921\"]]}],\"heatmapgl\":[{\"type\":\"heatmapgl\",\"colorbar\":{\"outlinewidth\":0,\"ticks\":\"\"},\"colorscale\":[[0.0,\"#0d0887\"],[0.1111111111111111,\"#46039f\"],[0.2222222222222222,\"#7201a8\"],[0.3333333333333333,\"#9c179e\"],[0.4444444444444444,\"#bd3786\"],[0.5555555555555556,\"#d8576b\"],[0.6666666666666666,\"#ed7953\"],[0.7777777777777778,\"#fb9f3a\"],[0.8888888888888888,\"#fdca26\"],[1.0,\"#f0f921\"]]}],\"contourcarpet\":[{\"type\":\"contourcarpet\",\"colorbar\":{\"outlinewidth\":0,\"ticks\":\"\"}}],\"contour\":[{\"type\":\"contour\",\"colorbar\":{\"outlinewidth\":0,\"ticks\":\"\"},\"colorscale\":[[0.0,\"#0d0887\"],[0.1111111111111111,\"#46039f\"],[0.2222222222222222,\"#7201a8\"],[0.3333333333333333,\"#9c179e\"],[0.4444444444444444,\"#bd3786\"],[0.5555555555555556,\"#d8576b\"],[0.6666666666666666,\"#ed7953\"],[0.7777777777777778,\"#fb9f3a\"],[0.8888888888888888,\"#fdca26\"],[1.0,\"#f0f921\"]]}],\"surface\":[{\"type\":\"surface\",\"colorbar\":{\"outlinewidth\":0,\"ticks\":\"\"},\"colorscale\":[[0.0,\"#0d0887\"],[0.1111111111111111,\"#46039f\"],[0.2222222222222222,\"#7201a8\"],[0.3333333333333333,\"#9c179e\"],[0.4444444444444444,\"#bd3786\"],[0.5555555555555556,\"#d8576b\"],[0.6666666666666666,\"#ed7953\"],[0.7777777777777778,\"#fb9f3a\"],[0.8888888888888888,\"#fdca26\"],[1.0,\"#f0f921\"]]}],\"mesh3d\":[{\"type\":\"mesh3d\",\"colorbar\":{\"outlinewidth\":0,\"ticks\":\"\"}}],\"scatter\":[{\"marker\":{\"line\":{\"color\":\"#283442\"}},\"type\":\"scatter\"}],\"parcoords\":[{\"type\":\"parcoords\",\"line\":{\"colorbar\":{\"outlinewidth\":0,\"ticks\":\"\"}}}],\"scatterpolargl\":[{\"type\":\"scatterpolargl\",\"marker\":{\"colorbar\":{\"outlinewidth\":0,\"ticks\":\"\"}}}],\"bar\":[{\"error_x\":{\"color\":\"#f2f5fa\"},\"error_y\":{\"color\":\"#f2f5fa\"},\"marker\":{\"line\":{\"color\":\"rgb(17,17,17)\",\"width\":0.5},\"pattern\":{\"fillmode\":\"overlay\",\"size\":10,\"solidity\":0.2}},\"type\":\"bar\"}],\"scattergeo\":[{\"type\":\"scattergeo\",\"marker\":{\"colorbar\":{\"outlinewidth\":0,\"ticks\":\"\"}}}],\"scatterpolar\":[{\"type\":\"scatterpolar\",\"marker\":{\"colorbar\":{\"outlinewidth\":0,\"ticks\":\"\"}}}],\"histogram\":[{\"marker\":{\"pattern\":{\"fillmode\":\"overlay\",\"size\":10,\"solidity\":0.2}},\"type\":\"histogram\"}],\"scattergl\":[{\"marker\":{\"line\":{\"color\":\"#283442\"}},\"type\":\"scattergl\"}],\"scatter3d\":[{\"type\":\"scatter3d\",\"line\":{\"colorbar\":{\"outlinewidth\":0,\"ticks\":\"\"}},\"marker\":{\"colorbar\":{\"outlinewidth\":0,\"ticks\":\"\"}}}],\"scattermapbox\":[{\"type\":\"scattermapbox\",\"marker\":{\"colorbar\":{\"outlinewidth\":0,\"ticks\":\"\"}}}],\"scatterternary\":[{\"type\":\"scatterternary\",\"marker\":{\"colorbar\":{\"outlinewidth\":0,\"ticks\":\"\"}}}],\"scattercarpet\":[{\"type\":\"scattercarpet\",\"marker\":{\"colorbar\":{\"outlinewidth\":0,\"ticks\":\"\"}}}],\"carpet\":[{\"aaxis\":{\"endlinecolor\":\"#A2B1C6\",\"gridcolor\":\"#506784\",\"linecolor\":\"#506784\",\"minorgridcolor\":\"#506784\",\"startlinecolor\":\"#A2B1C6\"},\"baxis\":{\"endlinecolor\":\"#A2B1C6\",\"gridcolor\":\"#506784\",\"linecolor\":\"#506784\",\"minorgridcolor\":\"#506784\",\"startlinecolor\":\"#A2B1C6\"},\"type\":\"carpet\"}],\"table\":[{\"cells\":{\"fill\":{\"color\":\"#506784\"},\"line\":{\"color\":\"rgb(17,17,17)\"}},\"header\":{\"fill\":{\"color\":\"#2a3f5f\"},\"line\":{\"color\":\"rgb(17,17,17)\"}},\"type\":\"table\"}],\"barpolar\":[{\"marker\":{\"line\":{\"color\":\"rgb(17,17,17)\",\"width\":0.5},\"pattern\":{\"fillmode\":\"overlay\",\"size\":10,\"solidity\":0.2}},\"type\":\"barpolar\"}],\"pie\":[{\"automargin\":true,\"type\":\"pie\"}]},\"layout\":{\"autotypenumbers\":\"strict\",\"colorway\":[\"#636efa\",\"#EF553B\",\"#00cc96\",\"#ab63fa\",\"#FFA15A\",\"#19d3f3\",\"#FF6692\",\"#B6E880\",\"#FF97FF\",\"#FECB52\"],\"font\":{\"color\":\"#f2f5fa\"},\"hovermode\":\"closest\",\"hoverlabel\":{\"align\":\"left\"},\"paper_bgcolor\":\"rgb(17,17,17)\",\"plot_bgcolor\":\"rgb(17,17,17)\",\"polar\":{\"bgcolor\":\"rgb(17,17,17)\",\"angularaxis\":{\"gridcolor\":\"#506784\",\"linecolor\":\"#506784\",\"ticks\":\"\"},\"radialaxis\":{\"gridcolor\":\"#506784\",\"linecolor\":\"#506784\",\"ticks\":\"\"}},\"ternary\":{\"bgcolor\":\"rgb(17,17,17)\",\"aaxis\":{\"gridcolor\":\"#506784\",\"linecolor\":\"#506784\",\"ticks\":\"\"},\"baxis\":{\"gridcolor\":\"#506784\",\"linecolor\":\"#506784\",\"ticks\":\"\"},\"caxis\":{\"gridcolor\":\"#506784\",\"linecolor\":\"#506784\",\"ticks\":\"\"}},\"coloraxis\":{\"colorbar\":{\"outlinewidth\":0,\"ticks\":\"\"}},\"colorscale\":{\"sequential\":[[0.0,\"#0d0887\"],[0.1111111111111111,\"#46039f\"],[0.2222222222222222,\"#7201a8\"],[0.3333333333333333,\"#9c179e\"],[0.4444444444444444,\"#bd3786\"],[0.5555555555555556,\"#d8576b\"],[0.6666666666666666,\"#ed7953\"],[0.7777777777777778,\"#fb9f3a\"],[0.8888888888888888,\"#fdca26\"],[1.0,\"#f0f921\"]],\"sequentialminus\":[[0.0,\"#0d0887\"],[0.1111111111111111,\"#46039f\"],[0.2222222222222222,\"#7201a8\"],[0.3333333333333333,\"#9c179e\"],[0.4444444444444444,\"#bd3786\"],[0.5555555555555556,\"#d8576b\"],[0.6666666666666666,\"#ed7953\"],[0.7777777777777778,\"#fb9f3a\"],[0.8888888888888888,\"#fdca26\"],[1.0,\"#f0f921\"]],\"diverging\":[[0,\"#8e0152\"],[0.1,\"#c51b7d\"],[0.2,\"#de77ae\"],[0.3,\"#f1b6da\"],[0.4,\"#fde0ef\"],[0.5,\"#f7f7f7\"],[0.6,\"#e6f5d0\"],[0.7,\"#b8e186\"],[0.8,\"#7fbc41\"],[0.9,\"#4d9221\"],[1,\"#276419\"]]},\"xaxis\":{\"gridcolor\":\"#283442\",\"linecolor\":\"#506784\",\"ticks\":\"\",\"title\":{\"standoff\":15},\"zerolinecolor\":\"#283442\",\"automargin\":true,\"zerolinewidth\":2},\"yaxis\":{\"gridcolor\":\"#283442\",\"linecolor\":\"#506784\",\"ticks\":\"\",\"title\":{\"standoff\":15},\"zerolinecolor\":\"#283442\",\"automargin\":true,\"zerolinewidth\":2},\"scene\":{\"xaxis\":{\"backgroundcolor\":\"rgb(17,17,17)\",\"gridcolor\":\"#506784\",\"linecolor\":\"#506784\",\"showbackground\":true,\"ticks\":\"\",\"zerolinecolor\":\"#C8D4E3\",\"gridwidth\":2},\"yaxis\":{\"backgroundcolor\":\"rgb(17,17,17)\",\"gridcolor\":\"#506784\",\"linecolor\":\"#506784\",\"showbackground\":true,\"ticks\":\"\",\"zerolinecolor\":\"#C8D4E3\",\"gridwidth\":2},\"zaxis\":{\"backgroundcolor\":\"rgb(17,17,17)\",\"gridcolor\":\"#506784\",\"linecolor\":\"#506784\",\"showbackground\":true,\"ticks\":\"\",\"zerolinecolor\":\"#C8D4E3\",\"gridwidth\":2}},\"shapedefaults\":{\"line\":{\"color\":\"#f2f5fa\"}},\"annotationdefaults\":{\"arrowcolor\":\"#f2f5fa\",\"arrowhead\":0,\"arrowwidth\":1},\"geo\":{\"bgcolor\":\"rgb(17,17,17)\",\"landcolor\":\"rgb(17,17,17)\",\"subunitcolor\":\"#506784\",\"showland\":true,\"showlakes\":true,\"lakecolor\":\"rgb(17,17,17)\"},\"title\":{\"x\":0.05},\"updatemenudefaults\":{\"bgcolor\":\"#506784\",\"borderwidth\":0},\"sliderdefaults\":{\"bgcolor\":\"#C8D4E3\",\"borderwidth\":1,\"bordercolor\":\"rgb(17,17,17)\",\"tickwidth\":0},\"mapbox\":{\"style\":\"dark\"}}},\"geo\":{\"domain\":{\"x\":[0.0,1.0],\"y\":[0.0,1.0]},\"center\":{}},\"coloraxis\":{\"colorbar\":{\"title\":{\"text\":\"color\"}},\"colorscale\":[[0.0,\"#0d0887\"],[0.1111111111111111,\"#46039f\"],[0.2222222222222222,\"#7201a8\"],[0.3333333333333333,\"#9c179e\"],[0.4444444444444444,\"#bd3786\"],[0.5555555555555556,\"#d8576b\"],[0.6666666666666666,\"#ed7953\"],[0.7777777777777778,\"#fb9f3a\"],[0.8888888888888888,\"#fdca26\"],[1.0,\"#f0f921\"]]},\"legend\":{\"tracegroupgap\":0},\"margin\":{\"t\":60}},                        {\"responsive\": true}                    ).then(function(){\n                            \nvar gd = document.getElementById('521b0b62-ffb8-4765-8cd7-d85716c07791');\nvar x = new MutationObserver(function (mutations, observer) {{\n        var display = window.getComputedStyle(gd).display;\n        if (!display || display === 'none') {{\n            console.log([gd, 'removed!']);\n            Plotly.purge(gd);\n            observer.disconnect();\n        }}\n}});\n\n// Listen for the removal of the full notebook cells\nvar notebookContainer = gd.closest('#notebook-container');\nif (notebookContainer) {{\n    x.observe(notebookContainer, {childList: true});\n}}\n\n// Listen for the clearing of the current output cell\nvar outputEl = gd.closest('.output');\nif (outputEl) {{\n    x.observe(outputEl, {childList: true});\n}}\n\n                        })                };                });            </script>        </div>"
     },
     "metadata": {},
     "output_type": "display_data"
    }
   ],
   "source": [
    "country_groups = df_data_copy.groupby('Location').count()\n",
    "unique_countries = list(country_groups.index)\n",
    "failures_per_country = [0] * len(unique_countries)\n",
    "\n",
    "for c in range(len(unique_countries)):\n",
    "    x = df_data_copy[(df_data_copy['Location'] == unique_countries[c]) & (df_data_copy['Mission_Status'] == 'Failure')]\n",
    "    failures_per_country[c] = len(x)\n",
    "\n",
    "px.choropleth(locations=unique_countries, color=failures_per_country)"
   ],
   "metadata": {
    "collapsed": false,
    "ExecuteTime": {
     "end_time": "2024-12-16T23:20:48.391617Z",
     "start_time": "2024-12-16T23:20:48.318847Z"
    }
   }
  },
  {
   "cell_type": "markdown",
   "metadata": {
    "papermill": {
     "duration": 0.039343,
     "end_time": "2020-10-20T21:34:06.591694",
     "exception": false,
     "start_time": "2020-10-20T21:34:06.552351",
     "status": "completed"
    },
    "tags": [],
    "id": "9LqcqSrKa-qN"
   },
   "source": [
    "# Create a Plotly Sunburst Chart of the countries, organisations, and mission status. "
   ]
  },
  {
   "cell_type": "code",
   "metadata": {
    "id": "MwUfpoByo3_J",
    "ExecuteTime": {
     "end_time": "2024-12-16T23:20:48.391823Z",
     "start_time": "2024-12-16T23:20:48.336176Z"
    }
   },
   "source": [
    "status = df_data_copy['Mission_Status'].values.tolist()\n",
    "\n",
    "data = dict(\n",
    "    country=df_data_copy['Location'].values.tolist(),\n",
    "    organization=df_data_copy['Organisation'].values.tolist(),\n",
    "    mission_statuses=[1 if stat == 'Success' else 0 for stat in status]\n",
    ")"
   ],
   "execution_count": 171,
   "outputs": []
  },
  {
   "cell_type": "code",
   "metadata": {
    "id": "-ZwZkx1ro4X9",
    "ExecuteTime": {
     "end_time": "2024-12-16T23:20:48.392178Z",
     "start_time": "2024-12-16T23:20:48.338742Z"
    }
   },
   "source": [
    "px.sunburst(data, parents='country', names='organization', values='mission_statuses')"
   ],
   "execution_count": 172,
   "outputs": [
    {
     "data": {
      "application/vnd.plotly.v1+json": {
       "data": [
        {
         "domain": {
          "x": [
           0.0,
           1.0
          ],
          "y": [
           0.0,
           1.0
          ]
         },
         "hovertemplate": "organization=%{label}<br>mission_statuses=%{value}<br>country=%{parent}<extra></extra>",
         "labels": [
          "SpaceX",
          "CASC",
          "Roscosmos",
          "ULA",
          "CASC",
          "Roscosmos",
          "SpaceX",
          "JAXA",
          "Northrop",
          "ExPace",
          "CASC",
          "CASC",
          "Rocket Lab",
          "CASC",
          "SpaceX",
          "CASC",
          "CASC",
          "SpaceX",
          "Rocket Lab",
          "CASC",
          "SpaceX",
          "CASC",
          "SpaceX",
          "CASC",
          "Virgin Orbit",
          "MHI",
          "ULA",
          "Roscosmos",
          "SpaceX",
          "CASC",
          "Roscosmos",
          "ULA",
          "CASC",
          "Arianespace",
          "SpaceX",
          "CASC",
          "SpaceX",
          "VKS RF",
          "CASC",
          "Arianespace",
          "SpaceX",
          "Northrop",
          "ULA",
          "MHI",
          "Arianespace",
          "Rocket Lab",
          "SpaceX",
          "SpaceX",
          "Arianespace",
          "CASC",
          "CASC",
          "SpaceX",
          "VKS RF",
          "Roscosmos",
          "CASC",
          "SpaceX",
          "ISRO",
          "VKS RF",
          "Roscosmos",
          "Rocket Lab",
          "SpaceX",
          "CASC",
          "ISRO",
          "Arianespace",
          "SpaceX",
          "CASC",
          "CASC",
          "Northrop",
          "CASC",
          "Rocket Lab",
          "Northrop",
          "ILS",
          "CASC",
          "VKS RF",
          "CASC",
          "MHI",
          "CASC",
          "CASC",
          "VKS RF",
          "ULA",
          "Roscosmos",
          "Rocket Lab",
          "CASC",
          "CASC",
          "ULA",
          "SpaceX",
          "Arianespace",
          "Roscosmos",
          "Roscosmos",
          "VKS RF",
          "CASC",
          "SpaceX",
          "ISRO",
          "Roscosmos",
          "Arianespace",
          "Rocket Lab",
          "SpaceX",
          "CASC",
          "Arianespace",
          "SpaceX",
          "CASC",
          "Roscosmos",
          "SpaceX",
          "CASC",
          "ISRO",
          "Rocket Lab",
          "SpaceX",
          "CASC",
          "CASC",
          "Northrop",
          "SpaceX",
          "Roscosmos",
          "ISRO",
          "CASC",
          "Rocket Lab",
          "Arianespace",
          "CASC",
          "SpaceX",
          "SpaceX",
          "Arianespace",
          "CASC",
          "ULA",
          "JAXA",
          "SpaceX",
          "CASC",
          "Roscosmos",
          "SpaceX",
          "CASC",
          "VKS RF",
          "ISRO",
          "Rocket Lab",
          "CASC",
          "CASC",
          "SpaceX",
          "Arianespace",
          "SpaceX",
          "VKS RF",
          "ISRO",
          "Arianespace",
          "CASC",
          "Northrop",
          "SpaceX",
          "ISRO",
          "Rocket Lab",
          "VKS RF",
          "CASC",
          "MHI",
          "CASC",
          "Roscosmos",
          "CASC",
          "Arianespace",
          "ULA",
          "CASC",
          "SpaceX",
          "Arianespace",
          "MHI",
          "ISRO",
          "SpaceX",
          "CASC",
          "Arianespace",
          "ULA",
          "SpaceX",
          "CASC",
          "SpaceX",
          "SpaceX",
          "Roscosmos",
          "CASC",
          "CASC",
          "SpaceX",
          "CASC",
          "MHI",
          "CASC",
          "SpaceX",
          "CASC",
          "SpaceX",
          "Northrop",
          "CASC",
          "SpaceX",
          "CASC",
          "ULA",
          "CASC",
          "CASC",
          "Eurockot",
          "SpaceX",
          "VKS RF",
          "ULA",
          "ISRO",
          "CASC",
          "Arianespace",
          "SpaceX",
          "CASC",
          "SpaceX",
          "ISRO",
          "CASC",
          "SpaceX",
          "ULA",
          "MHI",
          "SpaceX",
          "Roscosmos",
          "SpaceX",
          "CASC",
          "Roscosmos",
          "SpaceX",
          "Arianespace",
          "CASC",
          "Rocket Lab",
          "ULA",
          "CASC",
          "JAXA",
          "CASC",
          "ISRO",
          "CASC",
          "SpaceX",
          "CASC",
          "CASC",
          "SpaceX",
          "MHI",
          "SpaceX",
          "CASC",
          "CASC",
          "VKS RF",
          "CASC",
          "CASC",
          "Northrop",
          "Arianespace",
          "Northrop",
          "SpaceX",
          "ULA",
          "Roscosmos",
          "Eurockot",
          "SpaceX",
          "MHI",
          "SpaceX",
          "CASC",
          "Arianespace",
          "CASC",
          "VKS RF",
          "ULA",
          "ILS",
          "SpaceX",
          "ISRO",
          "Northrop",
          "SpaceX",
          "ULA",
          "VKS RF",
          "SpaceX",
          "Arianespace",
          "Roscosmos",
          "SpaceX",
          "Arianespace",
          "SpaceX",
          "SpaceX",
          "ISRO",
          "CASC",
          "CASC",
          "Roscosmos",
          "ILS",
          "ISRO",
          "SpaceX",
          "Arianespace",
          "MHI",
          "Rocket Lab",
          "SpaceX",
          "ISRO",
          "Arianespace",
          "SpaceX",
          "ULA",
          "CASC",
          "SpaceX",
          "MHI",
          "SpaceX",
          "Arianespace",
          "ULA",
          "SpaceX",
          "ISRO",
          "Arianespace",
          "ULA",
          "SpaceX",
          "CASC",
          "CASC",
          "Arianespace",
          "CASC",
          "ULA",
          "Northrop",
          "CASC",
          "MHI",
          "ISRO",
          "Arianespace",
          "ULA",
          "CASC",
          "ULA",
          "CASC",
          "MHI",
          "Northrop",
          "Arianespace",
          "ISRO",
          "Arianespace",
          "ULA",
          "ISRO",
          "SpaceX",
          "CASC",
          "Arianespace",
          "ULA",
          "CASC",
          "SpaceX",
          "CASC",
          "CASC",
          "ULA",
          "SpaceX",
          "CASC",
          "ULA",
          "ISRO",
          "Arianespace",
          "SpaceX",
          "ULA",
          "ILS",
          "VKS RF",
          "CASC",
          "VKS RF",
          "SpaceX",
          "CASC",
          "SpaceX",
          "ISRO",
          "SpaceX",
          "CASC",
          "Roscosmos",
          "CASC",
          "VKS RF",
          "ULA",
          "Roscosmos",
          "Roscosmos",
          "ISRO",
          "Arianespace",
          "SpaceX",
          "MHI",
          "Eurockot",
          "VKS RF",
          "ULA",
          "ILS",
          "Arianespace",
          "ISRO",
          "SpaceX",
          "CASC",
          "SpaceX",
          "ISRO",
          "ULA",
          "Arianespace",
          "Arianespace",
          "Sandia",
          "ULA",
          "ULA",
          "ULA",
          "Arianespace",
          "ISRO",
          "CASC",
          "VKS RF",
          "ULA",
          "ISRO",
          "Arianespace",
          "MHI",
          "Arianespace",
          "ULA",
          "ISRO",
          "SpaceX",
          "Arianespace",
          "Arianespace",
          "ULA",
          "SpaceX",
          "Arianespace",
          "SpaceX",
          "VKS RF",
          "ISRO",
          "MHI",
          "Kosmotras",
          "ULA",
          "ULA",
          "SpaceX",
          "SpaceX",
          "Arianespace",
          "MHI",
          "ULA",
          "SpaceX",
          "ISRO",
          "ULA",
          "Arianespace",
          "ULA",
          "MHI",
          "Kosmotras",
          "ULA",
          "Northrop",
          "Arianespace",
          "ISRO",
          "MHI",
          "SpaceX",
          "ULA",
          "Arianespace",
          "SpaceX",
          "ULA",
          "SpaceX",
          "ULA",
          "ULA",
          "SpaceX",
          "Northrop",
          "VKS RF",
          "ISRO",
          "Kosmotras",
          "MHI",
          "VKS RF",
          "ULA",
          "ULA",
          "Arianespace",
          "SpaceX",
          "ULA",
          "ISRO",
          "ULA",
          "Arianespace",
          "MHI",
          "ULA",
          "Arianespace",
          "ULA",
          "Northrop",
          "SpaceX",
          "ISRO",
          "VKS RF",
          "ULA",
          "SpaceX",
          "VKS RF",
          "Kosmotras",
          "Northrop",
          "ULA",
          "ISRO",
          "SpaceX",
          "ULA",
          "Northrop",
          "VKS RF",
          "Northrop",
          "Arianespace",
          "ULA",
          "Kosmotras",
          "MHI",
          "Arianespace",
          "ULA",
          "VKS RF",
          "ISRO",
          "Northrop",
          "ULA",
          "Arianespace",
          "Northrop",
          "ULA",
          "SpaceX",
          "ISRO",
          "ULA",
          "Arianespace",
          "ULA",
          "MHI",
          "VKS RF",
          "Arianespace",
          "ULA",
          "Arianespace",
          "Arianespace",
          "SpaceX",
          "ULA",
          "Arianespace",
          "ULA",
          "ISRO",
          "ULA",
          "Arianespace",
          "VKS RF",
          "MHI",
          "Arianespace",
          "ULA",
          "ULA",
          "Northrop",
          "SpaceX",
          "MHI",
          "Arianespace",
          "ULA",
          "ISRO",
          "ISRO",
          "ULA",
          "ESA",
          "Arianespace",
          "MHI",
          "ULA",
          "ISRO",
          "Northrop",
          "MHI",
          "Arianespace",
          "MHI",
          "Kosmotras",
          "Arianespace",
          "ULA",
          "ULA",
          "ISRO",
          "NASA",
          "Northrop",
          "Arianespace",
          "NASA",
          "ULA",
          "Arianespace",
          "ISRO",
          "ULA",
          "ULA",
          "ULA",
          "Northrop",
          "NASA",
          "Northrop",
          "VKS RF",
          "MHI",
          "ULA",
          "Arianespace",
          "ISRO",
          "SpaceX",
          "Arianespace",
          "ULA",
          "Northrop",
          "Arianespace",
          "Northrop",
          "ULA",
          "VKS RF",
          "ULA",
          "Arianespace",
          "ISRO",
          "Arianespace",
          "Kosmotras",
          "Kosmotras",
          "SpaceX",
          "Eurockot",
          "ULA",
          "Arianespace",
          "NASA",
          "MHI",
          "ULA",
          "ISRO",
          "Kosmotras",
          "NASA",
          "ULA",
          "ULA",
          "NASA",
          "MHI",
          "ULA",
          "NASA",
          "Eurockot",
          "Arianespace",
          "NASA",
          "ULA",
          "Arianespace",
          "ISRO",
          "MHI",
          "ULA",
          "NASA",
          "Arianespace",
          "Kosmotras",
          "NASA",
          "SpaceX",
          "VKS RF",
          "Arianespace",
          "ULA",
          "ULA",
          "Northrop",
          "Arianespace",
          "NASA",
          "ISRO",
          "ULA",
          "Eurockot",
          "NASA",
          "Northrop",
          "Arianespace",
          "MHI",
          "ULA",
          "Arianespace",
          "NASA",
          "CASC",
          "CASC",
          "CASC",
          "CASC",
          "ISRO",
          "Northrop",
          "Kosmotras",
          "SpaceX",
          "Kosmotras",
          "Arianespace",
          "SpaceX",
          "Arianespace",
          "Arianespace",
          "NASA",
          "CASC",
          "VKS RF",
          "ISRO",
          "CASC",
          "Arianespace",
          "Northrop",
          "ULA",
          "ULA",
          "NASA",
          "MHI",
          "NASA",
          "ISRO",
          "ULA",
          "Arianespace",
          "CASC",
          "ULA",
          "NASA",
          "ULA",
          "CASC",
          "ISRO",
          "Arianespace",
          "NASA",
          "Kosmotras",
          "ULA",
          "Kosmotras",
          "NASA",
          "CASC",
          "CASC",
          "CASC",
          "Arianespace",
          "Northrop",
          "Northrop",
          "ISRO",
          "Kosmotras",
          "CASC",
          "CASC",
          "SpaceX",
          "Arianespace",
          "ULA",
          "CASC",
          "ISRO",
          "Northrop",
          "NASA",
          "Arianespace",
          "CASC",
          "Boeing",
          "CASC",
          "Arianespace",
          "CASC",
          "MHI",
          "NASA",
          "CASC",
          "Arianespace",
          "Eurockot",
          "Kosmotras",
          "Kosmotras",
          "ISRO",
          "NASA",
          "Boeing",
          "Arianespace",
          "Boeing",
          "CASC",
          "ILS",
          "Northrop",
          "Northrop",
          "SpaceX",
          "Arianespace",
          "ILS",
          "Arianespace",
          "Eurockot",
          "Northrop",
          "CASC",
          "VKS RF",
          "Kosmotras",
          "ILS",
          "CASC",
          "NASA",
          "CASC",
          "ISRO",
          "Northrop",
          "Northrop",
          "ILS",
          "Arianespace",
          "Boeing",
          "Arianespace",
          "ILS",
          "CASC",
          "VKS RF",
          "CASC",
          "CASC",
          "CASC",
          "ISRO",
          "CASC",
          "CASC",
          "CASC",
          "Arianespace",
          "Kosmotras",
          "Northrop",
          "CASC",
          "Arianespace",
          "CASC",
          "CASC",
          "CASC",
          "Eurockot",
          "CASC",
          "Lockheed",
          "ISRO",
          "Boeing",
          "Northrop",
          "ILS",
          "Eurockot",
          "Northrop",
          "CASC",
          "ILS",
          "ISRO",
          "Northrop",
          "Boeing",
          "Northrop",
          "NASA",
          "Lockheed",
          "Kosmotras",
          "MHI",
          "Arianespace",
          "NASA",
          "Boeing",
          "CASC",
          "NASA",
          "ISRO",
          "ILS",
          "Lockheed",
          "Eurockot",
          "NASA",
          "CASC",
          "NASA",
          "Eurockot",
          "NASA",
          "Northrop",
          "NASA",
          "ISRO",
          "Northrop",
          "MHI",
          "NASA",
          "NASA",
          "NASA",
          "ISRO",
          "NASA",
          "NASA",
          "CASC",
          "NASA",
          "CASC",
          "NASA",
          "Northrop",
          "Kosmotras",
          "Lockheed",
          "NASA",
          "Northrop",
          "Northrop",
          "NASA",
          "Eurockot",
          "Northrop",
          "NASA",
          "Northrop",
          "CASC",
          "Northrop",
          "NASA",
          "Lockheed",
          "Northrop",
          "CASC",
          "NASA",
          "Lockheed",
          "CASC",
          "ISRO",
          "NASA",
          "Northrop",
          "CASC",
          "Kosmotras",
          "Northrop",
          "CASC",
          "Northrop",
          "NASA",
          "NASA",
          "Northrop",
          "Northrop",
          "Northrop",
          "CASC",
          "Northrop",
          "NASA",
          "Lockheed",
          "CASC",
          "NASA",
          "Northrop",
          "CASC",
          "Northrop",
          "Northrop",
          "NASA",
          "Northrop",
          "CASC",
          "NASA",
          "Northrop",
          "ISRO",
          "NASA",
          "CASC",
          "Northrop",
          "NASA",
          "Northrop",
          "NASA",
          "NASA",
          "CASC",
          "Northrop",
          "NASA",
          "Lockheed",
          "NASA",
          "NASA",
          "NASA",
          "Northrop",
          "CASC",
          "NASA",
          "Northrop",
          "Northrop",
          "NASA",
          "NASA",
          "Northrop",
          "NASA",
          "ISRO",
          "Northrop",
          "NASA",
          "NASA",
          "NASA",
          "EER",
          "NASA",
          "NASA",
          "NASA",
          "NASA",
          "Northrop",
          "Northrop",
          "NASA",
          "NASA",
          "CASC",
          "NASA",
          "ISRO",
          "NASA",
          "NASA",
          "Northrop",
          "NASA",
          "CASC",
          "Northrop",
          "Northrop",
          "NASA",
          "Northrop",
          "NASA",
          "CASC",
          "NASA",
          "Martin Marietta",
          "NASA",
          "NASA",
          "CASC",
          "Martin Marietta",
          "ISRO",
          "NASA",
          "NASA",
          "NASA",
          "Northrop",
          "NASA",
          "Northrop",
          "NASA",
          "NASA",
          "NASA",
          "CASC",
          "Martin Marietta",
          "NASA",
          "CASC",
          "NASA",
          "NASA",
          "NASA",
          "Martin Marietta",
          "NASA",
          "NASA",
          "NASA",
          "NASA",
          "NASA",
          "Northrop",
          "NASA",
          "NASA",
          "NASA",
          "NASA",
          "NASA",
          "NASA",
          "CASC",
          "Martin Marietta",
          "NASA",
          "Northrop",
          "Martin Marietta",
          "NASA",
          "NASA",
          "Martin Marietta",
          "NASA",
          "NASA",
          "Martin Marietta",
          "NASA",
          "NASA",
          "NASA",
          "NASA",
          "RVSN USSR",
          "NASA",
          "Martin Marietta",
          "CASC",
          "CASC",
          "CASC",
          "RVSN USSR",
          "CASC",
          "NASA",
          "NASA",
          "NASA",
          "NASA",
          "CASC",
          "NASA",
          "NASA",
          "NASA",
          "NASA",
          "NASA",
          "NASA",
          "NASA",
          "NASA",
          "NASA",
          "CASC",
          "NASA",
          "NASA",
          "NASA",
          "NASA",
          "NASA",
          "CASC",
          "NASA",
          "NASA",
          "NASA",
          "CASC",
          "NASA",
          "NASA",
          "NASA",
          "NASA",
          "NASA",
          "NASA",
          "NASA",
          "NASA",
          "NASA",
          "NASA",
          "NASA",
          "NASA",
          "US Air Force",
          "NASA",
          "US Air Force",
          "US Air Force",
          "NASA",
          "US Air Force",
          "NASA",
          "US Air Force",
          "US Air Force",
          "US Air Force",
          "US Air Force",
          "US Air Force",
          "US Air Force",
          "NASA",
          "US Air Force",
          "US Air Force",
          "US Air Force",
          "NASA",
          "US Air Force",
          "US Air Force",
          "US Air Force",
          "US Air Force",
          "US Air Force",
          "US Air Force",
          "US Air Force",
          "US Air Force",
          "US Air Force",
          "US Air Force",
          "US Air Force",
          "US Air Force",
          "US Air Force"
         ],
         "name": "",
         "parents": [
          "USA",
          "CHN",
          "KAZ",
          "USA",
          "CHN",
          "KAZ",
          "USA",
          "JPN",
          "USA",
          "CHN",
          "CHN",
          "CHN",
          "NZL",
          "CHN",
          "USA",
          "CHN",
          "CHN",
          "USA",
          "NZL",
          "CHN",
          "USA",
          "CHN",
          "USA",
          "CHN",
          "USA",
          "JPN",
          "USA",
          "KAZ",
          "USA",
          "CHN",
          "KAZ",
          "USA",
          "CHN",
          "KAZ",
          "USA",
          "CHN",
          "USA",
          "RUS",
          "CHN",
          "FRA",
          "USA",
          "USA",
          "USA",
          "JPN",
          "KAZ",
          "NZL",
          "USA",
          "USA",
          "FRA",
          "CHN",
          "CHN",
          "USA",
          "RUS",
          "KAZ",
          "CHN",
          "USA",
          "IND",
          "RUS",
          "KAZ",
          "NZL",
          "USA",
          "CHN",
          "IND",
          "FRA",
          "USA",
          "CHN",
          "CHN",
          "USA",
          "CHN",
          "NZL",
          "USA",
          "KAZ",
          "CHN",
          "RUS",
          "CHN",
          "JPN",
          "CHN",
          "CHN",
          "RUS",
          "USA",
          "KAZ",
          "NZL",
          "CHN",
          "CHN",
          "USA",
          "USA",
          "FRA",
          "KAZ",
          "KAZ",
          "RUS",
          "CHN",
          "USA",
          "IND",
          "KAZ",
          "FRA",
          "NZL",
          "USA",
          "CHN",
          "FRA",
          "USA",
          "CHN",
          "KAZ",
          "USA",
          "CHN",
          "IND",
          "NZL",
          "USA",
          "CHN",
          "CHN",
          "USA",
          "USA",
          "KAZ",
          "IND",
          "CHN",
          "NZL",
          "FRA",
          "CHN",
          "USA",
          "USA",
          "FRA",
          "CHN",
          "USA",
          "JPN",
          "USA",
          "CHN",
          "RUS",
          "USA",
          "CHN",
          "KAZ",
          "IND",
          "NZL",
          "CHN",
          "CHN",
          "USA",
          "FRA",
          "USA",
          "RUS",
          "IND",
          "FRA",
          "CHN",
          "USA",
          "USA",
          "IND",
          "NZL",
          "RUS",
          "CHN",
          "JPN",
          "CHN",
          "RUS",
          "CHN",
          "FRA",
          "USA",
          "CHN",
          "USA",
          "FRA",
          "JPN",
          "IND",
          "USA",
          "CHN",
          "FRA",
          "USA",
          "USA",
          "CHN",
          "USA",
          "USA",
          "KAZ",
          "CHN",
          "CHN",
          "USA",
          "CHN",
          "JPN",
          "CHN",
          "USA",
          "CHN",
          "USA",
          "USA",
          "CHN",
          "USA",
          "CHN",
          "USA",
          "CHN",
          "CHN",
          "RUS",
          "USA",
          "KAZ",
          "USA",
          "IND",
          "CHN",
          "FRA",
          "USA",
          "CHN",
          "USA",
          "IND",
          "CHN",
          "USA",
          "USA",
          "JPN",
          "USA",
          "KAZ",
          "USA",
          "CHN",
          "RUS",
          "USA",
          "FRA",
          "CHN",
          "NZL",
          "USA",
          "CHN",
          "JPN",
          "CHN",
          "IND",
          "CHN",
          "USA",
          "CHN",
          "CHN",
          "USA",
          "JPN",
          "USA",
          "CHN",
          "CHN",
          "RUS",
          "CHN",
          "CHN",
          "USA",
          "FRA",
          "USA",
          "USA",
          "USA",
          "KAZ",
          "RUS",
          "USA",
          "JPN",
          "USA",
          "CHN",
          "FRA",
          "CHN",
          "KAZ",
          "USA",
          "KAZ",
          "USA",
          "IND",
          "USA",
          "USA",
          "USA",
          "KAZ",
          "USA",
          "FRA",
          "KAZ",
          "USA",
          "FRA",
          "USA",
          "USA",
          "IND",
          "CHN",
          "CHN",
          "KAZ",
          "KAZ",
          "IND",
          "USA",
          "FRA",
          "JPN",
          "NZL",
          "USA",
          "IND",
          "FRA",
          "USA",
          "USA",
          "CHN",
          "USA",
          "JPN",
          "USA",
          "FRA",
          "USA",
          "USA",
          "IND",
          "FRA",
          "USA",
          "USA",
          "CHN",
          "CHN",
          "FRA",
          "CHN",
          "USA",
          "USA",
          "CHN",
          "JPN",
          "IND",
          "FRA",
          "USA",
          "CHN",
          "USA",
          "CHN",
          "JPN",
          "USA",
          "FRA",
          "IND",
          "FRA",
          "USA",
          "IND",
          "USA",
          "CHN",
          "FRA",
          "USA",
          "CHN",
          "USA",
          "CHN",
          "CHN",
          "USA",
          "USA",
          "CHN",
          "USA",
          "IND",
          "FRA",
          "USA",
          "USA",
          "KAZ",
          "RUS",
          "CHN",
          "RUS",
          "USA",
          "CHN",
          "USA",
          "IND",
          "USA",
          "CHN",
          "KAZ",
          "CHN",
          "RUS",
          "USA",
          "KAZ",
          "KAZ",
          "IND",
          "FRA",
          "USA",
          "JPN",
          "RUS",
          "RUS",
          "USA",
          "KAZ",
          "FRA",
          "IND",
          "USA",
          "CHN",
          "USA",
          "IND",
          "USA",
          "FRA",
          "FRA",
          "USA",
          "USA",
          "USA",
          "USA",
          "FRA",
          "IND",
          "CHN",
          "RUS",
          "USA",
          "IND",
          "FRA",
          "JPN",
          "FRA",
          "USA",
          "IND",
          "USA",
          "FRA",
          "FRA",
          "USA",
          "USA",
          "FRA",
          "USA",
          "RUS",
          "IND",
          "JPN",
          "RUS",
          "USA",
          "USA",
          "USA",
          "USA",
          "FRA",
          "JPN",
          "USA",
          "USA",
          "IND",
          "USA",
          "FRA",
          "USA",
          "JPN",
          "RUS",
          "USA",
          "USA",
          "FRA",
          "IND",
          "JPN",
          "USA",
          "USA",
          "FRA",
          "USA",
          "USA",
          "USA",
          "USA",
          "USA",
          "USA",
          "USA",
          "RUS",
          "IND",
          "RUS",
          "JPN",
          "RUS",
          "USA",
          "USA",
          "FRA",
          "USA",
          "USA",
          "IND",
          "USA",
          "FRA",
          "JPN",
          "USA",
          "FRA",
          "USA",
          "USA",
          "USA",
          "IND",
          "RUS",
          "USA",
          "USA",
          "RUS",
          "RUS",
          "USA",
          "USA",
          "IND",
          "USA",
          "USA",
          "USA",
          "RUS",
          "USA",
          "FRA",
          "USA",
          "RUS",
          "JPN",
          "FRA",
          "USA",
          "KAZ",
          "IND",
          "USA",
          "USA",
          "FRA",
          "USA",
          "USA",
          "USA",
          "IND",
          "USA",
          "FRA",
          "USA",
          "JPN",
          "RUS",
          "FRA",
          "USA",
          "FRA",
          "FRA",
          "USA",
          "USA",
          "FRA",
          "USA",
          "IND",
          "USA",
          "FRA",
          "RUS",
          "JPN",
          "FRA",
          "USA",
          "USA",
          "USA",
          "USA",
          "JPN",
          "FRA",
          "USA",
          "IND",
          "IND",
          "USA",
          "FRA",
          "FRA",
          "JPN",
          "USA",
          "IND",
          "USA",
          "JPN",
          "FRA",
          "JPN",
          "RUS",
          "FRA",
          "USA",
          "USA",
          "IND",
          "USA",
          "USA",
          "FRA",
          "USA",
          "USA",
          "FRA",
          "IND",
          "USA",
          "USA",
          "USA",
          "USA",
          "USA",
          "USA",
          "RUS",
          "JPN",
          "USA",
          "FRA",
          "IND",
          "USA",
          "FRA",
          "USA",
          "USA",
          "FRA",
          "USA",
          "USA",
          "RUS",
          "USA",
          "FRA",
          "IND",
          "FRA",
          "KAZ",
          "RUS",
          "USA",
          "RUS",
          "USA",
          "FRA",
          "USA",
          "JPN",
          "USA",
          "IND",
          "KAZ",
          "USA",
          "USA",
          "USA",
          "USA",
          "JPN",
          "USA",
          "USA",
          "RUS",
          "FRA",
          "USA",
          "USA",
          "FRA",
          "IND",
          "JPN",
          "USA",
          "USA",
          "FRA",
          "KAZ",
          "USA",
          "USA",
          "RUS",
          "FRA",
          "USA",
          "USA",
          "USA",
          "FRA",
          "USA",
          "IND",
          "USA",
          "RUS",
          "USA",
          "USA",
          "FRA",
          "JPN",
          "USA",
          "FRA",
          "USA",
          "CHN",
          "CHN",
          "CHN",
          "CHN",
          "IND",
          "USA",
          "RUS",
          "USA",
          "KAZ",
          "FRA",
          "USA",
          "FRA",
          "FRA",
          "USA",
          "CHN",
          "RUS",
          "IND",
          "CHN",
          "FRA",
          "USA",
          "USA",
          "USA",
          "USA",
          "JPN",
          "USA",
          "IND",
          "USA",
          "FRA",
          "CHN",
          "USA",
          "USA",
          "USA",
          "CHN",
          "IND",
          "FRA",
          "USA",
          "RUS",
          "USA",
          "KAZ",
          "USA",
          "CHN",
          "CHN",
          "CHN",
          "FRA",
          "USA",
          "USA",
          "IND",
          "KAZ",
          "CHN",
          "CHN",
          "USA",
          "FRA",
          "USA",
          "CHN",
          "IND",
          "USA",
          "USA",
          "FRA",
          "CHN",
          "USA",
          "CHN",
          "FRA",
          "CHN",
          "JPN",
          "USA",
          "CHN",
          "FRA",
          "RUS",
          "KAZ",
          "RUS",
          "IND",
          "USA",
          "USA",
          "FRA",
          "USA",
          "CHN",
          "USA",
          "USA",
          "USA",
          "USA",
          "FRA",
          "USA",
          "FRA",
          "RUS",
          "USA",
          "CHN",
          "RUS",
          "KAZ",
          "USA",
          "CHN",
          "USA",
          "CHN",
          "IND",
          "USA",
          "USA",
          "USA",
          "FRA",
          "USA",
          "FRA",
          "USA",
          "CHN",
          "RUS",
          "CHN",
          "CHN",
          "CHN",
          "IND",
          "CHN",
          "CHN",
          "CHN",
          "FRA",
          "KAZ",
          "USA",
          "CHN",
          "FRA",
          "CHN",
          "CHN",
          "CHN",
          "RUS",
          "CHN",
          "USA",
          "IND",
          "USA",
          "USA",
          "USA",
          "RUS",
          "USA",
          "CHN",
          "USA",
          "IND",
          "USA",
          "USA",
          "USA",
          "USA",
          "USA",
          "KAZ",
          "JPN",
          "FRA",
          "USA",
          "USA",
          "CHN",
          "USA",
          "IND",
          "USA",
          "USA",
          "RUS",
          "USA",
          "CHN",
          "USA",
          "RUS",
          "USA",
          "USA",
          "USA",
          "IND",
          "USA",
          "JPN",
          "USA",
          "USA",
          "USA",
          "IND",
          "USA",
          "USA",
          "CHN",
          "USA",
          "CHN",
          "USA",
          "USA",
          "KAZ",
          "USA",
          "USA",
          "USA",
          "USA",
          "USA",
          "RUS",
          "USA",
          "USA",
          "USA",
          "CHN",
          "USA",
          "USA",
          "USA",
          "USA",
          "CHN",
          "USA",
          "USA",
          "CHN",
          "IND",
          "USA",
          "USA",
          "CHN",
          "KAZ",
          "USA",
          "CHN",
          "USA",
          "USA",
          "USA",
          "USA",
          "USA",
          "USA",
          "CHN",
          "USA",
          "USA",
          "USA",
          "CHN",
          "USA",
          "USA",
          "CHN",
          "USA",
          "USA",
          "USA",
          "USA",
          "CHN",
          "USA",
          "USA",
          "IND",
          "USA",
          "CHN",
          "USA",
          "USA",
          "USA",
          "USA",
          "USA",
          "CHN",
          "USA",
          "USA",
          "USA",
          "USA",
          "USA",
          "USA",
          "USA",
          "CHN",
          "USA",
          "USA",
          "USA",
          "USA",
          "USA",
          "USA",
          "USA",
          "IND",
          "USA",
          "USA",
          "USA",
          "USA",
          "USA",
          "USA",
          "USA",
          "USA",
          "USA",
          "USA",
          "USA",
          "USA",
          "USA",
          "CHN",
          "USA",
          "IND",
          "USA",
          "USA",
          "USA",
          "USA",
          "CHN",
          "USA",
          "USA",
          "USA",
          "USA",
          "USA",
          "CHN",
          "USA",
          "USA",
          "USA",
          "USA",
          "CHN",
          "USA",
          "IND",
          "USA",
          "USA",
          "USA",
          "USA",
          "USA",
          "USA",
          "USA",
          "USA",
          "USA",
          "CHN",
          "USA",
          "USA",
          "CHN",
          "USA",
          "USA",
          "USA",
          "USA",
          "USA",
          "USA",
          "USA",
          "USA",
          "USA",
          "USA",
          "USA",
          "USA",
          "USA",
          "USA",
          "USA",
          "USA",
          "CHN",
          "USA",
          "USA",
          "USA",
          "USA",
          "USA",
          "USA",
          "USA",
          "USA",
          "USA",
          "USA",
          "USA",
          "USA",
          "USA",
          "USA",
          "KAZ",
          "USA",
          "USA",
          "CHN",
          "CHN",
          "CHN",
          "KAZ",
          "CHN",
          "USA",
          "USA",
          "USA",
          "USA",
          "CHN",
          "USA",
          "USA",
          "USA",
          "USA",
          "USA",
          "USA",
          "USA",
          "USA",
          "USA",
          "CHN",
          "USA",
          "USA",
          "USA",
          "USA",
          "USA",
          "CHN",
          "USA",
          "USA",
          "USA",
          "CHN",
          "USA",
          "USA",
          "USA",
          "USA",
          "USA",
          "USA",
          "USA",
          "USA",
          "USA",
          "USA",
          "USA",
          "USA",
          "USA",
          "USA",
          "USA",
          "USA",
          "USA",
          "USA",
          "USA",
          "USA",
          "USA",
          "USA",
          "USA",
          "USA",
          "USA",
          "USA",
          "USA",
          "USA",
          "USA",
          "USA",
          "USA",
          "USA",
          "USA",
          "USA",
          "USA",
          "USA",
          "USA",
          "USA",
          "USA",
          "USA",
          "USA",
          "USA",
          "USA"
         ],
         "values": [
          1,
          1,
          1,
          1,
          1,
          1,
          1,
          1,
          1,
          0,
          1,
          1,
          0,
          1,
          1,
          1,
          1,
          1,
          1,
          1,
          1,
          1,
          1,
          1,
          0,
          1,
          1,
          1,
          1,
          0,
          1,
          1,
          1,
          1,
          1,
          1,
          1,
          1,
          1,
          1,
          1,
          1,
          1,
          1,
          1,
          1,
          1,
          1,
          1,
          1,
          1,
          1,
          1,
          1,
          1,
          1,
          1,
          1,
          1,
          1,
          1,
          1,
          1,
          1,
          1,
          1,
          1,
          1,
          1,
          1,
          1,
          1,
          1,
          1,
          1,
          1,
          1,
          1,
          1,
          1,
          1,
          1,
          1,
          1,
          1,
          1,
          1,
          1,
          1,
          1,
          1,
          1,
          1,
          1,
          0,
          1,
          1,
          1,
          1,
          1,
          1,
          1,
          1,
          0,
          1,
          1,
          1,
          1,
          1,
          1,
          1,
          1,
          1,
          1,
          1,
          1,
          1,
          1,
          1,
          1,
          1,
          1,
          1,
          1,
          1,
          1,
          1,
          1,
          1,
          1,
          1,
          1,
          1,
          1,
          1,
          1,
          1,
          1,
          1,
          1,
          1,
          1,
          1,
          1,
          1,
          1,
          1,
          1,
          1,
          1,
          1,
          1,
          1,
          1,
          1,
          1,
          1,
          1,
          1,
          1,
          1,
          1,
          1,
          1,
          1,
          1,
          1,
          1,
          1,
          1,
          1,
          1,
          1,
          1,
          1,
          1,
          1,
          1,
          1,
          1,
          1,
          1,
          1,
          1,
          1,
          1,
          1,
          1,
          1,
          1,
          1,
          1,
          1,
          1,
          1,
          1,
          1,
          1,
          1,
          1,
          1,
          1,
          1,
          0,
          1,
          1,
          1,
          1,
          1,
          1,
          1,
          1,
          1,
          1,
          1,
          1,
          1,
          1,
          1,
          1,
          1,
          1,
          1,
          1,
          1,
          1,
          1,
          1,
          1,
          1,
          1,
          1,
          1,
          1,
          1,
          1,
          1,
          1,
          1,
          1,
          0,
          1,
          1,
          1,
          1,
          1,
          1,
          0,
          1,
          1,
          1,
          1,
          1,
          0,
          1,
          1,
          1,
          1,
          1,
          1,
          1,
          0,
          1,
          1,
          1,
          1,
          1,
          1,
          1,
          1,
          1,
          1,
          1,
          1,
          1,
          1,
          1,
          1,
          1,
          0,
          1,
          1,
          1,
          1,
          1,
          1,
          1,
          1,
          1,
          1,
          1,
          1,
          1,
          1,
          1,
          1,
          1,
          1,
          1,
          0,
          0,
          1,
          1,
          1,
          1,
          1,
          1,
          1,
          1,
          1,
          1,
          1,
          1,
          1,
          1,
          1,
          1,
          1,
          1,
          1,
          1,
          1,
          1,
          1,
          1,
          1,
          1,
          1,
          1,
          1,
          1,
          1,
          1,
          1,
          1,
          1,
          1,
          1,
          1,
          1,
          1,
          1,
          1,
          1,
          1,
          1,
          1,
          1,
          0,
          1,
          1,
          1,
          1,
          1,
          1,
          1,
          1,
          1,
          1,
          1,
          1,
          1,
          1,
          0,
          1,
          1,
          1,
          1,
          1,
          1,
          1,
          1,
          1,
          1,
          1,
          1,
          1,
          1,
          1,
          1,
          1,
          1,
          1,
          1,
          1,
          1,
          1,
          1,
          1,
          0,
          1,
          1,
          1,
          1,
          1,
          1,
          1,
          1,
          1,
          1,
          1,
          1,
          1,
          1,
          1,
          1,
          1,
          1,
          1,
          1,
          1,
          1,
          1,
          1,
          1,
          1,
          1,
          1,
          1,
          1,
          1,
          1,
          1,
          1,
          1,
          1,
          1,
          1,
          1,
          1,
          1,
          1,
          1,
          1,
          1,
          1,
          1,
          1,
          1,
          1,
          1,
          1,
          0,
          1,
          1,
          1,
          1,
          1,
          1,
          1,
          1,
          1,
          1,
          1,
          1,
          0,
          1,
          1,
          1,
          1,
          0,
          1,
          1,
          1,
          1,
          1,
          1,
          1,
          1,
          1,
          1,
          1,
          1,
          1,
          1,
          1,
          1,
          1,
          1,
          1,
          1,
          1,
          1,
          1,
          1,
          1,
          1,
          1,
          1,
          1,
          1,
          1,
          1,
          1,
          1,
          1,
          1,
          1,
          1,
          1,
          1,
          1,
          1,
          1,
          0,
          1,
          1,
          0,
          1,
          1,
          1,
          0,
          1,
          1,
          1,
          1,
          1,
          1,
          1,
          1,
          1,
          1,
          1,
          1,
          1,
          1,
          1,
          1,
          1,
          1,
          1,
          1,
          1,
          0,
          1,
          1,
          1,
          1,
          1,
          1,
          1,
          1,
          1,
          1,
          1,
          1,
          1,
          1,
          1,
          1,
          1,
          1,
          1,
          1,
          1,
          1,
          1,
          1,
          1,
          1,
          1,
          1,
          1,
          1,
          1,
          1,
          0,
          1,
          1,
          1,
          1,
          1,
          1,
          1,
          1,
          1,
          1,
          1,
          1,
          1,
          1,
          1,
          0,
          1,
          1,
          1,
          1,
          1,
          1,
          1,
          1,
          1,
          1,
          1,
          1,
          1,
          1,
          1,
          1,
          1,
          1,
          1,
          1,
          1,
          1,
          0,
          1,
          1,
          1,
          0,
          1,
          1,
          1,
          1,
          1,
          1,
          1,
          1,
          1,
          1,
          1,
          1,
          0,
          1,
          1,
          1,
          1,
          1,
          1,
          1,
          1,
          1,
          1,
          1,
          1,
          1,
          1,
          1,
          1,
          1,
          0,
          1,
          0,
          1,
          1,
          1,
          1,
          1,
          1,
          1,
          1,
          0,
          1,
          1,
          1,
          0,
          1,
          1,
          1,
          1,
          1,
          1,
          1,
          1,
          1,
          1,
          1,
          1,
          1,
          0,
          1,
          1,
          1,
          1,
          1,
          1,
          1,
          1,
          1,
          1,
          1,
          1,
          1,
          1,
          1,
          1,
          1,
          1,
          1,
          1,
          1,
          1,
          1,
          1,
          1,
          1,
          1,
          1,
          1,
          1,
          1,
          1,
          1,
          1,
          0,
          1,
          1,
          1,
          0,
          1,
          1,
          1,
          1,
          1,
          1,
          1,
          1,
          1,
          1,
          1,
          1,
          1,
          1,
          1,
          1,
          0,
          1,
          1,
          1,
          1,
          0,
          1,
          1,
          1,
          1,
          1,
          1,
          1,
          1,
          1,
          1,
          1,
          1,
          1,
          1,
          1,
          1,
          1,
          1,
          1,
          1,
          1,
          1,
          1,
          1,
          1,
          1,
          1,
          1,
          1,
          1,
          1,
          1,
          1,
          1,
          1,
          1,
          1,
          1,
          1,
          1,
          1,
          1,
          1,
          1,
          1,
          1,
          1,
          1,
          1,
          1,
          1,
          1,
          1,
          1,
          0,
          1,
          1,
          1,
          1,
          1,
          1,
          1,
          1,
          1,
          1,
          1,
          1,
          1,
          1,
          0,
          1,
          1,
          1,
          1,
          1,
          1,
          1,
          1,
          1,
          1,
          1,
          1,
          1,
          0,
          1,
          1,
          1,
          1,
          0,
          1,
          1,
          1,
          0,
          1,
          1,
          1,
          1,
          1,
          1,
          1,
          0,
          0,
          1,
          1,
          1,
          1,
          1,
          1,
          1,
          1,
          1,
          0,
          0,
          1,
          1,
          1,
          1,
          1,
          1,
          1,
          1,
          1,
          1,
          1,
          1,
          1,
          1,
          1,
          1,
          1,
          1,
          1,
          1,
          1,
          1,
          0,
          1,
          1,
          1,
          1,
          1,
          1,
          1,
          1,
          1,
          1,
          0,
          1,
          1,
          1,
          1,
          1,
          1,
          1,
          1,
          1,
          1,
          1,
          1,
          1,
          1,
          1,
          1,
          1,
          1,
          0,
          1,
          1,
          1,
          1,
          1,
          1,
          1,
          1,
          1,
          1,
          1,
          1,
          1,
          1,
          1,
          1,
          1,
          1,
          1,
          1,
          1,
          1,
          1,
          1,
          1,
          1,
          1,
          1,
          1,
          1,
          1,
          1,
          1,
          1,
          1,
          1,
          1,
          1,
          1,
          1,
          1,
          1,
          1,
          1,
          1,
          1,
          1,
          1,
          1,
          0,
          1,
          1,
          1,
          1,
          1,
          1,
          1,
          0,
          0,
          1,
          1,
          1,
          1,
          1,
          1,
          1,
          0
         ],
         "type": "sunburst"
        }
       ],
       "layout": {
        "template": {
         "data": {
          "histogram2dcontour": [
           {
            "type": "histogram2dcontour",
            "colorbar": {
             "outlinewidth": 0,
             "ticks": ""
            },
            "colorscale": [
             [
              0.0,
              "#0d0887"
             ],
             [
              0.1111111111111111,
              "#46039f"
             ],
             [
              0.2222222222222222,
              "#7201a8"
             ],
             [
              0.3333333333333333,
              "#9c179e"
             ],
             [
              0.4444444444444444,
              "#bd3786"
             ],
             [
              0.5555555555555556,
              "#d8576b"
             ],
             [
              0.6666666666666666,
              "#ed7953"
             ],
             [
              0.7777777777777778,
              "#fb9f3a"
             ],
             [
              0.8888888888888888,
              "#fdca26"
             ],
             [
              1.0,
              "#f0f921"
             ]
            ]
           }
          ],
          "choropleth": [
           {
            "type": "choropleth",
            "colorbar": {
             "outlinewidth": 0,
             "ticks": ""
            }
           }
          ],
          "histogram2d": [
           {
            "type": "histogram2d",
            "colorbar": {
             "outlinewidth": 0,
             "ticks": ""
            },
            "colorscale": [
             [
              0.0,
              "#0d0887"
             ],
             [
              0.1111111111111111,
              "#46039f"
             ],
             [
              0.2222222222222222,
              "#7201a8"
             ],
             [
              0.3333333333333333,
              "#9c179e"
             ],
             [
              0.4444444444444444,
              "#bd3786"
             ],
             [
              0.5555555555555556,
              "#d8576b"
             ],
             [
              0.6666666666666666,
              "#ed7953"
             ],
             [
              0.7777777777777778,
              "#fb9f3a"
             ],
             [
              0.8888888888888888,
              "#fdca26"
             ],
             [
              1.0,
              "#f0f921"
             ]
            ]
           }
          ],
          "heatmap": [
           {
            "type": "heatmap",
            "colorbar": {
             "outlinewidth": 0,
             "ticks": ""
            },
            "colorscale": [
             [
              0.0,
              "#0d0887"
             ],
             [
              0.1111111111111111,
              "#46039f"
             ],
             [
              0.2222222222222222,
              "#7201a8"
             ],
             [
              0.3333333333333333,
              "#9c179e"
             ],
             [
              0.4444444444444444,
              "#bd3786"
             ],
             [
              0.5555555555555556,
              "#d8576b"
             ],
             [
              0.6666666666666666,
              "#ed7953"
             ],
             [
              0.7777777777777778,
              "#fb9f3a"
             ],
             [
              0.8888888888888888,
              "#fdca26"
             ],
             [
              1.0,
              "#f0f921"
             ]
            ]
           }
          ],
          "heatmapgl": [
           {
            "type": "heatmapgl",
            "colorbar": {
             "outlinewidth": 0,
             "ticks": ""
            },
            "colorscale": [
             [
              0.0,
              "#0d0887"
             ],
             [
              0.1111111111111111,
              "#46039f"
             ],
             [
              0.2222222222222222,
              "#7201a8"
             ],
             [
              0.3333333333333333,
              "#9c179e"
             ],
             [
              0.4444444444444444,
              "#bd3786"
             ],
             [
              0.5555555555555556,
              "#d8576b"
             ],
             [
              0.6666666666666666,
              "#ed7953"
             ],
             [
              0.7777777777777778,
              "#fb9f3a"
             ],
             [
              0.8888888888888888,
              "#fdca26"
             ],
             [
              1.0,
              "#f0f921"
             ]
            ]
           }
          ],
          "contourcarpet": [
           {
            "type": "contourcarpet",
            "colorbar": {
             "outlinewidth": 0,
             "ticks": ""
            }
           }
          ],
          "contour": [
           {
            "type": "contour",
            "colorbar": {
             "outlinewidth": 0,
             "ticks": ""
            },
            "colorscale": [
             [
              0.0,
              "#0d0887"
             ],
             [
              0.1111111111111111,
              "#46039f"
             ],
             [
              0.2222222222222222,
              "#7201a8"
             ],
             [
              0.3333333333333333,
              "#9c179e"
             ],
             [
              0.4444444444444444,
              "#bd3786"
             ],
             [
              0.5555555555555556,
              "#d8576b"
             ],
             [
              0.6666666666666666,
              "#ed7953"
             ],
             [
              0.7777777777777778,
              "#fb9f3a"
             ],
             [
              0.8888888888888888,
              "#fdca26"
             ],
             [
              1.0,
              "#f0f921"
             ]
            ]
           }
          ],
          "surface": [
           {
            "type": "surface",
            "colorbar": {
             "outlinewidth": 0,
             "ticks": ""
            },
            "colorscale": [
             [
              0.0,
              "#0d0887"
             ],
             [
              0.1111111111111111,
              "#46039f"
             ],
             [
              0.2222222222222222,
              "#7201a8"
             ],
             [
              0.3333333333333333,
              "#9c179e"
             ],
             [
              0.4444444444444444,
              "#bd3786"
             ],
             [
              0.5555555555555556,
              "#d8576b"
             ],
             [
              0.6666666666666666,
              "#ed7953"
             ],
             [
              0.7777777777777778,
              "#fb9f3a"
             ],
             [
              0.8888888888888888,
              "#fdca26"
             ],
             [
              1.0,
              "#f0f921"
             ]
            ]
           }
          ],
          "mesh3d": [
           {
            "type": "mesh3d",
            "colorbar": {
             "outlinewidth": 0,
             "ticks": ""
            }
           }
          ],
          "scatter": [
           {
            "marker": {
             "line": {
              "color": "#283442"
             }
            },
            "type": "scatter"
           }
          ],
          "parcoords": [
           {
            "type": "parcoords",
            "line": {
             "colorbar": {
              "outlinewidth": 0,
              "ticks": ""
             }
            }
           }
          ],
          "scatterpolargl": [
           {
            "type": "scatterpolargl",
            "marker": {
             "colorbar": {
              "outlinewidth": 0,
              "ticks": ""
             }
            }
           }
          ],
          "bar": [
           {
            "error_x": {
             "color": "#f2f5fa"
            },
            "error_y": {
             "color": "#f2f5fa"
            },
            "marker": {
             "line": {
              "color": "rgb(17,17,17)",
              "width": 0.5
             },
             "pattern": {
              "fillmode": "overlay",
              "size": 10,
              "solidity": 0.2
             }
            },
            "type": "bar"
           }
          ],
          "scattergeo": [
           {
            "type": "scattergeo",
            "marker": {
             "colorbar": {
              "outlinewidth": 0,
              "ticks": ""
             }
            }
           }
          ],
          "scatterpolar": [
           {
            "type": "scatterpolar",
            "marker": {
             "colorbar": {
              "outlinewidth": 0,
              "ticks": ""
             }
            }
           }
          ],
          "histogram": [
           {
            "marker": {
             "pattern": {
              "fillmode": "overlay",
              "size": 10,
              "solidity": 0.2
             }
            },
            "type": "histogram"
           }
          ],
          "scattergl": [
           {
            "marker": {
             "line": {
              "color": "#283442"
             }
            },
            "type": "scattergl"
           }
          ],
          "scatter3d": [
           {
            "type": "scatter3d",
            "line": {
             "colorbar": {
              "outlinewidth": 0,
              "ticks": ""
             }
            },
            "marker": {
             "colorbar": {
              "outlinewidth": 0,
              "ticks": ""
             }
            }
           }
          ],
          "scattermapbox": [
           {
            "type": "scattermapbox",
            "marker": {
             "colorbar": {
              "outlinewidth": 0,
              "ticks": ""
             }
            }
           }
          ],
          "scatterternary": [
           {
            "type": "scatterternary",
            "marker": {
             "colorbar": {
              "outlinewidth": 0,
              "ticks": ""
             }
            }
           }
          ],
          "scattercarpet": [
           {
            "type": "scattercarpet",
            "marker": {
             "colorbar": {
              "outlinewidth": 0,
              "ticks": ""
             }
            }
           }
          ],
          "carpet": [
           {
            "aaxis": {
             "endlinecolor": "#A2B1C6",
             "gridcolor": "#506784",
             "linecolor": "#506784",
             "minorgridcolor": "#506784",
             "startlinecolor": "#A2B1C6"
            },
            "baxis": {
             "endlinecolor": "#A2B1C6",
             "gridcolor": "#506784",
             "linecolor": "#506784",
             "minorgridcolor": "#506784",
             "startlinecolor": "#A2B1C6"
            },
            "type": "carpet"
           }
          ],
          "table": [
           {
            "cells": {
             "fill": {
              "color": "#506784"
             },
             "line": {
              "color": "rgb(17,17,17)"
             }
            },
            "header": {
             "fill": {
              "color": "#2a3f5f"
             },
             "line": {
              "color": "rgb(17,17,17)"
             }
            },
            "type": "table"
           }
          ],
          "barpolar": [
           {
            "marker": {
             "line": {
              "color": "rgb(17,17,17)",
              "width": 0.5
             },
             "pattern": {
              "fillmode": "overlay",
              "size": 10,
              "solidity": 0.2
             }
            },
            "type": "barpolar"
           }
          ],
          "pie": [
           {
            "automargin": true,
            "type": "pie"
           }
          ]
         },
         "layout": {
          "autotypenumbers": "strict",
          "colorway": [
           "#636efa",
           "#EF553B",
           "#00cc96",
           "#ab63fa",
           "#FFA15A",
           "#19d3f3",
           "#FF6692",
           "#B6E880",
           "#FF97FF",
           "#FECB52"
          ],
          "font": {
           "color": "#f2f5fa"
          },
          "hovermode": "closest",
          "hoverlabel": {
           "align": "left"
          },
          "paper_bgcolor": "rgb(17,17,17)",
          "plot_bgcolor": "rgb(17,17,17)",
          "polar": {
           "bgcolor": "rgb(17,17,17)",
           "angularaxis": {
            "gridcolor": "#506784",
            "linecolor": "#506784",
            "ticks": ""
           },
           "radialaxis": {
            "gridcolor": "#506784",
            "linecolor": "#506784",
            "ticks": ""
           }
          },
          "ternary": {
           "bgcolor": "rgb(17,17,17)",
           "aaxis": {
            "gridcolor": "#506784",
            "linecolor": "#506784",
            "ticks": ""
           },
           "baxis": {
            "gridcolor": "#506784",
            "linecolor": "#506784",
            "ticks": ""
           },
           "caxis": {
            "gridcolor": "#506784",
            "linecolor": "#506784",
            "ticks": ""
           }
          },
          "coloraxis": {
           "colorbar": {
            "outlinewidth": 0,
            "ticks": ""
           }
          },
          "colorscale": {
           "sequential": [
            [
             0.0,
             "#0d0887"
            ],
            [
             0.1111111111111111,
             "#46039f"
            ],
            [
             0.2222222222222222,
             "#7201a8"
            ],
            [
             0.3333333333333333,
             "#9c179e"
            ],
            [
             0.4444444444444444,
             "#bd3786"
            ],
            [
             0.5555555555555556,
             "#d8576b"
            ],
            [
             0.6666666666666666,
             "#ed7953"
            ],
            [
             0.7777777777777778,
             "#fb9f3a"
            ],
            [
             0.8888888888888888,
             "#fdca26"
            ],
            [
             1.0,
             "#f0f921"
            ]
           ],
           "sequentialminus": [
            [
             0.0,
             "#0d0887"
            ],
            [
             0.1111111111111111,
             "#46039f"
            ],
            [
             0.2222222222222222,
             "#7201a8"
            ],
            [
             0.3333333333333333,
             "#9c179e"
            ],
            [
             0.4444444444444444,
             "#bd3786"
            ],
            [
             0.5555555555555556,
             "#d8576b"
            ],
            [
             0.6666666666666666,
             "#ed7953"
            ],
            [
             0.7777777777777778,
             "#fb9f3a"
            ],
            [
             0.8888888888888888,
             "#fdca26"
            ],
            [
             1.0,
             "#f0f921"
            ]
           ],
           "diverging": [
            [
             0,
             "#8e0152"
            ],
            [
             0.1,
             "#c51b7d"
            ],
            [
             0.2,
             "#de77ae"
            ],
            [
             0.3,
             "#f1b6da"
            ],
            [
             0.4,
             "#fde0ef"
            ],
            [
             0.5,
             "#f7f7f7"
            ],
            [
             0.6,
             "#e6f5d0"
            ],
            [
             0.7,
             "#b8e186"
            ],
            [
             0.8,
             "#7fbc41"
            ],
            [
             0.9,
             "#4d9221"
            ],
            [
             1,
             "#276419"
            ]
           ]
          },
          "xaxis": {
           "gridcolor": "#283442",
           "linecolor": "#506784",
           "ticks": "",
           "title": {
            "standoff": 15
           },
           "zerolinecolor": "#283442",
           "automargin": true,
           "zerolinewidth": 2
          },
          "yaxis": {
           "gridcolor": "#283442",
           "linecolor": "#506784",
           "ticks": "",
           "title": {
            "standoff": 15
           },
           "zerolinecolor": "#283442",
           "automargin": true,
           "zerolinewidth": 2
          },
          "scene": {
           "xaxis": {
            "backgroundcolor": "rgb(17,17,17)",
            "gridcolor": "#506784",
            "linecolor": "#506784",
            "showbackground": true,
            "ticks": "",
            "zerolinecolor": "#C8D4E3",
            "gridwidth": 2
           },
           "yaxis": {
            "backgroundcolor": "rgb(17,17,17)",
            "gridcolor": "#506784",
            "linecolor": "#506784",
            "showbackground": true,
            "ticks": "",
            "zerolinecolor": "#C8D4E3",
            "gridwidth": 2
           },
           "zaxis": {
            "backgroundcolor": "rgb(17,17,17)",
            "gridcolor": "#506784",
            "linecolor": "#506784",
            "showbackground": true,
            "ticks": "",
            "zerolinecolor": "#C8D4E3",
            "gridwidth": 2
           }
          },
          "shapedefaults": {
           "line": {
            "color": "#f2f5fa"
           }
          },
          "annotationdefaults": {
           "arrowcolor": "#f2f5fa",
           "arrowhead": 0,
           "arrowwidth": 1
          },
          "geo": {
           "bgcolor": "rgb(17,17,17)",
           "landcolor": "rgb(17,17,17)",
           "subunitcolor": "#506784",
           "showland": true,
           "showlakes": true,
           "lakecolor": "rgb(17,17,17)"
          },
          "title": {
           "x": 0.05
          },
          "updatemenudefaults": {
           "bgcolor": "#506784",
           "borderwidth": 0
          },
          "sliderdefaults": {
           "bgcolor": "#C8D4E3",
           "borderwidth": 1,
           "bordercolor": "rgb(17,17,17)",
           "tickwidth": 0
          },
          "mapbox": {
           "style": "dark"
          }
         }
        },
        "legend": {
         "tracegroupgap": 0
        },
        "margin": {
         "t": 60
        }
       },
       "config": {
        "plotlyServerURL": "https://plot.ly"
       }
      },
      "text/html": "<div>                            <div id=\"23ec0081-1d8c-47da-9ab2-0eb59bc3f1be\" class=\"plotly-graph-div\" style=\"height:525px; width:100%;\"></div>            <script type=\"text/javascript\">                require([\"plotly\"], function(Plotly) {                    window.PLOTLYENV=window.PLOTLYENV || {};                                    if (document.getElementById(\"23ec0081-1d8c-47da-9ab2-0eb59bc3f1be\")) {                    Plotly.newPlot(                        \"23ec0081-1d8c-47da-9ab2-0eb59bc3f1be\",                        [{\"domain\":{\"x\":[0.0,1.0],\"y\":[0.0,1.0]},\"hovertemplate\":\"organization=%{label}\\u003cbr\\u003emission_statuses=%{value}\\u003cbr\\u003ecountry=%{parent}\\u003cextra\\u003e\\u003c\\u002fextra\\u003e\",\"labels\":[\"SpaceX\",\"CASC\",\"Roscosmos\",\"ULA\",\"CASC\",\"Roscosmos\",\"SpaceX\",\"JAXA\",\"Northrop\",\"ExPace\",\"CASC\",\"CASC\",\"Rocket Lab\",\"CASC\",\"SpaceX\",\"CASC\",\"CASC\",\"SpaceX\",\"Rocket Lab\",\"CASC\",\"SpaceX\",\"CASC\",\"SpaceX\",\"CASC\",\"Virgin Orbit\",\"MHI\",\"ULA\",\"Roscosmos\",\"SpaceX\",\"CASC\",\"Roscosmos\",\"ULA\",\"CASC\",\"Arianespace\",\"SpaceX\",\"CASC\",\"SpaceX\",\"VKS RF\",\"CASC\",\"Arianespace\",\"SpaceX\",\"Northrop\",\"ULA\",\"MHI\",\"Arianespace\",\"Rocket Lab\",\"SpaceX\",\"SpaceX\",\"Arianespace\",\"CASC\",\"CASC\",\"SpaceX\",\"VKS RF\",\"Roscosmos\",\"CASC\",\"SpaceX\",\"ISRO\",\"VKS RF\",\"Roscosmos\",\"Rocket Lab\",\"SpaceX\",\"CASC\",\"ISRO\",\"Arianespace\",\"SpaceX\",\"CASC\",\"CASC\",\"Northrop\",\"CASC\",\"Rocket Lab\",\"Northrop\",\"ILS\",\"CASC\",\"VKS RF\",\"CASC\",\"MHI\",\"CASC\",\"CASC\",\"VKS RF\",\"ULA\",\"Roscosmos\",\"Rocket Lab\",\"CASC\",\"CASC\",\"ULA\",\"SpaceX\",\"Arianespace\",\"Roscosmos\",\"Roscosmos\",\"VKS RF\",\"CASC\",\"SpaceX\",\"ISRO\",\"Roscosmos\",\"Arianespace\",\"Rocket Lab\",\"SpaceX\",\"CASC\",\"Arianespace\",\"SpaceX\",\"CASC\",\"Roscosmos\",\"SpaceX\",\"CASC\",\"ISRO\",\"Rocket Lab\",\"SpaceX\",\"CASC\",\"CASC\",\"Northrop\",\"SpaceX\",\"Roscosmos\",\"ISRO\",\"CASC\",\"Rocket Lab\",\"Arianespace\",\"CASC\",\"SpaceX\",\"SpaceX\",\"Arianespace\",\"CASC\",\"ULA\",\"JAXA\",\"SpaceX\",\"CASC\",\"Roscosmos\",\"SpaceX\",\"CASC\",\"VKS RF\",\"ISRO\",\"Rocket Lab\",\"CASC\",\"CASC\",\"SpaceX\",\"Arianespace\",\"SpaceX\",\"VKS RF\",\"ISRO\",\"Arianespace\",\"CASC\",\"Northrop\",\"SpaceX\",\"ISRO\",\"Rocket Lab\",\"VKS RF\",\"CASC\",\"MHI\",\"CASC\",\"Roscosmos\",\"CASC\",\"Arianespace\",\"ULA\",\"CASC\",\"SpaceX\",\"Arianespace\",\"MHI\",\"ISRO\",\"SpaceX\",\"CASC\",\"Arianespace\",\"ULA\",\"SpaceX\",\"CASC\",\"SpaceX\",\"SpaceX\",\"Roscosmos\",\"CASC\",\"CASC\",\"SpaceX\",\"CASC\",\"MHI\",\"CASC\",\"SpaceX\",\"CASC\",\"SpaceX\",\"Northrop\",\"CASC\",\"SpaceX\",\"CASC\",\"ULA\",\"CASC\",\"CASC\",\"Eurockot\",\"SpaceX\",\"VKS RF\",\"ULA\",\"ISRO\",\"CASC\",\"Arianespace\",\"SpaceX\",\"CASC\",\"SpaceX\",\"ISRO\",\"CASC\",\"SpaceX\",\"ULA\",\"MHI\",\"SpaceX\",\"Roscosmos\",\"SpaceX\",\"CASC\",\"Roscosmos\",\"SpaceX\",\"Arianespace\",\"CASC\",\"Rocket Lab\",\"ULA\",\"CASC\",\"JAXA\",\"CASC\",\"ISRO\",\"CASC\",\"SpaceX\",\"CASC\",\"CASC\",\"SpaceX\",\"MHI\",\"SpaceX\",\"CASC\",\"CASC\",\"VKS RF\",\"CASC\",\"CASC\",\"Northrop\",\"Arianespace\",\"Northrop\",\"SpaceX\",\"ULA\",\"Roscosmos\",\"Eurockot\",\"SpaceX\",\"MHI\",\"SpaceX\",\"CASC\",\"Arianespace\",\"CASC\",\"VKS RF\",\"ULA\",\"ILS\",\"SpaceX\",\"ISRO\",\"Northrop\",\"SpaceX\",\"ULA\",\"VKS RF\",\"SpaceX\",\"Arianespace\",\"Roscosmos\",\"SpaceX\",\"Arianespace\",\"SpaceX\",\"SpaceX\",\"ISRO\",\"CASC\",\"CASC\",\"Roscosmos\",\"ILS\",\"ISRO\",\"SpaceX\",\"Arianespace\",\"MHI\",\"Rocket Lab\",\"SpaceX\",\"ISRO\",\"Arianespace\",\"SpaceX\",\"ULA\",\"CASC\",\"SpaceX\",\"MHI\",\"SpaceX\",\"Arianespace\",\"ULA\",\"SpaceX\",\"ISRO\",\"Arianespace\",\"ULA\",\"SpaceX\",\"CASC\",\"CASC\",\"Arianespace\",\"CASC\",\"ULA\",\"Northrop\",\"CASC\",\"MHI\",\"ISRO\",\"Arianespace\",\"ULA\",\"CASC\",\"ULA\",\"CASC\",\"MHI\",\"Northrop\",\"Arianespace\",\"ISRO\",\"Arianespace\",\"ULA\",\"ISRO\",\"SpaceX\",\"CASC\",\"Arianespace\",\"ULA\",\"CASC\",\"SpaceX\",\"CASC\",\"CASC\",\"ULA\",\"SpaceX\",\"CASC\",\"ULA\",\"ISRO\",\"Arianespace\",\"SpaceX\",\"ULA\",\"ILS\",\"VKS RF\",\"CASC\",\"VKS RF\",\"SpaceX\",\"CASC\",\"SpaceX\",\"ISRO\",\"SpaceX\",\"CASC\",\"Roscosmos\",\"CASC\",\"VKS RF\",\"ULA\",\"Roscosmos\",\"Roscosmos\",\"ISRO\",\"Arianespace\",\"SpaceX\",\"MHI\",\"Eurockot\",\"VKS RF\",\"ULA\",\"ILS\",\"Arianespace\",\"ISRO\",\"SpaceX\",\"CASC\",\"SpaceX\",\"ISRO\",\"ULA\",\"Arianespace\",\"Arianespace\",\"Sandia\",\"ULA\",\"ULA\",\"ULA\",\"Arianespace\",\"ISRO\",\"CASC\",\"VKS RF\",\"ULA\",\"ISRO\",\"Arianespace\",\"MHI\",\"Arianespace\",\"ULA\",\"ISRO\",\"SpaceX\",\"Arianespace\",\"Arianespace\",\"ULA\",\"SpaceX\",\"Arianespace\",\"SpaceX\",\"VKS RF\",\"ISRO\",\"MHI\",\"Kosmotras\",\"ULA\",\"ULA\",\"SpaceX\",\"SpaceX\",\"Arianespace\",\"MHI\",\"ULA\",\"SpaceX\",\"ISRO\",\"ULA\",\"Arianespace\",\"ULA\",\"MHI\",\"Kosmotras\",\"ULA\",\"Northrop\",\"Arianespace\",\"ISRO\",\"MHI\",\"SpaceX\",\"ULA\",\"Arianespace\",\"SpaceX\",\"ULA\",\"SpaceX\",\"ULA\",\"ULA\",\"SpaceX\",\"Northrop\",\"VKS RF\",\"ISRO\",\"Kosmotras\",\"MHI\",\"VKS RF\",\"ULA\",\"ULA\",\"Arianespace\",\"SpaceX\",\"ULA\",\"ISRO\",\"ULA\",\"Arianespace\",\"MHI\",\"ULA\",\"Arianespace\",\"ULA\",\"Northrop\",\"SpaceX\",\"ISRO\",\"VKS RF\",\"ULA\",\"SpaceX\",\"VKS RF\",\"Kosmotras\",\"Northrop\",\"ULA\",\"ISRO\",\"SpaceX\",\"ULA\",\"Northrop\",\"VKS RF\",\"Northrop\",\"Arianespace\",\"ULA\",\"Kosmotras\",\"MHI\",\"Arianespace\",\"ULA\",\"VKS RF\",\"ISRO\",\"Northrop\",\"ULA\",\"Arianespace\",\"Northrop\",\"ULA\",\"SpaceX\",\"ISRO\",\"ULA\",\"Arianespace\",\"ULA\",\"MHI\",\"VKS RF\",\"Arianespace\",\"ULA\",\"Arianespace\",\"Arianespace\",\"SpaceX\",\"ULA\",\"Arianespace\",\"ULA\",\"ISRO\",\"ULA\",\"Arianespace\",\"VKS RF\",\"MHI\",\"Arianespace\",\"ULA\",\"ULA\",\"Northrop\",\"SpaceX\",\"MHI\",\"Arianespace\",\"ULA\",\"ISRO\",\"ISRO\",\"ULA\",\"ESA\",\"Arianespace\",\"MHI\",\"ULA\",\"ISRO\",\"Northrop\",\"MHI\",\"Arianespace\",\"MHI\",\"Kosmotras\",\"Arianespace\",\"ULA\",\"ULA\",\"ISRO\",\"NASA\",\"Northrop\",\"Arianespace\",\"NASA\",\"ULA\",\"Arianespace\",\"ISRO\",\"ULA\",\"ULA\",\"ULA\",\"Northrop\",\"NASA\",\"Northrop\",\"VKS RF\",\"MHI\",\"ULA\",\"Arianespace\",\"ISRO\",\"SpaceX\",\"Arianespace\",\"ULA\",\"Northrop\",\"Arianespace\",\"Northrop\",\"ULA\",\"VKS RF\",\"ULA\",\"Arianespace\",\"ISRO\",\"Arianespace\",\"Kosmotras\",\"Kosmotras\",\"SpaceX\",\"Eurockot\",\"ULA\",\"Arianespace\",\"NASA\",\"MHI\",\"ULA\",\"ISRO\",\"Kosmotras\",\"NASA\",\"ULA\",\"ULA\",\"NASA\",\"MHI\",\"ULA\",\"NASA\",\"Eurockot\",\"Arianespace\",\"NASA\",\"ULA\",\"Arianespace\",\"ISRO\",\"MHI\",\"ULA\",\"NASA\",\"Arianespace\",\"Kosmotras\",\"NASA\",\"SpaceX\",\"VKS RF\",\"Arianespace\",\"ULA\",\"ULA\",\"Northrop\",\"Arianespace\",\"NASA\",\"ISRO\",\"ULA\",\"Eurockot\",\"NASA\",\"Northrop\",\"Arianespace\",\"MHI\",\"ULA\",\"Arianespace\",\"NASA\",\"CASC\",\"CASC\",\"CASC\",\"CASC\",\"ISRO\",\"Northrop\",\"Kosmotras\",\"SpaceX\",\"Kosmotras\",\"Arianespace\",\"SpaceX\",\"Arianespace\",\"Arianespace\",\"NASA\",\"CASC\",\"VKS RF\",\"ISRO\",\"CASC\",\"Arianespace\",\"Northrop\",\"ULA\",\"ULA\",\"NASA\",\"MHI\",\"NASA\",\"ISRO\",\"ULA\",\"Arianespace\",\"CASC\",\"ULA\",\"NASA\",\"ULA\",\"CASC\",\"ISRO\",\"Arianespace\",\"NASA\",\"Kosmotras\",\"ULA\",\"Kosmotras\",\"NASA\",\"CASC\",\"CASC\",\"CASC\",\"Arianespace\",\"Northrop\",\"Northrop\",\"ISRO\",\"Kosmotras\",\"CASC\",\"CASC\",\"SpaceX\",\"Arianespace\",\"ULA\",\"CASC\",\"ISRO\",\"Northrop\",\"NASA\",\"Arianespace\",\"CASC\",\"Boeing\",\"CASC\",\"Arianespace\",\"CASC\",\"MHI\",\"NASA\",\"CASC\",\"Arianespace\",\"Eurockot\",\"Kosmotras\",\"Kosmotras\",\"ISRO\",\"NASA\",\"Boeing\",\"Arianespace\",\"Boeing\",\"CASC\",\"ILS\",\"Northrop\",\"Northrop\",\"SpaceX\",\"Arianespace\",\"ILS\",\"Arianespace\",\"Eurockot\",\"Northrop\",\"CASC\",\"VKS RF\",\"Kosmotras\",\"ILS\",\"CASC\",\"NASA\",\"CASC\",\"ISRO\",\"Northrop\",\"Northrop\",\"ILS\",\"Arianespace\",\"Boeing\",\"Arianespace\",\"ILS\",\"CASC\",\"VKS RF\",\"CASC\",\"CASC\",\"CASC\",\"ISRO\",\"CASC\",\"CASC\",\"CASC\",\"Arianespace\",\"Kosmotras\",\"Northrop\",\"CASC\",\"Arianespace\",\"CASC\",\"CASC\",\"CASC\",\"Eurockot\",\"CASC\",\"Lockheed\",\"ISRO\",\"Boeing\",\"Northrop\",\"ILS\",\"Eurockot\",\"Northrop\",\"CASC\",\"ILS\",\"ISRO\",\"Northrop\",\"Boeing\",\"Northrop\",\"NASA\",\"Lockheed\",\"Kosmotras\",\"MHI\",\"Arianespace\",\"NASA\",\"Boeing\",\"CASC\",\"NASA\",\"ISRO\",\"ILS\",\"Lockheed\",\"Eurockot\",\"NASA\",\"CASC\",\"NASA\",\"Eurockot\",\"NASA\",\"Northrop\",\"NASA\",\"ISRO\",\"Northrop\",\"MHI\",\"NASA\",\"NASA\",\"NASA\",\"ISRO\",\"NASA\",\"NASA\",\"CASC\",\"NASA\",\"CASC\",\"NASA\",\"Northrop\",\"Kosmotras\",\"Lockheed\",\"NASA\",\"Northrop\",\"Northrop\",\"NASA\",\"Eurockot\",\"Northrop\",\"NASA\",\"Northrop\",\"CASC\",\"Northrop\",\"NASA\",\"Lockheed\",\"Northrop\",\"CASC\",\"NASA\",\"Lockheed\",\"CASC\",\"ISRO\",\"NASA\",\"Northrop\",\"CASC\",\"Kosmotras\",\"Northrop\",\"CASC\",\"Northrop\",\"NASA\",\"NASA\",\"Northrop\",\"Northrop\",\"Northrop\",\"CASC\",\"Northrop\",\"NASA\",\"Lockheed\",\"CASC\",\"NASA\",\"Northrop\",\"CASC\",\"Northrop\",\"Northrop\",\"NASA\",\"Northrop\",\"CASC\",\"NASA\",\"Northrop\",\"ISRO\",\"NASA\",\"CASC\",\"Northrop\",\"NASA\",\"Northrop\",\"NASA\",\"NASA\",\"CASC\",\"Northrop\",\"NASA\",\"Lockheed\",\"NASA\",\"NASA\",\"NASA\",\"Northrop\",\"CASC\",\"NASA\",\"Northrop\",\"Northrop\",\"NASA\",\"NASA\",\"Northrop\",\"NASA\",\"ISRO\",\"Northrop\",\"NASA\",\"NASA\",\"NASA\",\"EER\",\"NASA\",\"NASA\",\"NASA\",\"NASA\",\"Northrop\",\"Northrop\",\"NASA\",\"NASA\",\"CASC\",\"NASA\",\"ISRO\",\"NASA\",\"NASA\",\"Northrop\",\"NASA\",\"CASC\",\"Northrop\",\"Northrop\",\"NASA\",\"Northrop\",\"NASA\",\"CASC\",\"NASA\",\"Martin Marietta\",\"NASA\",\"NASA\",\"CASC\",\"Martin Marietta\",\"ISRO\",\"NASA\",\"NASA\",\"NASA\",\"Northrop\",\"NASA\",\"Northrop\",\"NASA\",\"NASA\",\"NASA\",\"CASC\",\"Martin Marietta\",\"NASA\",\"CASC\",\"NASA\",\"NASA\",\"NASA\",\"Martin Marietta\",\"NASA\",\"NASA\",\"NASA\",\"NASA\",\"NASA\",\"Northrop\",\"NASA\",\"NASA\",\"NASA\",\"NASA\",\"NASA\",\"NASA\",\"CASC\",\"Martin Marietta\",\"NASA\",\"Northrop\",\"Martin Marietta\",\"NASA\",\"NASA\",\"Martin Marietta\",\"NASA\",\"NASA\",\"Martin Marietta\",\"NASA\",\"NASA\",\"NASA\",\"NASA\",\"RVSN USSR\",\"NASA\",\"Martin Marietta\",\"CASC\",\"CASC\",\"CASC\",\"RVSN USSR\",\"CASC\",\"NASA\",\"NASA\",\"NASA\",\"NASA\",\"CASC\",\"NASA\",\"NASA\",\"NASA\",\"NASA\",\"NASA\",\"NASA\",\"NASA\",\"NASA\",\"NASA\",\"CASC\",\"NASA\",\"NASA\",\"NASA\",\"NASA\",\"NASA\",\"CASC\",\"NASA\",\"NASA\",\"NASA\",\"CASC\",\"NASA\",\"NASA\",\"NASA\",\"NASA\",\"NASA\",\"NASA\",\"NASA\",\"NASA\",\"NASA\",\"NASA\",\"NASA\",\"NASA\",\"US Air Force\",\"NASA\",\"US Air Force\",\"US Air Force\",\"NASA\",\"US Air Force\",\"NASA\",\"US Air Force\",\"US Air Force\",\"US Air Force\",\"US Air Force\",\"US Air Force\",\"US Air Force\",\"NASA\",\"US Air Force\",\"US Air Force\",\"US Air Force\",\"NASA\",\"US Air Force\",\"US Air Force\",\"US Air Force\",\"US Air Force\",\"US Air Force\",\"US Air Force\",\"US Air Force\",\"US Air Force\",\"US Air Force\",\"US Air Force\",\"US Air Force\",\"US Air Force\",\"US Air Force\"],\"name\":\"\",\"parents\":[\"USA\",\"CHN\",\"KAZ\",\"USA\",\"CHN\",\"KAZ\",\"USA\",\"JPN\",\"USA\",\"CHN\",\"CHN\",\"CHN\",\"NZL\",\"CHN\",\"USA\",\"CHN\",\"CHN\",\"USA\",\"NZL\",\"CHN\",\"USA\",\"CHN\",\"USA\",\"CHN\",\"USA\",\"JPN\",\"USA\",\"KAZ\",\"USA\",\"CHN\",\"KAZ\",\"USA\",\"CHN\",\"KAZ\",\"USA\",\"CHN\",\"USA\",\"RUS\",\"CHN\",\"FRA\",\"USA\",\"USA\",\"USA\",\"JPN\",\"KAZ\",\"NZL\",\"USA\",\"USA\",\"FRA\",\"CHN\",\"CHN\",\"USA\",\"RUS\",\"KAZ\",\"CHN\",\"USA\",\"IND\",\"RUS\",\"KAZ\",\"NZL\",\"USA\",\"CHN\",\"IND\",\"FRA\",\"USA\",\"CHN\",\"CHN\",\"USA\",\"CHN\",\"NZL\",\"USA\",\"KAZ\",\"CHN\",\"RUS\",\"CHN\",\"JPN\",\"CHN\",\"CHN\",\"RUS\",\"USA\",\"KAZ\",\"NZL\",\"CHN\",\"CHN\",\"USA\",\"USA\",\"FRA\",\"KAZ\",\"KAZ\",\"RUS\",\"CHN\",\"USA\",\"IND\",\"KAZ\",\"FRA\",\"NZL\",\"USA\",\"CHN\",\"FRA\",\"USA\",\"CHN\",\"KAZ\",\"USA\",\"CHN\",\"IND\",\"NZL\",\"USA\",\"CHN\",\"CHN\",\"USA\",\"USA\",\"KAZ\",\"IND\",\"CHN\",\"NZL\",\"FRA\",\"CHN\",\"USA\",\"USA\",\"FRA\",\"CHN\",\"USA\",\"JPN\",\"USA\",\"CHN\",\"RUS\",\"USA\",\"CHN\",\"KAZ\",\"IND\",\"NZL\",\"CHN\",\"CHN\",\"USA\",\"FRA\",\"USA\",\"RUS\",\"IND\",\"FRA\",\"CHN\",\"USA\",\"USA\",\"IND\",\"NZL\",\"RUS\",\"CHN\",\"JPN\",\"CHN\",\"RUS\",\"CHN\",\"FRA\",\"USA\",\"CHN\",\"USA\",\"FRA\",\"JPN\",\"IND\",\"USA\",\"CHN\",\"FRA\",\"USA\",\"USA\",\"CHN\",\"USA\",\"USA\",\"KAZ\",\"CHN\",\"CHN\",\"USA\",\"CHN\",\"JPN\",\"CHN\",\"USA\",\"CHN\",\"USA\",\"USA\",\"CHN\",\"USA\",\"CHN\",\"USA\",\"CHN\",\"CHN\",\"RUS\",\"USA\",\"KAZ\",\"USA\",\"IND\",\"CHN\",\"FRA\",\"USA\",\"CHN\",\"USA\",\"IND\",\"CHN\",\"USA\",\"USA\",\"JPN\",\"USA\",\"KAZ\",\"USA\",\"CHN\",\"RUS\",\"USA\",\"FRA\",\"CHN\",\"NZL\",\"USA\",\"CHN\",\"JPN\",\"CHN\",\"IND\",\"CHN\",\"USA\",\"CHN\",\"CHN\",\"USA\",\"JPN\",\"USA\",\"CHN\",\"CHN\",\"RUS\",\"CHN\",\"CHN\",\"USA\",\"FRA\",\"USA\",\"USA\",\"USA\",\"KAZ\",\"RUS\",\"USA\",\"JPN\",\"USA\",\"CHN\",\"FRA\",\"CHN\",\"KAZ\",\"USA\",\"KAZ\",\"USA\",\"IND\",\"USA\",\"USA\",\"USA\",\"KAZ\",\"USA\",\"FRA\",\"KAZ\",\"USA\",\"FRA\",\"USA\",\"USA\",\"IND\",\"CHN\",\"CHN\",\"KAZ\",\"KAZ\",\"IND\",\"USA\",\"FRA\",\"JPN\",\"NZL\",\"USA\",\"IND\",\"FRA\",\"USA\",\"USA\",\"CHN\",\"USA\",\"JPN\",\"USA\",\"FRA\",\"USA\",\"USA\",\"IND\",\"FRA\",\"USA\",\"USA\",\"CHN\",\"CHN\",\"FRA\",\"CHN\",\"USA\",\"USA\",\"CHN\",\"JPN\",\"IND\",\"FRA\",\"USA\",\"CHN\",\"USA\",\"CHN\",\"JPN\",\"USA\",\"FRA\",\"IND\",\"FRA\",\"USA\",\"IND\",\"USA\",\"CHN\",\"FRA\",\"USA\",\"CHN\",\"USA\",\"CHN\",\"CHN\",\"USA\",\"USA\",\"CHN\",\"USA\",\"IND\",\"FRA\",\"USA\",\"USA\",\"KAZ\",\"RUS\",\"CHN\",\"RUS\",\"USA\",\"CHN\",\"USA\",\"IND\",\"USA\",\"CHN\",\"KAZ\",\"CHN\",\"RUS\",\"USA\",\"KAZ\",\"KAZ\",\"IND\",\"FRA\",\"USA\",\"JPN\",\"RUS\",\"RUS\",\"USA\",\"KAZ\",\"FRA\",\"IND\",\"USA\",\"CHN\",\"USA\",\"IND\",\"USA\",\"FRA\",\"FRA\",\"USA\",\"USA\",\"USA\",\"USA\",\"FRA\",\"IND\",\"CHN\",\"RUS\",\"USA\",\"IND\",\"FRA\",\"JPN\",\"FRA\",\"USA\",\"IND\",\"USA\",\"FRA\",\"FRA\",\"USA\",\"USA\",\"FRA\",\"USA\",\"RUS\",\"IND\",\"JPN\",\"RUS\",\"USA\",\"USA\",\"USA\",\"USA\",\"FRA\",\"JPN\",\"USA\",\"USA\",\"IND\",\"USA\",\"FRA\",\"USA\",\"JPN\",\"RUS\",\"USA\",\"USA\",\"FRA\",\"IND\",\"JPN\",\"USA\",\"USA\",\"FRA\",\"USA\",\"USA\",\"USA\",\"USA\",\"USA\",\"USA\",\"USA\",\"RUS\",\"IND\",\"RUS\",\"JPN\",\"RUS\",\"USA\",\"USA\",\"FRA\",\"USA\",\"USA\",\"IND\",\"USA\",\"FRA\",\"JPN\",\"USA\",\"FRA\",\"USA\",\"USA\",\"USA\",\"IND\",\"RUS\",\"USA\",\"USA\",\"RUS\",\"RUS\",\"USA\",\"USA\",\"IND\",\"USA\",\"USA\",\"USA\",\"RUS\",\"USA\",\"FRA\",\"USA\",\"RUS\",\"JPN\",\"FRA\",\"USA\",\"KAZ\",\"IND\",\"USA\",\"USA\",\"FRA\",\"USA\",\"USA\",\"USA\",\"IND\",\"USA\",\"FRA\",\"USA\",\"JPN\",\"RUS\",\"FRA\",\"USA\",\"FRA\",\"FRA\",\"USA\",\"USA\",\"FRA\",\"USA\",\"IND\",\"USA\",\"FRA\",\"RUS\",\"JPN\",\"FRA\",\"USA\",\"USA\",\"USA\",\"USA\",\"JPN\",\"FRA\",\"USA\",\"IND\",\"IND\",\"USA\",\"FRA\",\"FRA\",\"JPN\",\"USA\",\"IND\",\"USA\",\"JPN\",\"FRA\",\"JPN\",\"RUS\",\"FRA\",\"USA\",\"USA\",\"IND\",\"USA\",\"USA\",\"FRA\",\"USA\",\"USA\",\"FRA\",\"IND\",\"USA\",\"USA\",\"USA\",\"USA\",\"USA\",\"USA\",\"RUS\",\"JPN\",\"USA\",\"FRA\",\"IND\",\"USA\",\"FRA\",\"USA\",\"USA\",\"FRA\",\"USA\",\"USA\",\"RUS\",\"USA\",\"FRA\",\"IND\",\"FRA\",\"KAZ\",\"RUS\",\"USA\",\"RUS\",\"USA\",\"FRA\",\"USA\",\"JPN\",\"USA\",\"IND\",\"KAZ\",\"USA\",\"USA\",\"USA\",\"USA\",\"JPN\",\"USA\",\"USA\",\"RUS\",\"FRA\",\"USA\",\"USA\",\"FRA\",\"IND\",\"JPN\",\"USA\",\"USA\",\"FRA\",\"KAZ\",\"USA\",\"USA\",\"RUS\",\"FRA\",\"USA\",\"USA\",\"USA\",\"FRA\",\"USA\",\"IND\",\"USA\",\"RUS\",\"USA\",\"USA\",\"FRA\",\"JPN\",\"USA\",\"FRA\",\"USA\",\"CHN\",\"CHN\",\"CHN\",\"CHN\",\"IND\",\"USA\",\"RUS\",\"USA\",\"KAZ\",\"FRA\",\"USA\",\"FRA\",\"FRA\",\"USA\",\"CHN\",\"RUS\",\"IND\",\"CHN\",\"FRA\",\"USA\",\"USA\",\"USA\",\"USA\",\"JPN\",\"USA\",\"IND\",\"USA\",\"FRA\",\"CHN\",\"USA\",\"USA\",\"USA\",\"CHN\",\"IND\",\"FRA\",\"USA\",\"RUS\",\"USA\",\"KAZ\",\"USA\",\"CHN\",\"CHN\",\"CHN\",\"FRA\",\"USA\",\"USA\",\"IND\",\"KAZ\",\"CHN\",\"CHN\",\"USA\",\"FRA\",\"USA\",\"CHN\",\"IND\",\"USA\",\"USA\",\"FRA\",\"CHN\",\"USA\",\"CHN\",\"FRA\",\"CHN\",\"JPN\",\"USA\",\"CHN\",\"FRA\",\"RUS\",\"KAZ\",\"RUS\",\"IND\",\"USA\",\"USA\",\"FRA\",\"USA\",\"CHN\",\"USA\",\"USA\",\"USA\",\"USA\",\"FRA\",\"USA\",\"FRA\",\"RUS\",\"USA\",\"CHN\",\"RUS\",\"KAZ\",\"USA\",\"CHN\",\"USA\",\"CHN\",\"IND\",\"USA\",\"USA\",\"USA\",\"FRA\",\"USA\",\"FRA\",\"USA\",\"CHN\",\"RUS\",\"CHN\",\"CHN\",\"CHN\",\"IND\",\"CHN\",\"CHN\",\"CHN\",\"FRA\",\"KAZ\",\"USA\",\"CHN\",\"FRA\",\"CHN\",\"CHN\",\"CHN\",\"RUS\",\"CHN\",\"USA\",\"IND\",\"USA\",\"USA\",\"USA\",\"RUS\",\"USA\",\"CHN\",\"USA\",\"IND\",\"USA\",\"USA\",\"USA\",\"USA\",\"USA\",\"KAZ\",\"JPN\",\"FRA\",\"USA\",\"USA\",\"CHN\",\"USA\",\"IND\",\"USA\",\"USA\",\"RUS\",\"USA\",\"CHN\",\"USA\",\"RUS\",\"USA\",\"USA\",\"USA\",\"IND\",\"USA\",\"JPN\",\"USA\",\"USA\",\"USA\",\"IND\",\"USA\",\"USA\",\"CHN\",\"USA\",\"CHN\",\"USA\",\"USA\",\"KAZ\",\"USA\",\"USA\",\"USA\",\"USA\",\"USA\",\"RUS\",\"USA\",\"USA\",\"USA\",\"CHN\",\"USA\",\"USA\",\"USA\",\"USA\",\"CHN\",\"USA\",\"USA\",\"CHN\",\"IND\",\"USA\",\"USA\",\"CHN\",\"KAZ\",\"USA\",\"CHN\",\"USA\",\"USA\",\"USA\",\"USA\",\"USA\",\"USA\",\"CHN\",\"USA\",\"USA\",\"USA\",\"CHN\",\"USA\",\"USA\",\"CHN\",\"USA\",\"USA\",\"USA\",\"USA\",\"CHN\",\"USA\",\"USA\",\"IND\",\"USA\",\"CHN\",\"USA\",\"USA\",\"USA\",\"USA\",\"USA\",\"CHN\",\"USA\",\"USA\",\"USA\",\"USA\",\"USA\",\"USA\",\"USA\",\"CHN\",\"USA\",\"USA\",\"USA\",\"USA\",\"USA\",\"USA\",\"USA\",\"IND\",\"USA\",\"USA\",\"USA\",\"USA\",\"USA\",\"USA\",\"USA\",\"USA\",\"USA\",\"USA\",\"USA\",\"USA\",\"USA\",\"CHN\",\"USA\",\"IND\",\"USA\",\"USA\",\"USA\",\"USA\",\"CHN\",\"USA\",\"USA\",\"USA\",\"USA\",\"USA\",\"CHN\",\"USA\",\"USA\",\"USA\",\"USA\",\"CHN\",\"USA\",\"IND\",\"USA\",\"USA\",\"USA\",\"USA\",\"USA\",\"USA\",\"USA\",\"USA\",\"USA\",\"CHN\",\"USA\",\"USA\",\"CHN\",\"USA\",\"USA\",\"USA\",\"USA\",\"USA\",\"USA\",\"USA\",\"USA\",\"USA\",\"USA\",\"USA\",\"USA\",\"USA\",\"USA\",\"USA\",\"USA\",\"CHN\",\"USA\",\"USA\",\"USA\",\"USA\",\"USA\",\"USA\",\"USA\",\"USA\",\"USA\",\"USA\",\"USA\",\"USA\",\"USA\",\"USA\",\"KAZ\",\"USA\",\"USA\",\"CHN\",\"CHN\",\"CHN\",\"KAZ\",\"CHN\",\"USA\",\"USA\",\"USA\",\"USA\",\"CHN\",\"USA\",\"USA\",\"USA\",\"USA\",\"USA\",\"USA\",\"USA\",\"USA\",\"USA\",\"CHN\",\"USA\",\"USA\",\"USA\",\"USA\",\"USA\",\"CHN\",\"USA\",\"USA\",\"USA\",\"CHN\",\"USA\",\"USA\",\"USA\",\"USA\",\"USA\",\"USA\",\"USA\",\"USA\",\"USA\",\"USA\",\"USA\",\"USA\",\"USA\",\"USA\",\"USA\",\"USA\",\"USA\",\"USA\",\"USA\",\"USA\",\"USA\",\"USA\",\"USA\",\"USA\",\"USA\",\"USA\",\"USA\",\"USA\",\"USA\",\"USA\",\"USA\",\"USA\",\"USA\",\"USA\",\"USA\",\"USA\",\"USA\",\"USA\",\"USA\",\"USA\",\"USA\",\"USA\",\"USA\"],\"values\":[1,1,1,1,1,1,1,1,1,0,1,1,0,1,1,1,1,1,1,1,1,1,1,1,0,1,1,1,1,0,1,1,1,1,1,1,1,1,1,1,1,1,1,1,1,1,1,1,1,1,1,1,1,1,1,1,1,1,1,1,1,1,1,1,1,1,1,1,1,1,1,1,1,1,1,1,1,1,1,1,1,1,1,1,1,1,1,1,1,1,1,1,1,1,0,1,1,1,1,1,1,1,1,0,1,1,1,1,1,1,1,1,1,1,1,1,1,1,1,1,1,1,1,1,1,1,1,1,1,1,1,1,1,1,1,1,1,1,1,1,1,1,1,1,1,1,1,1,1,1,1,1,1,1,1,1,1,1,1,1,1,1,1,1,1,1,1,1,1,1,1,1,1,1,1,1,1,1,1,1,1,1,1,1,1,1,1,1,1,1,1,1,1,1,1,1,1,1,1,1,1,1,1,0,1,1,1,1,1,1,1,1,1,1,1,1,1,1,1,1,1,1,1,1,1,1,1,1,1,1,1,1,1,1,1,1,1,1,1,1,0,1,1,1,1,1,1,0,1,1,1,1,1,0,1,1,1,1,1,1,1,0,1,1,1,1,1,1,1,1,1,1,1,1,1,1,1,1,1,0,1,1,1,1,1,1,1,1,1,1,1,1,1,1,1,1,1,1,1,0,0,1,1,1,1,1,1,1,1,1,1,1,1,1,1,1,1,1,1,1,1,1,1,1,1,1,1,1,1,1,1,1,1,1,1,1,1,1,1,1,1,1,1,1,1,1,1,1,0,1,1,1,1,1,1,1,1,1,1,1,1,1,1,0,1,1,1,1,1,1,1,1,1,1,1,1,1,1,1,1,1,1,1,1,1,1,1,1,1,0,1,1,1,1,1,1,1,1,1,1,1,1,1,1,1,1,1,1,1,1,1,1,1,1,1,1,1,1,1,1,1,1,1,1,1,1,1,1,1,1,1,1,1,1,1,1,1,1,1,1,1,1,0,1,1,1,1,1,1,1,1,1,1,1,1,0,1,1,1,1,0,1,1,1,1,1,1,1,1,1,1,1,1,1,1,1,1,1,1,1,1,1,1,1,1,1,1,1,1,1,1,1,1,1,1,1,1,1,1,1,1,1,1,1,0,1,1,0,1,1,1,0,1,1,1,1,1,1,1,1,1,1,1,1,1,1,1,1,1,1,1,1,1,0,1,1,1,1,1,1,1,1,1,1,1,1,1,1,1,1,1,1,1,1,1,1,1,1,1,1,1,1,1,1,1,1,0,1,1,1,1,1,1,1,1,1,1,1,1,1,1,1,0,1,1,1,1,1,1,1,1,1,1,1,1,1,1,1,1,1,1,1,1,1,1,0,1,1,1,0,1,1,1,1,1,1,1,1,1,1,1,1,0,1,1,1,1,1,1,1,1,1,1,1,1,1,1,1,1,1,0,1,0,1,1,1,1,1,1,1,1,0,1,1,1,0,1,1,1,1,1,1,1,1,1,1,1,1,1,0,1,1,1,1,1,1,1,1,1,1,1,1,1,1,1,1,1,1,1,1,1,1,1,1,1,1,1,1,1,1,1,1,1,1,0,1,1,1,0,1,1,1,1,1,1,1,1,1,1,1,1,1,1,1,1,0,1,1,1,1,0,1,1,1,1,1,1,1,1,1,1,1,1,1,1,1,1,1,1,1,1,1,1,1,1,1,1,1,1,1,1,1,1,1,1,1,1,1,1,1,1,1,1,1,1,1,1,1,1,1,1,1,1,1,1,0,1,1,1,1,1,1,1,1,1,1,1,1,1,1,0,1,1,1,1,1,1,1,1,1,1,1,1,1,0,1,1,1,1,0,1,1,1,0,1,1,1,1,1,1,1,0,0,1,1,1,1,1,1,1,1,1,0,0,1,1,1,1,1,1,1,1,1,1,1,1,1,1,1,1,1,1,1,1,1,1,0,1,1,1,1,1,1,1,1,1,1,0,1,1,1,1,1,1,1,1,1,1,1,1,1,1,1,1,1,1,0,1,1,1,1,1,1,1,1,1,1,1,1,1,1,1,1,1,1,1,1,1,1,1,1,1,1,1,1,1,1,1,1,1,1,1,1,1,1,1,1,1,1,1,1,1,1,1,1,1,0,1,1,1,1,1,1,1,0,0,1,1,1,1,1,1,1,0],\"type\":\"sunburst\"}],                        {\"template\":{\"data\":{\"histogram2dcontour\":[{\"type\":\"histogram2dcontour\",\"colorbar\":{\"outlinewidth\":0,\"ticks\":\"\"},\"colorscale\":[[0.0,\"#0d0887\"],[0.1111111111111111,\"#46039f\"],[0.2222222222222222,\"#7201a8\"],[0.3333333333333333,\"#9c179e\"],[0.4444444444444444,\"#bd3786\"],[0.5555555555555556,\"#d8576b\"],[0.6666666666666666,\"#ed7953\"],[0.7777777777777778,\"#fb9f3a\"],[0.8888888888888888,\"#fdca26\"],[1.0,\"#f0f921\"]]}],\"choropleth\":[{\"type\":\"choropleth\",\"colorbar\":{\"outlinewidth\":0,\"ticks\":\"\"}}],\"histogram2d\":[{\"type\":\"histogram2d\",\"colorbar\":{\"outlinewidth\":0,\"ticks\":\"\"},\"colorscale\":[[0.0,\"#0d0887\"],[0.1111111111111111,\"#46039f\"],[0.2222222222222222,\"#7201a8\"],[0.3333333333333333,\"#9c179e\"],[0.4444444444444444,\"#bd3786\"],[0.5555555555555556,\"#d8576b\"],[0.6666666666666666,\"#ed7953\"],[0.7777777777777778,\"#fb9f3a\"],[0.8888888888888888,\"#fdca26\"],[1.0,\"#f0f921\"]]}],\"heatmap\":[{\"type\":\"heatmap\",\"colorbar\":{\"outlinewidth\":0,\"ticks\":\"\"},\"colorscale\":[[0.0,\"#0d0887\"],[0.1111111111111111,\"#46039f\"],[0.2222222222222222,\"#7201a8\"],[0.3333333333333333,\"#9c179e\"],[0.4444444444444444,\"#bd3786\"],[0.5555555555555556,\"#d8576b\"],[0.6666666666666666,\"#ed7953\"],[0.7777777777777778,\"#fb9f3a\"],[0.8888888888888888,\"#fdca26\"],[1.0,\"#f0f921\"]]}],\"heatmapgl\":[{\"type\":\"heatmapgl\",\"colorbar\":{\"outlinewidth\":0,\"ticks\":\"\"},\"colorscale\":[[0.0,\"#0d0887\"],[0.1111111111111111,\"#46039f\"],[0.2222222222222222,\"#7201a8\"],[0.3333333333333333,\"#9c179e\"],[0.4444444444444444,\"#bd3786\"],[0.5555555555555556,\"#d8576b\"],[0.6666666666666666,\"#ed7953\"],[0.7777777777777778,\"#fb9f3a\"],[0.8888888888888888,\"#fdca26\"],[1.0,\"#f0f921\"]]}],\"contourcarpet\":[{\"type\":\"contourcarpet\",\"colorbar\":{\"outlinewidth\":0,\"ticks\":\"\"}}],\"contour\":[{\"type\":\"contour\",\"colorbar\":{\"outlinewidth\":0,\"ticks\":\"\"},\"colorscale\":[[0.0,\"#0d0887\"],[0.1111111111111111,\"#46039f\"],[0.2222222222222222,\"#7201a8\"],[0.3333333333333333,\"#9c179e\"],[0.4444444444444444,\"#bd3786\"],[0.5555555555555556,\"#d8576b\"],[0.6666666666666666,\"#ed7953\"],[0.7777777777777778,\"#fb9f3a\"],[0.8888888888888888,\"#fdca26\"],[1.0,\"#f0f921\"]]}],\"surface\":[{\"type\":\"surface\",\"colorbar\":{\"outlinewidth\":0,\"ticks\":\"\"},\"colorscale\":[[0.0,\"#0d0887\"],[0.1111111111111111,\"#46039f\"],[0.2222222222222222,\"#7201a8\"],[0.3333333333333333,\"#9c179e\"],[0.4444444444444444,\"#bd3786\"],[0.5555555555555556,\"#d8576b\"],[0.6666666666666666,\"#ed7953\"],[0.7777777777777778,\"#fb9f3a\"],[0.8888888888888888,\"#fdca26\"],[1.0,\"#f0f921\"]]}],\"mesh3d\":[{\"type\":\"mesh3d\",\"colorbar\":{\"outlinewidth\":0,\"ticks\":\"\"}}],\"scatter\":[{\"marker\":{\"line\":{\"color\":\"#283442\"}},\"type\":\"scatter\"}],\"parcoords\":[{\"type\":\"parcoords\",\"line\":{\"colorbar\":{\"outlinewidth\":0,\"ticks\":\"\"}}}],\"scatterpolargl\":[{\"type\":\"scatterpolargl\",\"marker\":{\"colorbar\":{\"outlinewidth\":0,\"ticks\":\"\"}}}],\"bar\":[{\"error_x\":{\"color\":\"#f2f5fa\"},\"error_y\":{\"color\":\"#f2f5fa\"},\"marker\":{\"line\":{\"color\":\"rgb(17,17,17)\",\"width\":0.5},\"pattern\":{\"fillmode\":\"overlay\",\"size\":10,\"solidity\":0.2}},\"type\":\"bar\"}],\"scattergeo\":[{\"type\":\"scattergeo\",\"marker\":{\"colorbar\":{\"outlinewidth\":0,\"ticks\":\"\"}}}],\"scatterpolar\":[{\"type\":\"scatterpolar\",\"marker\":{\"colorbar\":{\"outlinewidth\":0,\"ticks\":\"\"}}}],\"histogram\":[{\"marker\":{\"pattern\":{\"fillmode\":\"overlay\",\"size\":10,\"solidity\":0.2}},\"type\":\"histogram\"}],\"scattergl\":[{\"marker\":{\"line\":{\"color\":\"#283442\"}},\"type\":\"scattergl\"}],\"scatter3d\":[{\"type\":\"scatter3d\",\"line\":{\"colorbar\":{\"outlinewidth\":0,\"ticks\":\"\"}},\"marker\":{\"colorbar\":{\"outlinewidth\":0,\"ticks\":\"\"}}}],\"scattermapbox\":[{\"type\":\"scattermapbox\",\"marker\":{\"colorbar\":{\"outlinewidth\":0,\"ticks\":\"\"}}}],\"scatterternary\":[{\"type\":\"scatterternary\",\"marker\":{\"colorbar\":{\"outlinewidth\":0,\"ticks\":\"\"}}}],\"scattercarpet\":[{\"type\":\"scattercarpet\",\"marker\":{\"colorbar\":{\"outlinewidth\":0,\"ticks\":\"\"}}}],\"carpet\":[{\"aaxis\":{\"endlinecolor\":\"#A2B1C6\",\"gridcolor\":\"#506784\",\"linecolor\":\"#506784\",\"minorgridcolor\":\"#506784\",\"startlinecolor\":\"#A2B1C6\"},\"baxis\":{\"endlinecolor\":\"#A2B1C6\",\"gridcolor\":\"#506784\",\"linecolor\":\"#506784\",\"minorgridcolor\":\"#506784\",\"startlinecolor\":\"#A2B1C6\"},\"type\":\"carpet\"}],\"table\":[{\"cells\":{\"fill\":{\"color\":\"#506784\"},\"line\":{\"color\":\"rgb(17,17,17)\"}},\"header\":{\"fill\":{\"color\":\"#2a3f5f\"},\"line\":{\"color\":\"rgb(17,17,17)\"}},\"type\":\"table\"}],\"barpolar\":[{\"marker\":{\"line\":{\"color\":\"rgb(17,17,17)\",\"width\":0.5},\"pattern\":{\"fillmode\":\"overlay\",\"size\":10,\"solidity\":0.2}},\"type\":\"barpolar\"}],\"pie\":[{\"automargin\":true,\"type\":\"pie\"}]},\"layout\":{\"autotypenumbers\":\"strict\",\"colorway\":[\"#636efa\",\"#EF553B\",\"#00cc96\",\"#ab63fa\",\"#FFA15A\",\"#19d3f3\",\"#FF6692\",\"#B6E880\",\"#FF97FF\",\"#FECB52\"],\"font\":{\"color\":\"#f2f5fa\"},\"hovermode\":\"closest\",\"hoverlabel\":{\"align\":\"left\"},\"paper_bgcolor\":\"rgb(17,17,17)\",\"plot_bgcolor\":\"rgb(17,17,17)\",\"polar\":{\"bgcolor\":\"rgb(17,17,17)\",\"angularaxis\":{\"gridcolor\":\"#506784\",\"linecolor\":\"#506784\",\"ticks\":\"\"},\"radialaxis\":{\"gridcolor\":\"#506784\",\"linecolor\":\"#506784\",\"ticks\":\"\"}},\"ternary\":{\"bgcolor\":\"rgb(17,17,17)\",\"aaxis\":{\"gridcolor\":\"#506784\",\"linecolor\":\"#506784\",\"ticks\":\"\"},\"baxis\":{\"gridcolor\":\"#506784\",\"linecolor\":\"#506784\",\"ticks\":\"\"},\"caxis\":{\"gridcolor\":\"#506784\",\"linecolor\":\"#506784\",\"ticks\":\"\"}},\"coloraxis\":{\"colorbar\":{\"outlinewidth\":0,\"ticks\":\"\"}},\"colorscale\":{\"sequential\":[[0.0,\"#0d0887\"],[0.1111111111111111,\"#46039f\"],[0.2222222222222222,\"#7201a8\"],[0.3333333333333333,\"#9c179e\"],[0.4444444444444444,\"#bd3786\"],[0.5555555555555556,\"#d8576b\"],[0.6666666666666666,\"#ed7953\"],[0.7777777777777778,\"#fb9f3a\"],[0.8888888888888888,\"#fdca26\"],[1.0,\"#f0f921\"]],\"sequentialminus\":[[0.0,\"#0d0887\"],[0.1111111111111111,\"#46039f\"],[0.2222222222222222,\"#7201a8\"],[0.3333333333333333,\"#9c179e\"],[0.4444444444444444,\"#bd3786\"],[0.5555555555555556,\"#d8576b\"],[0.6666666666666666,\"#ed7953\"],[0.7777777777777778,\"#fb9f3a\"],[0.8888888888888888,\"#fdca26\"],[1.0,\"#f0f921\"]],\"diverging\":[[0,\"#8e0152\"],[0.1,\"#c51b7d\"],[0.2,\"#de77ae\"],[0.3,\"#f1b6da\"],[0.4,\"#fde0ef\"],[0.5,\"#f7f7f7\"],[0.6,\"#e6f5d0\"],[0.7,\"#b8e186\"],[0.8,\"#7fbc41\"],[0.9,\"#4d9221\"],[1,\"#276419\"]]},\"xaxis\":{\"gridcolor\":\"#283442\",\"linecolor\":\"#506784\",\"ticks\":\"\",\"title\":{\"standoff\":15},\"zerolinecolor\":\"#283442\",\"automargin\":true,\"zerolinewidth\":2},\"yaxis\":{\"gridcolor\":\"#283442\",\"linecolor\":\"#506784\",\"ticks\":\"\",\"title\":{\"standoff\":15},\"zerolinecolor\":\"#283442\",\"automargin\":true,\"zerolinewidth\":2},\"scene\":{\"xaxis\":{\"backgroundcolor\":\"rgb(17,17,17)\",\"gridcolor\":\"#506784\",\"linecolor\":\"#506784\",\"showbackground\":true,\"ticks\":\"\",\"zerolinecolor\":\"#C8D4E3\",\"gridwidth\":2},\"yaxis\":{\"backgroundcolor\":\"rgb(17,17,17)\",\"gridcolor\":\"#506784\",\"linecolor\":\"#506784\",\"showbackground\":true,\"ticks\":\"\",\"zerolinecolor\":\"#C8D4E3\",\"gridwidth\":2},\"zaxis\":{\"backgroundcolor\":\"rgb(17,17,17)\",\"gridcolor\":\"#506784\",\"linecolor\":\"#506784\",\"showbackground\":true,\"ticks\":\"\",\"zerolinecolor\":\"#C8D4E3\",\"gridwidth\":2}},\"shapedefaults\":{\"line\":{\"color\":\"#f2f5fa\"}},\"annotationdefaults\":{\"arrowcolor\":\"#f2f5fa\",\"arrowhead\":0,\"arrowwidth\":1},\"geo\":{\"bgcolor\":\"rgb(17,17,17)\",\"landcolor\":\"rgb(17,17,17)\",\"subunitcolor\":\"#506784\",\"showland\":true,\"showlakes\":true,\"lakecolor\":\"rgb(17,17,17)\"},\"title\":{\"x\":0.05},\"updatemenudefaults\":{\"bgcolor\":\"#506784\",\"borderwidth\":0},\"sliderdefaults\":{\"bgcolor\":\"#C8D4E3\",\"borderwidth\":1,\"bordercolor\":\"rgb(17,17,17)\",\"tickwidth\":0},\"mapbox\":{\"style\":\"dark\"}}},\"legend\":{\"tracegroupgap\":0},\"margin\":{\"t\":60}},                        {\"responsive\": true}                    ).then(function(){\n                            \nvar gd = document.getElementById('23ec0081-1d8c-47da-9ab2-0eb59bc3f1be');\nvar x = new MutationObserver(function (mutations, observer) {{\n        var display = window.getComputedStyle(gd).display;\n        if (!display || display === 'none') {{\n            console.log([gd, 'removed!']);\n            Plotly.purge(gd);\n            observer.disconnect();\n        }}\n}});\n\n// Listen for the removal of the full notebook cells\nvar notebookContainer = gd.closest('#notebook-container');\nif (notebookContainer) {{\n    x.observe(notebookContainer, {childList: true});\n}}\n\n// Listen for the clearing of the current output cell\nvar outputEl = gd.closest('.output');\nif (outputEl) {{\n    x.observe(outputEl, {childList: true});\n}}\n\n                        })                };                });            </script>        </div>"
     },
     "metadata": {},
     "output_type": "display_data"
    }
   ]
  },
  {
   "cell_type": "markdown",
   "metadata": {
    "papermill": {
     "duration": 0.062712,
     "end_time": "2020-10-20T21:34:07.951200",
     "exception": false,
     "start_time": "2020-10-20T21:34:07.888488",
     "status": "completed"
    },
    "tags": [],
    "id": "70pG1BCZa-qY"
   },
   "source": [
    "# Analyse the Total Amount of Money Spent by Organisation on Space Missions"
   ]
  },
  {
   "cell_type": "code",
   "metadata": {
    "id": "IaJYxwEVpKHy",
    "ExecuteTime": {
     "end_time": "2024-12-16T23:21:22.397003Z",
     "start_time": "2024-12-16T23:21:22.390739Z"
    }
   },
   "source": [
    "organization_names = list(set(df_data['Organisation'].values))\n",
    "spendings = df_data.groupby('Organisation')\n",
    "\n",
    "total_spent = [0] * len(organization_names)\n",
    "\n",
    "for i in range(len(organization_names)):\n",
    "    prices = spendings.get_group(organization_names[i])['Price'].values\n",
    "    total = sum([float(p.replace(',','')) for p in prices])\n",
    "    total_spent[i] = total\n",
    "    "
   ],
   "execution_count": 175,
   "outputs": []
  },
  {
   "cell_type": "code",
   "metadata": {
    "id": "orIFf-appPDL",
    "ExecuteTime": {
     "end_time": "2024-12-16T23:21:23.462041Z",
     "start_time": "2024-12-16T23:21:23.256661Z"
    }
   },
   "source": [
    "plt.figure(figsize=(32,8))\n",
    "plt.bar(organization_names, total_spent, color='lime')\n",
    "plt.ylabel(\"Total Spent (USD millions)\")\n",
    "plt.xlabel(\"Organization\")"
   ],
   "execution_count": 176,
   "outputs": [
    {
     "data": {
      "text/plain": "Text(0.5, 0, 'Organization')"
     },
     "execution_count": 176,
     "metadata": {},
     "output_type": "execute_result"
    },
    {
     "data": {
      "text/plain": "<Figure size 3200x800 with 1 Axes>",
      "image/png": "[encoded data removed]"
     },
     "metadata": {},
     "output_type": "display_data"
    }
   ]
  },
  {
   "cell_type": "markdown",
   "metadata": {
    "id": "DpsWkPxzpPXs"
   },
   "source": [
    "# Analyse the Amount of Money Spent by Organisation per Launch"
   ]
  },
  {
   "cell_type": "code",
   "metadata": {
    "id": "opYJ6GiRpTk5",
    "ExecuteTime": {
     "end_time": "2024-12-16T23:21:44.587915Z",
     "start_time": "2024-12-16T23:21:44.574092Z"
    }
   },
   "source": [
    "hex_chars = [0,1,2,3,4,5,6,7,8,9,'a','b','c','d','e','f']\n",
    "def random_color():\n",
    "    color = '#'\n",
    "    for _ in range(6):\n",
    "        color += str(random.choice(hex_chars))\n",
    "    return color"
   ],
   "execution_count": 177,
   "outputs": []
  },
  {
   "cell_type": "code",
   "metadata": {
    "id": "VEkHzAk2pTvj",
    "ExecuteTime": {
     "end_time": "2024-12-16T23:22:06.040665Z",
     "start_time": "2024-12-16T23:22:05.815803Z"
    }
   },
   "source": [
    "df_data = df_data.sort_values(by=['Date'])\n",
    "organization_names = list(set(df_data['Organisation'].values))\n",
    "organization_groups = df_data.groupby('Organisation')\n",
    "\n",
    "plt.figure(figsize=(16,8))\n",
    "plt.ylabel('Money Spent Per Launch (USD millions)')\n",
    "plt.ylim(0,1200)\n",
    "plt.xlabel(\"Launch Index\")\n",
    "\n",
    "for i in range(len(organization_names)):\n",
    "    launch_indexes = list(range(len(organization_groups.get_group(organization_names[i]))))\n",
    "    _x = organization_groups.get_group(organization_names[i])['Price'].values\n",
    "    launch_spendings = [float(s.replace(',','')) for s in _x]\n",
    "    plt.plot(launch_indexes, launch_spendings, color=random_color(), label=organization_names[i])\n",
    "\n",
    "plt.legend()"
   ],
   "execution_count": 179,
   "outputs": [
    {
     "data": {
      "text/plain": "<matplotlib.legend.Legend at 0x2b73b2ed0>"
     },
     "execution_count": 179,
     "metadata": {},
     "output_type": "execute_result"
    },
    {
     "data": {
      "text/plain": "<Figure size 1600x800 with 1 Axes>",
      "image/png": "[encoded data removed]"
     },
     "metadata": {},
     "output_type": "display_data"
    }
   ]
  },
  {
   "cell_type": "markdown",
   "metadata": {
    "papermill": {
     "duration": 0.042662,
     "end_time": "2020-10-20T21:34:09.943196",
     "exception": false,
     "start_time": "2020-10-20T21:34:09.900534",
     "status": "completed"
    },
    "tags": [],
    "id": "yRa1BbPoa-qf"
   },
   "source": [
    "# Chart the Number of Launches per Year"
   ]
  },
  {
   "cell_type": "code",
   "metadata": {
    "id": "_9FohVh3pcAJ",
    "ExecuteTime": {
     "end_time": "2024-12-16T23:22:12.134467Z",
     "start_time": "2024-12-16T23:22:12.106393Z"
    }
   },
   "source": [
    "df_data = pd.read_csv('mission_launches.csv')\n",
    "dates = df_data['Date'].values\n",
    "years = [int(date.split(' ')[3]) for date in dates]\n",
    "df_data['Date'] = years"
   ],
   "execution_count": 180,
   "outputs": []
  },
  {
   "cell_type": "code",
   "execution_count": 181,
   "outputs": [],
   "source": [
    "years_group = df_data.groupby('Date')\n",
    "unique_years = list(set(years))\n",
    "year_counts = [len(years_group.get_group(year)) for year in unique_years]    "
   ],
   "metadata": {
    "collapsed": false,
    "ExecuteTime": {
     "end_time": "2024-12-16T23:22:12.885621Z",
     "start_time": "2024-12-16T23:22:12.879459Z"
    }
   }
  },
  {
   "cell_type": "code",
   "metadata": {
    "id": "b2pggcZBpb4x",
    "ExecuteTime": {
     "end_time": "2024-12-16T23:22:13.460330Z",
     "start_time": "2024-12-16T23:22:13.313125Z"
    }
   },
   "source": [
    "plt.figure(figsize=(16,8))\n",
    "plt.title(\"Number of Launches Per Year\", color='cyan')\n",
    "plt.xlabel(\"Year\", color='cyan')\n",
    "plt.ylabel(\"Number of Launches\", color='cyan')\n",
    "plt.bar(unique_years, year_counts, color='purple')"
   ],
   "execution_count": 182,
   "outputs": [
    {
     "data": {
      "text/plain": "<BarContainer object of 64 artists>"
     },
     "execution_count": 182,
     "metadata": {},
     "output_type": "execute_result"
    },
    {
     "data": {
      "text/plain": "<Figure size 1600x800 with 1 Axes>",
      "image/png": "[encoded data removed]"
     },
     "metadata": {},
     "output_type": "display_data"
    }
   ]
  },
  {
   "cell_type": "markdown",
   "metadata": {
    "id": "NomJVLi3tIaM"
   },
   "source": [
    "# Chart the Number of Launches Month-on-Month until the Present\n",
    "\n",
    "Which month has seen the highest number of launches in all time? Superimpose a rolling average on the month on month time series chart. "
   ]
  },
  {
   "cell_type": "code",
   "metadata": {
    "id": "H1N2aBs5tH9z",
    "ExecuteTime": {
     "end_time": "2024-12-16T23:22:36.626033Z",
     "start_time": "2024-12-16T23:22:36.612446Z"
    }
   },
   "source": [
    "df_data = pd.read_csv('mission_launches.csv')\n",
    "dates = df_data['Date'].values\n",
    "months = [f\"{date.split(' ')[1]}\" for date in dates]\n",
    "df_data['Date'] = months"
   ],
   "execution_count": 183,
   "outputs": []
  },
  {
   "cell_type": "code",
   "metadata": {
    "id": "pfw0aX1lpdRv",
    "ExecuteTime": {
     "end_time": "2024-12-16T23:22:42.856322Z",
     "start_time": "2024-12-16T23:22:42.849957Z"
    }
   },
   "source": [
    "month_group = df_data.groupby('Date')\n",
    "unique_months = ['Jan', 'Feb', 'Mar', 'Apr', 'May', 'Jun', 'Jul', 'Aug', 'Sep', 'Oct', 'Nov', 'Dec']\n",
    "month_counts = [len(month_group.get_group(month)) for month in unique_months]"
   ],
   "execution_count": 185,
   "outputs": []
  },
  {
   "cell_type": "code",
   "execution_count": 186,
   "outputs": [
    {
     "data": {
      "text/plain": "<BarContainer object of 12 artists>"
     },
     "execution_count": 186,
     "metadata": {},
     "output_type": "execute_result"
    },
    {
     "data": {
      "text/plain": "<Figure size 1600x800 with 1 Axes>",
      "image/png": "[encoded data removed]"
     },
     "metadata": {},
     "output_type": "display_data"
    }
   ],
   "source": [
    "plt.figure(figsize=(16,8))\n",
    "plt.title(\"Total Number of Launches Per Month In All Time\", color='cyan')\n",
    "plt.xlabel(\"Month\", color='cyan')\n",
    "plt.ylabel(\"Total Number of Launches\", color='cyan')\n",
    "plt.bar(unique_months, month_counts, color='orange')"
   ],
   "metadata": {
    "collapsed": false,
    "ExecuteTime": {
     "end_time": "2024-12-16T23:22:43.713596Z",
     "start_time": "2024-12-16T23:22:43.477960Z"
    }
   }
  },
  {
   "cell_type": "markdown",
   "metadata": {
    "papermill": {
     "duration": 0.044409,
     "end_time": "2020-10-20T21:34:10.162592",
     "exception": false,
     "start_time": "2020-10-20T21:34:10.118183",
     "status": "completed"
    },
    "tags": [],
    "id": "t-avMIZoa-qh"
   },
   "source": [
    "# Launches per Month: Which months are most popular and least popular for launches?\n",
    "\n",
    "Some months have better weather than others. Which time of year seems to be best for space missions?"
   ]
  },
  {
   "cell_type": "code",
   "metadata": {
    "id": "zmtp5uBHppFG",
    "ExecuteTime": {
     "end_time": "2024-12-16T23:24:38.913709Z",
     "start_time": "2024-12-16T23:24:38.899102Z"
    }
   },
   "source": [
    "x = month_group.count().sort_values(by=['Unnamed: 0'])\n",
    "_min = x[x['Unnamed: 0']==x.iloc[0]['Unnamed: 0']]\n",
    "_max = x[x['Unnamed: 0']==x.iloc[len(x)-1]['Unnamed: 0']]\n",
    "print(f\"{_min.index.item()} is the least popular\")\n",
    "print(f\"{_max.index.item()} is the most popular\")"
   ],
   "execution_count": 194,
   "outputs": [
    {
     "name": "stdout",
     "output_type": "stream",
     "text": [
      "Jan is the least popular\n",
      "Dec is the most popular\n"
     ]
    }
   ]
  },
  {
   "cell_type": "markdown",
   "metadata": {
    "papermill": {
     "duration": 0.067915,
     "end_time": "2020-10-20T21:34:11.122539",
     "exception": false,
     "start_time": "2020-10-20T21:34:11.054624",
     "status": "completed"
    },
    "tags": [],
    "id": "dPQ_N_sfa-qo"
   },
   "source": [
    "# How has the Launch Price varied Over Time? \n",
    "\n",
    "Create a line chart that shows the average price of rocket launches over time. "
   ]
  },
  {
   "cell_type": "code",
   "metadata": {
    "id": "hFc-2M5-qCrv",
    "ExecuteTime": {
     "end_time": "2024-12-16T23:24:47.497862Z",
     "start_time": "2024-12-16T23:24:47.477722Z"
    }
   },
   "source": [
    "# see chart generated in 'Analyse the Amount of Money Spent by Organisation per Launch'"
   ],
   "execution_count": 195,
   "outputs": []
  },
  {
   "cell_type": "markdown",
   "metadata": {
    "papermill": {
     "duration": 0.047152,
     "end_time": "2020-10-20T21:34:11.681371",
     "exception": false,
     "start_time": "2020-10-20T21:34:11.634219",
     "status": "completed"
    },
    "tags": [],
    "id": "8OYrWyiOa-qs"
   },
   "source": [
    "# Chart the Number of Launches over Time by the Top 10 Organisations. \n",
    "\n",
    "How has the dominance of launches changed over time between the different players? "
   ]
  },
  {
   "cell_type": "code",
   "metadata": {
    "id": "RcsrPPpAqVFj",
    "ExecuteTime": {
     "end_time": "2024-12-16T23:45:30.021086Z",
     "start_time": "2024-12-16T23:45:29.979131Z"
    }
   },
   "source": [
    "months = {'Jan':1, 'Feb':2, 'Mar':3, 'Apr':4, 'May':5, 'Jun':6, 'Jul':7, 'Aug':8, 'Sep':9, 'Oct':10, 'Nov':11, 'Dec':12}\n",
    "\n",
    "def convert_to_ymd(original_format):\n",
    "    splitted = original_format.split(' ')\n",
    "    month = str(months[ splitted[1] ]).zfill(2)\n",
    "    day = str(splitted[2][:-1]).zfill(2)\n",
    "    year = splitted[3]\n",
    "    return f\"{year}-{month}-{day}\""
   ],
   "execution_count": 223,
   "outputs": []
  },
  {
   "cell_type": "code",
   "execution_count": 248,
   "outputs": [
    {
     "data": {
      "text/plain": "Text(0, 0.5, 'Number of Launches')"
     },
     "execution_count": 248,
     "metadata": {},
     "output_type": "execute_result"
    },
    {
     "data": {
      "text/plain": "<Figure size 1600x800 with 1 Axes>",
      "image/png": "[encoded data removed]"
     },
     "metadata": {},
     "output_type": "display_data"
    }
   ],
   "source": [
    "df_data_copy = df_data.copy()\n",
    "df_data_copy = df_data_copy.dropna()\n",
    "df_data_copy = df_data_copy.drop_duplicates()\n",
    "\n",
    "top10_organizations = df_data.groupby('Organisation').count().sort_values(by=['Unnamed: 0'], ascending=False)[:10]\n",
    "top10_organizations = top10_organizations.index.tolist()\n",
    "\n",
    "dates_ymd = [convert_to_ymd(date) for date in df_data_copy.Date.values]\n",
    "\n",
    "df_data_copy['Date'] = dates_ymd\n",
    "df_data_copy = df_data_copy.sort_values(by='Date', ascending=True)\n",
    "\n",
    "plt.figure(figsize=(16,8))\n",
    "for o in range(len(top10_organizations)):\n",
    "    org_name = top10_organizations[o]\n",
    "    org_launches = df_data_copy[df_data_copy['Organisation']==org_name]\n",
    "    \n",
    "    date_groups = org_launches.groupby('Date').count().index.tolist()\n",
    "    launches = [count[0] for count in org_launches.groupby('Date').count().values.tolist()]\n",
    "    plt.plot(date_groups, launches, label=org_name, color=random_color())    \n",
    "\n",
    "plt.legend()\n",
    "plt.title(\"Number of Launches over Time by the Top 10 Organisations\")\n",
    "plt.xlabel(\"Date\")\n",
    "plt.ylabel(\"Number of Launches\")"
   ],
   "metadata": {
    "collapsed": false,
    "ExecuteTime": {
     "end_time": "2024-12-16T23:59:49.650627Z",
     "start_time": "2024-12-16T23:59:47.839701Z"
    }
   }
  },
  {
   "cell_type": "markdown",
   "metadata": {
    "papermill": {
     "duration": 0.052399,
     "end_time": "2020-10-20T21:34:13.756781",
     "exception": false,
     "start_time": "2020-10-20T21:34:13.704382",
     "status": "completed"
    },
    "tags": [],
    "id": "6Cm8_ch6a-q7"
   },
   "source": [
    "# Cold War Space Race: USA vs USSR\n",
    "\n",
    "The cold war lasted from the start of the dataset up until 1991. "
   ]
  },
  {
   "cell_type": "code",
   "metadata": {
    "id": "AcE_U8csrICL",
    "ExecuteTime": {
     "end_time": "2024-12-17T01:01:26.008830Z",
     "start_time": "2024-12-17T01:01:25.955374Z"
    }
   },
   "source": [
    "df_data_copy = df_data.copy().dropna().drop_duplicates()\n",
    "\n",
    "# convert dates to years only\n",
    "_dates = df_data_copy['Date'].values.tolist()\n",
    "_years = [ int(date.split(' ')[3]) for date in _dates ]\n",
    "df_data_copy['Date'] = _years\n",
    "\n",
    "# convert locations to countries alone\n",
    "_locations = df_data_copy['Location'].values.tolist()\n",
    "_countries = [loc.split(' ')[-1] for loc in _locations]\n",
    "df_data_copy['Location'] = _countries\n",
    "\n",
    "df_data_cold_war = df_data_copy[df_data_copy['Date']<=1991]\n",
    "df_data_cold_war = df_data_cold_war[\n",
    "    (df_data_copy['Location']=='USA') | \n",
    "    (df_data_copy['Location']=='Russia') | \n",
    "    (df_data_copy['Location']=='Kazakhstan')\n",
    "]"
   ],
   "execution_count": 306,
   "outputs": [
    {
     "name": "stderr",
     "output_type": "stream",
     "text": [
      "/var/folders/hh/_2x0r4k109x_pxv75wjltqt40000gn/T/ipykernel_2422/107811290.py:14: UserWarning:\n",
      "\n",
      "Boolean Series key will be reindexed to match DataFrame index.\n",
      "\n"
     ]
    }
   ]
  },
  {
   "cell_type": "markdown",
   "metadata": {
    "papermill": {
     "duration": 0.054318,
     "end_time": "2020-10-20T21:34:14.089604",
     "exception": false,
     "start_time": "2020-10-20T21:34:14.035286",
     "status": "completed"
    },
    "tags": [],
    "id": "Os-3A5vLa-q9"
   },
   "source": [
    "## Create a Plotly Pie Chart comparing the total number of launches of the USSR and the USA\n",
    "\n",
    "Hint: Remember to include former Soviet Republics like Kazakhstan when analysing the total number of launches. "
   ]
  },
  {
   "cell_type": "code",
   "metadata": {
    "id": "OhhuLQycrEE-",
    "ExecuteTime": {
     "end_time": "2024-12-17T01:01:27.691350Z",
     "start_time": "2024-12-17T01:01:27.649908Z"
    }
   },
   "source": [
    "organization_names = list(set(df_data_cold_war['Organisation'].values))\n",
    "launch_counts = []\n",
    "for org in organization_names:\n",
    "    launch_counts.append( len(df_data_cold_war.groupby('Organisation').get_group(org)) )\n",
    "plt.pie(launch_counts, labels=organization_names)"
   ],
   "execution_count": 307,
   "outputs": [
    {
     "data": {
      "text/plain": "([<matplotlib.patches.Wedge at 0x2bb840f10>,\n  <matplotlib.patches.Wedge at 0x2bb841150>,\n  <matplotlib.patches.Wedge at 0x2bb8426d0>,\n  <matplotlib.patches.Wedge at 0x2bb843590>,\n  <matplotlib.patches.Wedge at 0x2bb8503d0>],\n [Text(1.0974356460141006, 0.07506665609718889, 'Northrop'),\n  Text(-0.5391211554665737, 0.9588265639459446, 'NASA'),\n  Text(0.22380139789077624, -1.0769925414329176, 'US Air Force'),\n  Text(1.0089323334266223, -0.4382414249775019, 'RVSN USSR'),\n  Text(1.0840054267875872, -0.18690167119386872, 'Martin Marietta')])"
     },
     "execution_count": 307,
     "metadata": {},
     "output_type": "execute_result"
    },
    {
     "data": {
      "text/plain": "<Figure size 640x480 with 1 Axes>",
      "image/png": "[encoded data removed]"
     },
     "metadata": {},
     "output_type": "display_data"
    }
   ]
  },
  {
   "cell_type": "markdown",
   "metadata": {
    "papermill": {
     "duration": 0.052921,
     "end_time": "2020-10-20T21:34:14.340085",
     "exception": false,
     "start_time": "2020-10-20T21:34:14.287164",
     "status": "completed"
    },
    "tags": [],
    "id": "0C29Zz4xa-rA"
   },
   "source": [
    "## Create a Chart that Shows the Total Number of Launches Year-On-Year by the Two Superpowers"
   ]
  },
  {
   "cell_type": "code",
   "metadata": {
    "id": "9ISKvOiCrS73",
    "ExecuteTime": {
     "end_time": "2024-12-17T01:12:55.529610Z",
     "start_time": "2024-12-17T01:12:55.496027Z"
    }
   },
   "source": [
    "_sorted_years = list(set(sorted(_years)))\n",
    "usa_total_launches = [0] * len(_sorted_years)\n",
    "soviet_total_launches = [0] * len(_sorted_years)\n",
    "\n",
    "for y in range(len(_sorted_years)):\n",
    "    _year = _sorted_years[y]\n",
    "    this_year = df_data_cold_war[df_data_cold_war['Date'] == _year]\n",
    "    \n",
    "    usa_launches_this_year = len(this_year[(this_year['Location'] == 'USA')])\n",
    "    soviet_launches_this_year = len(this_year) - usa_launches_this_year\n",
    "    \n",
    "    usa_total_launches[y] = usa_launches_this_year\n",
    "    soviet_total_launches[y] = soviet_launches_this_year    "
   ],
   "execution_count": 314,
   "outputs": []
  },
  {
   "cell_type": "code",
   "metadata": {
    "id": "oCc7VTzGrTK-",
    "ExecuteTime": {
     "end_time": "2024-12-17T01:12:56.142485Z",
     "start_time": "2024-12-17T01:12:56.011829Z"
    }
   },
   "source": [
    "plt.figure(figsize=(16,8))\n",
    "plt.plot(_sorted_years, usa_total_launches, color='blue', label='USA')\n",
    "plt.plot(_sorted_years, soviet_total_launches, color='red', label='Soviet Union')\n",
    "plt.xlabel(\"Year\")\n",
    "plt.ylabel(\"Number of Launches\")\n",
    "plt.title(\"Total Number of Launches Year-On-Year by the Two Superpowers\")\n",
    "plt.legend()"
   ],
   "execution_count": 315,
   "outputs": [
    {
     "data": {
      "text/plain": "<matplotlib.legend.Legend at 0x2bb948a90>"
     },
     "execution_count": 315,
     "metadata": {},
     "output_type": "execute_result"
    },
    {
     "data": {
      "text/plain": "<Figure size 1600x800 with 1 Axes>",
      "image/png": "[encoded data removed]"
     },
     "metadata": {},
     "output_type": "display_data"
    }
   ]
  },
  {
   "cell_type": "markdown",
   "metadata": {
    "papermill": {
     "duration": 0.079311,
     "end_time": "2020-10-20T21:34:14.933058",
     "exception": false,
     "start_time": "2020-10-20T21:34:14.853747",
     "status": "completed"
    },
    "tags": [],
    "id": "eWv4iZmra-rE"
   },
   "source": [
    "## Chart the Total Number of Mission Failures Year on Year."
   ]
  },
  {
   "cell_type": "code",
   "metadata": {
    "id": "I-Zss5-Mre-4",
    "ExecuteTime": {
     "end_time": "2024-12-17T01:12:59.894206Z",
     "start_time": "2024-12-17T01:12:59.748445Z"
    }
   },
   "source": [
    "df_data_copy = df_data.copy().dropna().drop_duplicates()\n",
    "_dates = df_data_copy['Date'].values.tolist()\n",
    "_years = [ int(date.split(' ')[3]) for date in _dates ]\n",
    "df_data_copy['Date'] = _years\n",
    "\n",
    "_sorted_years = list(set(sorted(_years)))\n",
    "_failures_per_year = [0] * len(_sorted_years)\n",
    "\n",
    "for y in range(len(_sorted_years)):\n",
    "    _failures_per_year[y] = len(df_data_copy[(df_data_copy['Date']==_sorted_years[y]) & (df_data_copy['Mission_Status']=='Failure')])\n",
    "\n",
    "plt.figure(figsize=(16,8))\n",
    "plt.bar(_sorted_years, _failures_per_year, color='cyan')\n",
    "plt.xlabel(\"Year\", color='cyan')\n",
    "plt.ylabel(\"Number of Failures\", color='cyan')\n",
    "plt.title(\"Total Number of Mission Failures Year on Year\", color='cyan')"
   ],
   "execution_count": 316,
   "outputs": [
    {
     "data": {
      "text/plain": "Text(0.5, 1.0, 'Total Number of Mission Failures Year on Year')"
     },
     "execution_count": 316,
     "metadata": {},
     "output_type": "execute_result"
    },
    {
     "data": {
      "text/plain": "<Figure size 1600x800 with 1 Axes>",
      "image/png": "[encoded data removed]"
     },
     "metadata": {},
     "output_type": "display_data"
    }
   ]
  },
  {
   "cell_type": "markdown",
   "metadata": {
    "id": "XNp-NkrJriEF"
   },
   "source": [
    "## Chart the Percentage of Failures over Time\n",
    "\n",
    "Did failures go up or down over time? Did the countries get better at minimising risk and improving their chances of success over time? "
   ]
  },
  {
   "cell_type": "code",
   "metadata": {
    "id": "Kj3-zsI0rhOS",
    "ExecuteTime": {
     "end_time": "2024-12-17T01:13:03.553890Z",
     "start_time": "2024-12-17T01:13:03.429782Z"
    }
   },
   "source": [
    "total_failure_count = sum(_failures_per_year)\n",
    "plt.figure(figsize=(16,8))\n",
    "plt.plot(_sorted_years, [(fpy/total_failure_count)*100 for fpy in _failures_per_year], color='lime')\n",
    "plt.xlabel(\"Year\", color='lime')\n",
    "plt.ylabel(\"Percent of Total Failures (%)\", color='lime')\n",
    "plt.title(\"Percentage of Total Mission Failures Year on Year\", color='lime')"
   ],
   "execution_count": 317,
   "outputs": [
    {
     "data": {
      "text/plain": "Text(0.5, 1.0, 'Percentage of Total Mission Failures Year on Year')"
     },
     "execution_count": 317,
     "metadata": {},
     "output_type": "execute_result"
    },
    {
     "data": {
      "text/plain": "<Figure size 1600x800 with 1 Axes>",
      "image/png": "[encoded data removed]"
     },
     "metadata": {},
     "output_type": "display_data"
    }
   ]
  },
  {
   "cell_type": "markdown",
   "metadata": {
    "id": "S5aOC7bGr2OX"
   },
   "source": [
    "# For Every Year Show which Country was in the Lead in terms of Total Number of Launches up to and including including 2020)\n",
    "\n",
    "Do the results change if we only look at the number of successful launches? "
   ]
  },
  {
   "cell_type": "code",
   "metadata": {
    "id": "_h0grIXKsOz_",
    "ExecuteTime": {
     "end_time": "2024-12-17T01:13:04.996929Z",
     "start_time": "2024-12-17T01:13:04.935238Z"
    }
   },
   "source": [
    "df_data_copy = df_data.copy().dropna().drop_duplicates()\n",
    "_dates = df_data_copy['Date'].values.tolist()\n",
    "_years = [ int(date.split(' ')[3]) for date in _dates ]\n",
    "\n",
    "_locations = df_data_copy['Location'].values.tolist()\n",
    "_countries = [loc.split(' ')[-1] for loc in _locations]\n",
    "\n",
    "df_data_copy['Date'] = _years\n",
    "df_data_copy['Location'] = _countries\n",
    "\n",
    "_sorted_years = list(set(sorted(_years)))\n",
    "\n",
    "results = {}\n",
    "\n",
    "for y in range(len(_sorted_years)):\n",
    "    _year = _sorted_years[y]\n",
    "    \n",
    "    successful_launches_this_year = df_data_copy[(df_data_copy['Date']==_year) & (df_data_copy['Mission_Status']=='Success')]\n",
    "    slty_org_groups = successful_launches_this_year.groupby('Organisation').count().sort_values(by='Location', ascending=False)\n",
    "    \n",
    "    all_launches_this_year = df_data_copy[(df_data_copy['Date']==_sorted_years[y])]\n",
    "    alty_org_groups = all_launches_this_year.groupby('Organisation').count().sort_values(by='Location', ascending=False)\n",
    "    \n",
    "    results[str(_year)] = {\n",
    "        'most_total_launches':alty_org_groups.index.tolist()[0], \n",
    "        'most_successful_launches':slty_org_groups.index.tolist()[0]\n",
    "    }\n",
    "    \n",
    "pprint(results)"
   ],
   "execution_count": 318,
   "outputs": [
    {
     "name": "stdout",
     "output_type": "stream",
     "text": [
      "{'1964': {'most_successful_launches': 'US Air Force',\n",
      "          'most_total_launches': 'US Air Force'},\n",
      " '1965': {'most_successful_launches': 'US Air Force',\n",
      "          'most_total_launches': 'US Air Force'},\n",
      " '1966': {'most_successful_launches': 'US Air Force',\n",
      "          'most_total_launches': 'US Air Force'},\n",
      " '1967': {'most_successful_launches': 'US Air Force',\n",
      "          'most_total_launches': 'US Air Force'},\n",
      " '1968': {'most_successful_launches': 'US Air Force',\n",
      "          'most_total_launches': 'US Air Force'},\n",
      " '1969': {'most_successful_launches': 'NASA', 'most_total_launches': 'NASA'},\n",
      " '1970': {'most_successful_launches': 'NASA', 'most_total_launches': 'NASA'},\n",
      " '1971': {'most_successful_launches': 'NASA', 'most_total_launches': 'NASA'},\n",
      " '1972': {'most_successful_launches': 'NASA', 'most_total_launches': 'NASA'},\n",
      " '1973': {'most_successful_launches': 'NASA', 'most_total_launches': 'NASA'},\n",
      " '1981': {'most_successful_launches': 'NASA', 'most_total_launches': 'NASA'},\n",
      " '1982': {'most_successful_launches': 'NASA', 'most_total_launches': 'NASA'},\n",
      " '1983': {'most_successful_launches': 'NASA', 'most_total_launches': 'NASA'},\n",
      " '1984': {'most_successful_launches': 'NASA', 'most_total_launches': 'NASA'},\n",
      " '1985': {'most_successful_launches': 'NASA', 'most_total_launches': 'NASA'},\n",
      " '1986': {'most_successful_launches': 'CASC', 'most_total_launches': 'NASA'},\n",
      " '1987': {'most_successful_launches': 'CASC', 'most_total_launches': 'CASC'},\n",
      " '1988': {'most_successful_launches': 'NASA', 'most_total_launches': 'NASA'},\n",
      " '1989': {'most_successful_launches': 'NASA', 'most_total_launches': 'NASA'},\n",
      " '1990': {'most_successful_launches': 'NASA', 'most_total_launches': 'NASA'},\n",
      " '1991': {'most_successful_launches': 'NASA', 'most_total_launches': 'NASA'},\n",
      " '1992': {'most_successful_launches': 'NASA', 'most_total_launches': 'NASA'},\n",
      " '1993': {'most_successful_launches': 'NASA', 'most_total_launches': 'NASA'},\n",
      " '1994': {'most_successful_launches': 'NASA', 'most_total_launches': 'NASA'},\n",
      " '1995': {'most_successful_launches': 'NASA', 'most_total_launches': 'NASA'},\n",
      " '1996': {'most_successful_launches': 'NASA', 'most_total_launches': 'NASA'},\n",
      " '1997': {'most_successful_launches': 'NASA', 'most_total_launches': 'NASA'},\n",
      " '1998': {'most_successful_launches': 'Northrop',\n",
      "          'most_total_launches': 'Northrop'},\n",
      " '1999': {'most_successful_launches': 'Northrop',\n",
      "          'most_total_launches': 'Northrop'},\n",
      " '2000': {'most_successful_launches': 'NASA', 'most_total_launches': 'NASA'},\n",
      " '2001': {'most_successful_launches': 'NASA', 'most_total_launches': 'NASA'},\n",
      " '2002': {'most_successful_launches': 'NASA', 'most_total_launches': 'NASA'},\n",
      " '2003': {'most_successful_launches': 'CASC', 'most_total_launches': 'CASC'},\n",
      " '2004': {'most_successful_launches': 'CASC', 'most_total_launches': 'CASC'},\n",
      " '2005': {'most_successful_launches': 'CASC', 'most_total_launches': 'CASC'},\n",
      " '2006': {'most_successful_launches': 'Arianespace',\n",
      "          'most_total_launches': 'Arianespace'},\n",
      " '2007': {'most_successful_launches': 'CASC', 'most_total_launches': 'CASC'},\n",
      " '2008': {'most_successful_launches': 'CASC', 'most_total_launches': 'CASC'},\n",
      " '2009': {'most_successful_launches': 'ULA', 'most_total_launches': 'ULA'},\n",
      " '2010': {'most_successful_launches': 'ULA', 'most_total_launches': 'ULA'},\n",
      " '2011': {'most_successful_launches': 'ULA', 'most_total_launches': 'ULA'},\n",
      " '2012': {'most_successful_launches': 'ULA', 'most_total_launches': 'ULA'},\n",
      " '2013': {'most_successful_launches': 'ULA', 'most_total_launches': 'ULA'},\n",
      " '2014': {'most_successful_launches': 'ULA', 'most_total_launches': 'ULA'},\n",
      " '2015': {'most_successful_launches': 'ULA', 'most_total_launches': 'ULA'},\n",
      " '2016': {'most_successful_launches': 'CASC', 'most_total_launches': 'CASC'},\n",
      " '2017': {'most_successful_launches': 'SpaceX',\n",
      "          'most_total_launches': 'SpaceX'},\n",
      " '2018': {'most_successful_launches': 'CASC', 'most_total_launches': 'CASC'},\n",
      " '2019': {'most_successful_launches': 'CASC', 'most_total_launches': 'CASC'},\n",
      " '2020': {'most_successful_launches': 'CASC', 'most_total_launches': 'CASC'}}\n"
     ]
    }
   ]
  },
  {
   "cell_type": "markdown",
   "metadata": {
    "id": "jQcqBfJ8serG"
   },
   "source": [
    "# Create a Year-on-Year Chart Showing the Organisation Doing the Most Number of Launches\n",
    "\n",
    "Which organisation was dominant in the 1970s and 1980s? Which organisation was dominant in 2018, 2019 and 2020? "
   ]
  },
  {
   "cell_type": "code",
   "metadata": {
    "id": "jc9ImQEWsztG",
    "ExecuteTime": {
     "end_time": "2024-12-17T01:19:48.113768Z",
     "start_time": "2024-12-17T01:19:48.101888Z"
    }
   },
   "source": [
    "results_2018 = results['2018']\n",
    "print(f\"2018 - {results_2018}\")\n",
    "results_2019 = results['2019']\n",
    "print(f\"2019 - {results_2019}\")\n",
    "results_2020 = results['2020']\n",
    "print(f\"2020 - {results_2020}\")"
   ],
   "execution_count": 322,
   "outputs": [
    {
     "name": "stdout",
     "output_type": "stream",
     "text": [
      "2018 - {'most_total_launches': 'CASC', 'most_successful_launches': 'CASC'}\n",
      "2019 - {'most_total_launches': 'CASC', 'most_successful_launches': 'CASC'}\n",
      "2020 - {'most_total_launches': 'CASC', 'most_successful_launches': 'CASC'}\n"
     ]
    }
   ]
  },
  {
   "cell_type": "code",
   "metadata": {
    "id": "r5frxzwlsz5W",
    "ExecuteTime": {
     "end_time": "2024-12-17T01:22:09.503930Z",
     "start_time": "2024-12-17T01:22:09.449520Z"
    }
   },
   "source": [
    "years_70s = [year for year in results.keys() if 1970<=int(year)<=1979]\n",
    "for y70 in years_70s:\n",
    "    print(f\"{y70} - {results[y70]}\")\n",
    "\n",
    "years_80s = [year for year in results.keys() if 1980<=int(year)<=1989]\n",
    "for y80 in years_80s:\n",
    "    print(f\"{y80} - {results[y80]}\")"
   ],
   "execution_count": 326,
   "outputs": [
    {
     "name": "stdout",
     "output_type": "stream",
     "text": [
      "1970 - {'most_total_launches': 'NASA', 'most_successful_launches': 'NASA'}\n",
      "1971 - {'most_total_launches': 'NASA', 'most_successful_launches': 'NASA'}\n",
      "1972 - {'most_total_launches': 'NASA', 'most_successful_launches': 'NASA'}\n",
      "1973 - {'most_total_launches': 'NASA', 'most_successful_launches': 'NASA'}\n",
      "1981 - {'most_total_launches': 'NASA', 'most_successful_launches': 'NASA'}\n",
      "1982 - {'most_total_launches': 'NASA', 'most_successful_launches': 'NASA'}\n",
      "1983 - {'most_total_launches': 'NASA', 'most_successful_launches': 'NASA'}\n",
      "1984 - {'most_total_launches': 'NASA', 'most_successful_launches': 'NASA'}\n",
      "1985 - {'most_total_launches': 'NASA', 'most_successful_launches': 'NASA'}\n",
      "1986 - {'most_total_launches': 'NASA', 'most_successful_launches': 'CASC'}\n",
      "1987 - {'most_total_launches': 'CASC', 'most_successful_launches': 'CASC'}\n",
      "1988 - {'most_total_launches': 'NASA', 'most_successful_launches': 'NASA'}\n",
      "1989 - {'most_total_launches': 'NASA', 'most_successful_launches': 'NASA'}\n"
     ]
    }
   ]
  }
 ]
}
